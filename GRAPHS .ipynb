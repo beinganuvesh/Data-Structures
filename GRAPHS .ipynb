{
 "cells": [
  {
   "cell_type": "code",
   "execution_count": null,
   "metadata": {},
   "outputs": [],
   "source": [
    "from collections import defaultdict\n",
    "graph=defaultdict(list)\n",
    "for u,v in array:\n",
    "    graph[u].append(v)"
   ]
  },
  {
   "cell_type": "code",
   "execution_count": null,
   "metadata": {},
   "outputs": [],
   "source": [
    "graph=[[] for i in range(n)]\n",
    "for u,v in array:\n",
    "    graph[u].append(v)"
   ]
  },
  {
   "cell_type": "code",
   "execution_count": null,
   "metadata": {},
   "outputs": [],
   "source": []
  },
  {
   "cell_type": "code",
   "execution_count": null,
   "metadata": {},
   "outputs": [],
   "source": []
  },
  {
   "cell_type": "code",
   "execution_count": 2,
   "metadata": {},
   "outputs": [],
   "source": [
    "import queue\n",
    "class Graph:\n",
    "    def __init__(self, nvertices):\n",
    "        self.nvertices = nvertices\n",
    "        self.adjMatrix = [[0 for j in range(nvertices)] for i in range(nvertices)]\n",
    "        \n",
    "    def add_edge(self, v1, v2):\n",
    "        self.adjMatrix[v1][v2]=1\n",
    "        self.adjMatrix[v2][v1]=1\n",
    "    \n",
    "    def remove_edge(self, v1, v2):\n",
    "        if self.contains_edge(v1, v2) is False:\n",
    "            return\n",
    "        self.adjMatrix[v1][v2]=0\n",
    "        self.adjMatrix[v2][v1]=0\n",
    "        \n",
    "    def contains_edge(self, v1, v2):\n",
    "        if self.adjMatrix[v1][v2]==1:\n",
    "            return True\n",
    "        else:\n",
    "            return False\n",
    "        \n",
    "        \n",
    "    def DFS_Helper(self, sv, visited):\n",
    "        print(sv)\n",
    "        visited[sv]=True\n",
    "        for i in range(self.nvertices):\n",
    "            if self.adjMatrix[sv][i]==1 and visited[i]==False:\n",
    "                self.DFS_Helper(i, visited)\n",
    "                \n",
    "    def DFS(self):\n",
    "        visited = [False for i in range(self.nvertices)]\n",
    "        for i in range(self.nvertices):\n",
    "            if visited[i]==False:\n",
    "                 self.BFS_Helper(i, visited)\n",
    "    \n",
    "    \n",
    "    def BFS_Helper(self, sv, visited):\n",
    "        q = queue.Queue()\n",
    "        #Add\n",
    "        q.put(sv)\n",
    "        #Mark\n",
    "        visited[sv]=True\n",
    "        \n",
    "        while q.empty() is False:\n",
    "            current = q.get()\n",
    "            #Work\n",
    "            print(current)\n",
    "            #Put\n",
    "            for i in range(self.nvertices):\n",
    "                if self.adjMatrix[current][i]==1 and visited[i]==False:\n",
    "                    visited[i]=True\n",
    "                    q.put(i)\n",
    "    def BFS(self):\n",
    "        visited = [False for i in range(self.nvertices)]\n",
    "        #This loop is ensuring the disconnected graph\n",
    "        for i in range(self.nvertices):\n",
    "            if visited[i]==False:\n",
    "                 self.BFS_Helper(i, visited)\n",
    "    \n",
    "    #Printing the graph\n",
    "    def __str__(self):\n",
    "        return str(self.adjMatrix)"
   ]
  },
  {
   "cell_type": "code",
   "execution_count": 3,
   "metadata": {},
   "outputs": [],
   "source": [
    "g = Graph(7)\n",
    "g.add_edge(0,1)\n",
    "g.add_edge(0,2)\n",
    "g.add_edge(1,3)\n",
    "g.add_edge(2,6)\n",
    "g.add_edge(1,4)\n",
    "g.add_edge(4,5)\n",
    "g.add_edge(5,6)\n"
   ]
  },
  {
   "cell_type": "code",
   "execution_count": null,
   "metadata": {},
   "outputs": [],
   "source": [
    "g.DFS()"
   ]
  },
  {
   "cell_type": "code",
   "execution_count": null,
   "metadata": {},
   "outputs": [],
   "source": [
    "g.BFS()"
   ]
  },
  {
   "cell_type": "code",
   "execution_count": null,
   "metadata": {},
   "outputs": [],
   "source": []
  },
  {
   "cell_type": "code",
   "execution_count": null,
   "metadata": {},
   "outputs": [],
   "source": []
  },
  {
   "cell_type": "markdown",
   "metadata": {},
   "source": [
    "## SHORTEST PATH/REACH - BFS"
   ]
  },
  {
   "cell_type": "code",
   "execution_count": null,
   "metadata": {},
   "outputs": [],
   "source": [
    "import queue\n",
    "class Graph:\n",
    "    def __init__(self, nvertices):\n",
    "        self.nvertices = nvertices\n",
    "        self.adjMat = [[0 for j in range(nvertices+1)] for i in range(nvertices+1)]\n",
    "    def add_edge(self, v1, v2):\n",
    "        self.adjMat[v1][v2]=1\n",
    "        self.adjMat[v2][v1]=1 \n",
    "    \n",
    "    \n",
    "    def BFS_Helper(self, sv, visited, distance):\n",
    "        q = queue.Queue()\n",
    "        q.put(sv)\n",
    "        visited[sv]=True\n",
    "        distance[sv]=0\n",
    "            \n",
    "        while q.empty() is False:\n",
    "            current = q.get()\n",
    "            for i in range(1, self.nvertices+1):\n",
    "                if self.adjMat[current][i]==1 and visited[i]==False:\n",
    "                    visited[i]=True\n",
    "                    q.put(i)\n",
    "                    distance[i] = distance[current]+1\n",
    "            \n",
    "    def BFS(self, sv):\n",
    "        distance = [-1 for i in range(self.nvertices+1)]\n",
    "        visited = [False for i in range(self.nvertices+1)]\n",
    "        #This loop is ensuring the disconnected graph\n",
    "        for i in range(1, self.nvertices+1):\n",
    "            if visited[i]==False:\n",
    "                if i==sv:\n",
    "                    continue\n",
    "                else:\n",
    "                    self.BFS_Helper(sv, visited, distance)\n",
    "        return distance"
   ]
  },
  {
   "cell_type": "code",
   "execution_count": null,
   "metadata": {},
   "outputs": [],
   "source": [
    "n, edges = 5, 3\n",
    "e = [[1,2], [1,3], [3,4]]"
   ]
  },
  {
   "cell_type": "code",
   "execution_count": null,
   "metadata": {},
   "outputs": [],
   "source": [
    "g = Graph(n)\n",
    "for i in range(edges):\n",
    "    g.add_edge(e[i][0], e[i][1])"
   ]
  },
  {
   "cell_type": "code",
   "execution_count": null,
   "metadata": {},
   "outputs": [],
   "source": [
    "import numpy as np\n",
    "a = g.BFS(1)\n",
    "ans=[]\n",
    "for i in a:\n",
    "    if i==-1:\n",
    "        ans.append(i)\n",
    "    elif i!=0:\n",
    "        ans.append(i*6)"
   ]
  },
  {
   "cell_type": "code",
   "execution_count": null,
   "metadata": {},
   "outputs": [],
   "source": []
  },
  {
   "cell_type": "code",
   "execution_count": null,
   "metadata": {},
   "outputs": [],
   "source": []
  },
  {
   "cell_type": "markdown",
   "metadata": {},
   "source": [
    "# TOPOLOGICAL SORT (for directed acylic graph)"
   ]
  },
  {
   "cell_type": "markdown",
   "metadata": {},
   "source": [
    "####  DFS"
   ]
  },
  {
   "cell_type": "code",
   "execution_count": 8,
   "metadata": {},
   "outputs": [],
   "source": [
    "def dfs(sv, visited, adjlist, stack):\n",
    "    visited[sv]=True\n",
    "    for i in adjlist:\n",
    "        if visited[i]==False:\n",
    "            dfs(i, visited, adjlist, stack)\n",
    "    stack.append(sv)\n",
    "    \n",
    "def TopologicalSort(n, adjlist):\n",
    "    visited=[False for i in range(n)]\n",
    "    stack=[]\n",
    "    for i in range(n):\n",
    "        if visited[i]==False:\n",
    "            dfs(i, visited, adjlist, stack)\n",
    "            \n",
    "    return stack[::-1]\n",
    "            "
   ]
  },
  {
   "cell_type": "markdown",
   "metadata": {},
   "source": [
    "#### BFS"
   ]
  },
  {
   "cell_type": "code",
   "execution_count": 9,
   "metadata": {},
   "outputs": [],
   "source": [
    "import queue\n",
    "def TPS_BFS(n, adj):\n",
    "    indegree=[0 for i in range(n)]\n",
    "    q=queue.Queue()\n",
    "    \n",
    "    #Calculate the indegree\n",
    "    for i in adj:\n",
    "        for j in adj[i]:\n",
    "            indegree[j]+=1\n",
    "        \n",
    "    #Push the elements which have degree=0\n",
    "    for i in range(n):\n",
    "        if indegree[i]==0:\n",
    "            q.push(i)\n",
    "         \n",
    "    cnt=0\n",
    "    res=[]\n",
    "    while q:\n",
    "        #Remove the element\n",
    "        current=q.get()\n",
    "        \n",
    "        #Store the result\n",
    "        res.append(current)\n",
    "        \n",
    "        #Add into the queue which have degree 0\n",
    "        for i in adj[current]:\n",
    "            indegree[i]-=1\n",
    "            if indegree[i]==0:\n",
    "                q.push(i)\n",
    "        cnt+=1\n",
    "        \n",
    "        \n",
    "    if cnt!=n:\n",
    "        print('There exist a cycle in a graph')\n",
    "    else:\n",
    "        print(res)"
   ]
  },
  {
   "cell_type": "code",
   "execution_count": null,
   "metadata": {},
   "outputs": [],
   "source": []
  },
  {
   "cell_type": "code",
   "execution_count": null,
   "metadata": {},
   "outputs": [],
   "source": []
  },
  {
   "cell_type": "markdown",
   "metadata": {},
   "source": [
    "#  APPLICATIONS OF TOPOLOGICAL SORT"
   ]
  },
  {
   "cell_type": "markdown",
   "metadata": {},
   "source": [
    "#### LONGEST PATH IN THE DIRECTED ACYCLIC GRAPH"
   ]
  },
  {
   "cell_type": "code",
   "execution_count": 2,
   "metadata": {},
   "outputs": [],
   "source": [
    "def Topological(sv, visited, adj, stack):\n",
    "    visited[s]=True\n",
    "    for i in adj[sv]:\n",
    "        if visited[i]==False:\n",
    "            Topological(i, visited, adj, stack)\n",
    "    stack.append(sv)\n",
    "\n",
    "def Longest_Path_in_DAG(n, adj, source):\n",
    "    visited=[False for i in range(n)]\n",
    "    distance=[-sys.maxsize for i in range(n)]\n",
    "    \n",
    "    \n",
    "    stack=[]\n",
    "    for i in range(n):\n",
    "        if visited[i]==False:\n",
    "            Topological(source, visited, adj, stack)\n",
    "            \n",
    "            \n",
    "    distance[source]=0\n",
    "    while len(stack)>0:\n",
    "        top=stack[-1]\n",
    "        stack.pop(-1)\n",
    "        \n",
    "        for i in adj[top]:\n",
    "            if distance[i]<distance[top]+i:\n",
    "                distance[i]=distance[top]+i\n",
    "                \n",
    "    return distance  "
   ]
  },
  {
   "cell_type": "code",
   "execution_count": null,
   "metadata": {},
   "outputs": [],
   "source": []
  },
  {
   "cell_type": "code",
   "execution_count": null,
   "metadata": {},
   "outputs": [],
   "source": []
  },
  {
   "cell_type": "code",
   "execution_count": null,
   "metadata": {},
   "outputs": [],
   "source": []
  },
  {
   "cell_type": "markdown",
   "metadata": {},
   "source": [
    "# DETECT CYCLES "
   ]
  },
  {
   "cell_type": "markdown",
   "metadata": {},
   "source": [
    " #### DIRECTED GRAPH (DFS)"
   ]
  },
  {
   "cell_type": "code",
   "execution_count": 7,
   "metadata": {},
   "outputs": [],
   "source": [
    "def Detect_Cycles_Helper(sv, graph, visited, stack):\n",
    "    visited[sv]=True\n",
    "    stack[sv]=True\n",
    "        \n",
    "    for i in graph[sv]:\n",
    "        if visited[i]==False:\n",
    "            if Detect_Cycles_Helper(i, graph, visited, stack):\n",
    "                return True\n",
    "        elif stack[i]==True:\n",
    "            return True\n",
    "        \n",
    "    stack[sv]=False\n",
    "    return False\n",
    "    \n",
    "def Detect_Cycles(n, graph):\n",
    "    visited=[False for i in range(n)]\n",
    "    stack=[]\n",
    "        \n",
    "    for i in range(0, n):\n",
    "        if visited[i]==False:\n",
    "            if Detect_Cycles_Helper(i, graph, visited, stack):\n",
    "                return True          \n",
    "    return False"
   ]
  },
  {
   "cell_type": "markdown",
   "metadata": {},
   "source": [
    "#### UNDIRECTED GRAPH (DFS)"
   ]
  },
  {
   "cell_type": "code",
   "execution_count": 6,
   "metadata": {},
   "outputs": [],
   "source": [
    "def Helper(sv, visited, graph, parent):\n",
    "    visited[sv]=True\n",
    "    \n",
    "    for i in graph[sv]:\n",
    "        if visited[i]==False:\n",
    "            if Helper(i, visited, graph, sv):\n",
    "                return True\n",
    "            elif i!=parent:\n",
    "                return True\n",
    "    return False\n",
    "\n",
    "def Cycles_in_Directed_Graph(n, graph):\n",
    "    visited=[False for i in range(n)]\n",
    "    for i in range(n):\n",
    "        if visited[i]==False:\n",
    "            if Helper(i, visited, graph, -1):\n",
    "                return True\n",
    "    return False"
   ]
  },
  {
   "cell_type": "code",
   "execution_count": null,
   "metadata": {},
   "outputs": [],
   "source": [
    "#Adajcency List\n",
    "#adj[vertex1].append(vertex2, distance)\n",
    "\n",
    "adj[0].append([1, 5])\n",
    "adj[0].append([2, 3])\n",
    "adj[1].append([3, 6])\n",
    "adj[1].append([2, 2])\n",
    "adj[2].append([4, 4])\n",
    "adj[2].append([5, 2])\n",
    "adj[2].append([3, 7])\n",
    "adj[3].append([5, 1])\n",
    "adj[3].append([4, -1])\n",
    "adj[4].append([5, -2])"
   ]
  },
  {
   "cell_type": "code",
   "execution_count": null,
   "metadata": {},
   "outputs": [],
   "source": []
  },
  {
   "cell_type": "code",
   "execution_count": null,
   "metadata": {},
   "outputs": [],
   "source": []
  },
  {
   "cell_type": "markdown",
   "metadata": {},
   "source": [
    "# M-Coloring Algorithm"
   ]
  },
  {
   "cell_type": "markdown",
   "metadata": {},
   "source": [
    "### IsBipartite"
   ]
  },
  {
   "cell_type": "code",
   "execution_count": 1,
   "metadata": {},
   "outputs": [],
   "source": [
    "def isBipartite(graph):\n",
    "    n=len(graph)\n",
    "    color=[-1 for i in range(n)]\n",
    "    for i in range(n):\n",
    "        if color[i]==-1:\n",
    "            if Helper(n,graph,color,i)==False:\n",
    "                return False\n",
    "                \n",
    "    return True\n",
    "        \n",
    "        \n",
    "def Helper(n, graph, color, sv):\n",
    "    q=queue.Queue()\n",
    "    visited=[False for i in range(n)]\n",
    "    \n",
    "    color[sv]=0\n",
    "    visited[sv]=True\n",
    "    q.put(sv)\n",
    "    \n",
    "    while q.empty() is False:\n",
    "        current=q.get()\n",
    "        \n",
    "        visited[current]=True\n",
    "        \n",
    "        for neigh in graph[current]:\n",
    "            if visited[neigh] is False and color[neigh]==-1:\n",
    "                color[neigh]=1-color[current]\n",
    "                q.put(neigh)\n",
    "                \n",
    "            elif color[neigh]==color[current]:\n",
    "                return False\n",
    "            \n",
    "            \n",
    "    return True"
   ]
  },
  {
   "cell_type": "code",
   "execution_count": 9,
   "metadata": {},
   "outputs": [
    {
     "data": {
      "text/plain": [
       "False"
      ]
     },
     "execution_count": 9,
     "metadata": {},
     "output_type": "execute_result"
    }
   ],
   "source": [
    "V=5\n",
    "mat=[[0, 1, 1, 1, 0], \n",
    "     [1, 0, 1, 0, 0], \n",
    "     [1, 1, 0, 0, 0], \n",
    "     [0, 1, 0, 0, 1],\n",
    "     [0, 0, 0, 1, 0]]\n",
    "isBipartite(V, mat, 0)"
   ]
  },
  {
   "cell_type": "code",
   "execution_count": null,
   "metadata": {},
   "outputs": [],
   "source": []
  },
  {
   "cell_type": "code",
   "execution_count": null,
   "metadata": {},
   "outputs": [],
   "source": []
  },
  {
   "cell_type": "markdown",
   "metadata": {},
   "source": [
    "### M-Coloring Problem"
   ]
  },
  {
   "cell_type": "code",
   "execution_count": 1,
   "metadata": {},
   "outputs": [],
   "source": [
    "#Coloring the vertex such that no two vertex have same color.\n",
    "def isSafe(V, graph, k, src, marked, color):\n",
    "    for i in range(0, V):\n",
    "        #Check if the adjcent vertex has same color, if yes return False\n",
    "        if graph[i][src]>0 and marked[i]==color:\n",
    "            return False\n",
    "    return True\n",
    "\n",
    "\n",
    "def Coloring(V, graph, k, src, marked):\n",
    "    #Base Case:\n",
    "    if src==V:\n",
    "        return True\n",
    "    \n",
    "    #Starting filling the color.\n",
    "    for color in range(0, k):\n",
    "        #Check is it safe to fill current vertex with this color.\n",
    "        if isSafe(V, graph, k, src, marked, color):\n",
    "            marked[src]=color\n",
    "            #Recursively Check for other vertex\n",
    "            if Coloring(V, graph, k, src+1, marked):\n",
    "                return True\n",
    "            #Backtrack\n",
    "            marked[src]=-1\n",
    "            \n",
    "    return False\n",
    "            \n",
    "\n",
    "def M_Coloring(V, graph, k):\n",
    "    #This is the array denoting the color of every vertex.\n",
    "    marked=[-1 for i in range(V)]\n",
    "    return Coloring(V, graph, k, 0, marked)"
   ]
  },
  {
   "cell_type": "code",
   "execution_count": null,
   "metadata": {},
   "outputs": [],
   "source": []
  },
  {
   "cell_type": "code",
   "execution_count": null,
   "metadata": {},
   "outputs": [],
   "source": []
  },
  {
   "cell_type": "markdown",
   "metadata": {},
   "source": [
    "### TWO CLIQUE PROBLEM"
   ]
  },
  {
   "cell_type": "code",
   "execution_count": 1,
   "metadata": {},
   "outputs": [],
   "source": [
    "import queue\n",
    "def Bipartite(V, adjmat):\n",
    "    src=0\n",
    "    q=queue.Queue()\n",
    "    color=[-1 for i in range(V)]\n",
    "    \n",
    "    q.put(src)\n",
    "    color[src]=1\n",
    "    \n",
    "    while q:\n",
    "        current=q.get()\n",
    "        \n",
    "        if adjmat[current][current]>0:\n",
    "            return False\n",
    "        \n",
    "        for i in range(V):\n",
    "            if adjmat[i][current]>0 and color[i]==-1:\n",
    "                color[i]=1-color[current]\n",
    "                q.put(i)\n",
    "                \n",
    "            elif adjmat[i][current]>0 and color[i]==color[current]:\n",
    "                return FalseN\n",
    "            \n",
    "    return True\n",
    "\n",
    "def Two_Clique_Problem(V, adjmat):\n",
    "    #Generate the complement of graph\n",
    "    for i in range(V):\n",
    "        for j in range(V):\n",
    "            if i!=j:\n",
    "                if adjmat[i][j]==0:\n",
    "                    adjmat[i][j]=1\n",
    "                else:\n",
    "                    adjmat[i][j]=0\n",
    "                \n",
    "    #Now check if the graph is Bipartite or not\n",
    "    return Bipartite(V, adjmat)"
   ]
  },
  {
   "cell_type": "code",
   "execution_count": null,
   "metadata": {},
   "outputs": [],
   "source": [
    "V=5\n",
    "mat=[[0, 1, 1, 1, 0], \n",
    "     [1, 0, 1, 0, 0], \n",
    "     [1, 1, 0, 0, 0], \n",
    "     [0, 1, 0, 0, 1],\n",
    "     [0, 0, 0, 1, 0]]\n",
    "Two_Clique_Problem(V, mat)"
   ]
  },
  {
   "cell_type": "code",
   "execution_count": null,
   "metadata": {},
   "outputs": [],
   "source": []
  },
  {
   "cell_type": "code",
   "execution_count": null,
   "metadata": {},
   "outputs": [],
   "source": []
  },
  {
   "cell_type": "markdown",
   "metadata": {},
   "source": [
    "# BACKTRACKING"
   ]
  },
  {
   "cell_type": "markdown",
   "metadata": {},
   "source": [
    "### Path with distance more than K."
   ]
  },
  {
   "cell_type": "code",
   "execution_count": 5,
   "metadata": {},
   "outputs": [],
   "source": [
    "#Graph is adjcency list!\n",
    "def Helper(V, graph, k, visited, src):\n",
    "    if k<=0:\n",
    "        return True\n",
    "    \n",
    "    i=0\n",
    "    while i<len(graph[src]):\n",
    "        neigh=graph[src][i][0]\n",
    "        weight=graph[src][i][1]\n",
    "        i+=1\n",
    "        \n",
    "        if weight>=k:\n",
    "            return True\n",
    "        \n",
    "        visited[neigh]=True\n",
    "        \n",
    "        Helper(V, graph, k-w, visited, neigh)\n",
    "        \n",
    "        #Backtracking.\n",
    "        visited[neigh]=False\n",
    "        \n",
    "    return False\n",
    "        \n",
    "def path_with_more_than_K_Distance(V, graph, k, src):\n",
    "    visited=[False for i in range(V)]\n",
    "    visited[src]=True\n",
    "    Helper(V, graph, k, visited, src)"
   ]
  },
  {
   "cell_type": "code",
   "execution_count": null,
   "metadata": {},
   "outputs": [],
   "source": []
  },
  {
   "cell_type": "code",
   "execution_count": null,
   "metadata": {},
   "outputs": [],
   "source": []
  },
  {
   "cell_type": "markdown",
   "metadata": {},
   "source": [
    "# EULER TOUR"
   ]
  },
  {
   "cell_type": "code",
   "execution_count": 57,
   "metadata": {},
   "outputs": [],
   "source": [
    "#Calculating intime and outime for every node.\n",
    "def Euler_Util(sv, visited, intime, outtime, graph):\n",
    "    global timer\n",
    "    visited[sv]=True\n",
    "    \n",
    "    timer+=1\n",
    "    intime[sv]=timer\n",
    "    \n",
    "    for i in graph[sv]:\n",
    "        if visited[i]==False:\n",
    "            Euler_Util(i, visited, intime, outtime, graph)\n",
    "            \n",
    "    timer+=1\n",
    "    outtime[sv]=timer\n",
    "\n",
    "def Euler(n, graph):\n",
    "    visited=[False for i in range(n)]\n",
    "    intime=[-1 for i in range(n)]\n",
    "    outtime=[-1 for i in range(n)]\n",
    "    global timer\n",
    "    timer=0\n",
    "    \n",
    "    for i in range(n):\n",
    "        if visited[i]==False:\n",
    "            Euler_Util(i, visited, intime, outtime, graph)\n",
    "            \n",
    "    return intime, outtime"
   ]
  },
  {
   "cell_type": "code",
   "execution_count": 56,
   "metadata": {},
   "outputs": [
    {
     "data": {
      "text/plain": [
       "([1, 2, 3, 5, 8], [10, 7, 4, 6, 9])"
      ]
     },
     "execution_count": 56,
     "metadata": {},
     "output_type": "execute_result"
    }
   ],
   "source": [
    "n=5\n",
    "graph=[[1,4], [0,2,3], [1], [1], [0]]\n",
    "Euler(n, graph)"
   ]
  },
  {
   "cell_type": "code",
   "execution_count": null,
   "metadata": {},
   "outputs": [],
   "source": []
  },
  {
   "cell_type": "code",
   "execution_count": null,
   "metadata": {},
   "outputs": [],
   "source": []
  },
  {
   "cell_type": "markdown",
   "metadata": {},
   "source": [
    "# OTHERS"
   ]
  },
  {
   "cell_type": "code",
   "execution_count": 1,
   "metadata": {},
   "outputs": [],
   "source": [
    "import heapq\n",
    "from collections import defaultdict\n",
    "def findCheapestPrice(n, flights, src, dst, K):\n",
    "    graph=defaultdict(list)\n",
    "    pq=[]\n",
    "    for u,v,price in flights:\n",
    "        graph[u].append((v, price))\n",
    "        \n",
    "    heapq.heappush(pq, (0, src, 0)) \n",
    "    while pq:\n",
    "        price, city, stops = heapq.heappop(pq)\n",
    "        \n",
    "        if city==dst:\n",
    "            return price\n",
    "        if stops>K:\n",
    "            continue\n",
    "            \n",
    "        for neigh, cost in graph[city]:\n",
    "            heapq.heappush(pq, (price+cost, neigh, stops+1))\n",
    "    \n",
    "    return -1\n",
    "                "
   ]
  },
  {
   "cell_type": "code",
   "execution_count": null,
   "metadata": {},
   "outputs": [],
   "source": []
  },
  {
   "cell_type": "code",
   "execution_count": 6,
   "metadata": {},
   "outputs": [],
   "source": [
    "def Shortest_Path(V, E, graph, src, dst):\n",
    "    distance=[sys.maxsize for i in range(V)]\n",
    "    d={}\n",
    "    \n",
    "    distance[src]=0\n",
    "    d[(0, src)]=1\n",
    "    \n",
    "    while len(d)>0:\n",
    "        top=list(d.keys())\n",
    "        del d[top]\n",
    "        \n",
    "        v=top[1]\n",
    "        weight=top[0]\n",
    "        \n",
    "        for i in graph[v]:\n",
    "            vertex=i[0]\n",
    "            dist=i[1]\n",
    "            \n",
    "            if distance[v]+dist<distace[vertex]:\n",
    "                if distance[v]!=sys.maxsize:\n",
    "                    del d[(distance[v], v)]\n",
    "\n",
    "                distance[vertex]=distance[v]+dist\n",
    "                d[(distance[v] , v)]=1\n",
    "                \n",
    "    return distance\n",
    "        \n",
    "\n",
    "def Minimum_edges_to_reverse_to_reach_from_source_to_dest(V, E, Edgelist, src, dst):\n",
    "    graph=[[] for i in range(V)]\n",
    "    #Model the Graph.\n",
    "    for u,v in Edgelist:\n",
    "        #Make weight equal to 0 for given edge\n",
    "        graph[u].append((v,0))\n",
    "        #Make weight equal to 1 to reverse the edge\n",
    "        graph[v].append((u,1))\n",
    "        \n",
    "    "
   ]
  },
  {
   "cell_type": "code",
   "execution_count": null,
   "metadata": {},
   "outputs": [],
   "source": []
  },
  {
   "cell_type": "code",
   "execution_count": 3,
   "metadata": {},
   "outputs": [],
   "source": [
    "def TopoSort(graph, visited, sv, stack):\n",
    "    visited[sv]=True\n",
    "    for i in graph[sv]:\n",
    "        if visited[i]==False:\n",
    "            TopoSort(graph, visited, i, stack)\n",
    "    ch=chr(ord('a')+sv)\n",
    "    stack.append(ch)\n",
    "    \n",
    "def findOrder(d, n, k):\n",
    "    graph=[[] for i in range(k)]\n",
    "    l=list(d)\n",
    "      \n",
    "    for i in range(0, n-1):\n",
    "        w1=l[i]\n",
    "        w2=l[i+1]\n",
    "        \n",
    "        for j in range(min(len(w1), len(w2))):\n",
    "            u=w1[j]\n",
    "            v=w2[j]\n",
    "            if u==v:\n",
    "                continue\n",
    "            else:\n",
    "                graph[ord(u)-ord('a')].append(ord(v)-ord('a'))\n",
    "                break\n",
    "                \n",
    "    r=[]\n",
    "    visited=[False for i in range(k)]\n",
    "    for i in range(k):\n",
    "        if visited[i]==False:\n",
    "            TopoSort(graph, visited, i, r)\n",
    "    return r"
   ]
  },
  {
   "cell_type": "code",
   "execution_count": null,
   "metadata": {},
   "outputs": [],
   "source": [
    "N = 5\n",
    "K = 4\n",
    "d = {\"baa\",\"abcd\",\"abca\",\"cab\",\"cad\"}\n",
    "print(findOrder(d,N,K))"
   ]
  },
  {
   "cell_type": "code",
   "execution_count": null,
   "metadata": {},
   "outputs": [],
   "source": []
  },
  {
   "cell_type": "code",
   "execution_count": 4,
   "metadata": {},
   "outputs": [],
   "source": [
    "import queue\n",
    "def SnakesandLadders(board):\n",
    "    n=len(board)\n",
    "    arr=[]\n",
    "    for i,row in enumerate(board[::-1]):\n",
    "        if i%2==0:\n",
    "            arr+=row\n",
    "        else:\n",
    "            arr+=row[::-1]\n",
    "    \n",
    "    l=len(arr)-1\n",
    "    q=queue.Queue()\n",
    "    visited=set()\n",
    "    #index, steps\n",
    "    q.put((0, 0))\n",
    "        \n",
    "    while q.empty() is False:\n",
    "        current=q.get()\n",
    "        idx=current[0]\n",
    "        steps=current[1]\n",
    "        \n",
    "        if idx==l:\n",
    "            return steps\n",
    "        \n",
    "        for i in range(1, 7):\n",
    "            if idx+i<=l and (idx+i) not in visited:\n",
    "                visited.add((idx+i))\n",
    "                \n",
    "                if arr[idx+i]!=-1:\n",
    "                    q.put((arr[idx+i]-1 , steps+1))\n",
    "                else:\n",
    "                    q.put((idx+i, steps+1))\n",
    "                \n",
    "    return -1"
   ]
  },
  {
   "cell_type": "code",
   "execution_count": 5,
   "metadata": {},
   "outputs": [
    {
     "data": {
      "text/plain": [
       "4"
      ]
     },
     "execution_count": 5,
     "metadata": {},
     "output_type": "execute_result"
    }
   ],
   "source": [
    "l=[[-1,-1,-1,-1,-1,-1],\n",
    "   [-1,-1,-1,-1,-1,-1],\n",
    "   [-1,-1,-1,-1,-1,-1],\n",
    "   [-1,35,-1,-1,13,-1],\n",
    "   [-1,-1,-1,-1,-1,-1],\n",
    "   [-1,15,-1,-1,-1,-1]]\n",
    "x=SnakesandLadders(l)\n",
    "x"
   ]
  },
  {
   "cell_type": "code",
   "execution_count": null,
   "metadata": {},
   "outputs": [],
   "source": []
  },
  {
   "cell_type": "code",
   "execution_count": 15,
   "metadata": {},
   "outputs": [],
   "source": [
    "def Bridges_Util(sv, graph, visited, low, dis, parent, time):\n",
    "    visited[sv]=True\n",
    "    \n",
    "    low[sv]=time\n",
    "    dis[sv]=time\n",
    "    time+=1\n",
    "    \n",
    "    for vertex in graph[sv]:\n",
    "        if visited[vertex]==False:\n",
    "            parent[vertex]=sv\n",
    "            Bridges_Util(vertex, graph, visited, low, dis, parent, time)\n",
    "            \n",
    "            low[sv]=min(low[sv], low[vertex])\n",
    "            \n",
    "            if low[vertex]>dis[sv]:\n",
    "                print(sv,vertex, end=\" \")\n",
    "            \n",
    "        elif sv!=parent[vertex]:\n",
    "            low[sv]=min(low[sv], dis[vertex])\n",
    "    \n",
    "    \n",
    "def Bridges_in_the_graph(n, graph):\n",
    "    visited=[False for i in range(n)]\n",
    "    low=[-sys.maxsize for i in range(n)]\n",
    "    dis=[-sys.maxsize for i in range(n)]\n",
    "    parent=[-1 for i in range(n)]\n",
    "    \n",
    "    for i in range(n):\n",
    "        if visited[i]==False:\n",
    "            Bridges_Util(sv, graph, visited, low, dis, parent, 0)"
   ]
  },
  {
   "cell_type": "code",
   "execution_count": null,
   "metadata": {},
   "outputs": [],
   "source": []
  },
  {
   "cell_type": "code",
   "execution_count": 12,
   "metadata": {},
   "outputs": [],
   "source": [
    "def allPathsSourceTarget(graph) :\n",
    "        n=len(graph)\n",
    "        sv=0\n",
    "        ev=n-1\n",
    "        s=\"0\"\n",
    "        visited=[False for i in range(n)]\n",
    "        \n",
    "        allpath=[]\n",
    "        dfs(n,graph,sv,ev,s,allpath,visited)\n",
    "        return allpath\n",
    "        \n",
    "        \n",
    "def dfs(n,graph,sv,ev,s,allpath,visited):\n",
    "    if sv==ev:\n",
    "        allpath.append(s)\n",
    "        return \n",
    "      \n",
    "    visited[sv]=True\n",
    "    \n",
    "    for i in graph[sv]:\n",
    "        if visited[i]==False:\n",
    "            dfs(n,graph,i,ev,s+str(i),allpath,visited)\n",
    "    \n",
    "    visited[sv]=False"
   ]
  },
  {
   "cell_type": "code",
   "execution_count": 10,
   "metadata": {},
   "outputs": [
    {
     "data": {
      "text/plain": [
       "['04', '034', '0134', '01234', '014']"
      ]
     },
     "execution_count": 10,
     "metadata": {},
     "output_type": "execute_result"
    }
   ],
   "source": [
    "graph = [[4,3,1],[3,2,4],[3],[4],[]]\n",
    "allPathsSourceTarget(graph)"
   ]
  }
 ],
 "metadata": {
  "kernelspec": {
   "display_name": "Python 3",
   "language": "python",
   "name": "python3"
  },
  "language_info": {
   "codemirror_mode": {
    "name": "ipython",
    "version": 3
   },
   "file_extension": ".py",
   "mimetype": "text/x-python",
   "name": "python",
   "nbconvert_exporter": "python",
   "pygments_lexer": "ipython3",
   "version": "3.8.5"
  }
 },
 "nbformat": 4,
 "nbformat_minor": 4
}
