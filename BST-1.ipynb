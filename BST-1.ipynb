{
 "cells": [
  {
   "cell_type": "code",
   "execution_count": 1,
   "metadata": {},
   "outputs": [],
   "source": [
    "class BinaryTreeNode:\n",
    "    def __init__(self, data):\n",
    "        self.data = data\n",
    "        self.left = None\n",
    "        self.right = None"
   ]
  },
  {
   "cell_type": "code",
   "execution_count": 3,
   "metadata": {},
   "outputs": [],
   "source": [
    "def InputTreeLevelWise():\n",
    "    import queue\n",
    "    q = queue.Queue()\n",
    "    print('Enter Root Data')\n",
    "    rootData = int(input())\n",
    "    if rootData == -1:\n",
    "        return None\n",
    "    root = BinaryTreeNode(rootData)\n",
    "    q.put(root)\n",
    "    \n",
    "    while q.empty() is False:\n",
    "        current_node = q.get()\n",
    "        \n",
    "        print('Enter left child of', current_node.data)\n",
    "        leftchildData = int(input())\n",
    "        if leftchildData != -1:\n",
    "            leftchildNode = BinaryTreeNode(leftchildData)\n",
    "            current_node.left = leftchildNode\n",
    "            q.put(leftchildNode)\n",
    "        \n",
    "        print('Enter right child of', current_node.data)\n",
    "        rightchildData = int(input())\n",
    "        if rightchildData!=-1:\n",
    "            rightchildNode = BinaryTreeNode(rightchildData)\n",
    "            current_node.right = rightchildNode\n",
    "            q.put(rightchildNode)\n",
    "    return root\n",
    "    "
   ]
  },
  {
   "cell_type": "code",
   "execution_count": 14,
   "metadata": {},
   "outputs": [],
   "source": [
    "def printLevelWise(root):\n",
    "    import queue\n",
    "    q = queue.Queue()\n",
    "    if root.data == -1:\n",
    "        return None\n",
    "    q.put(root)\n",
    "    \n",
    "    while q.empty() is False:\n",
    "        currentnode = q.get()\n",
    "        if currentnode != None:\n",
    "            if currentnode.left != None:\n",
    "                leftnode = currentnode.left\n",
    "                print(currentnode.data,\":\",\"L\",\":\",leftnode.data,\",\",end=\"\")\n",
    "                q.put(leftnode)\n",
    "            else:\n",
    "                print(currentnode.data,\":\",\"L\",\":\",-1,\",\",end=\"\")\n",
    "    \n",
    "        if currentnode != None:\n",
    "            if currentnode.right != None:\n",
    "                rightnode = currentnode.right\n",
    "                print(\"R\",\":\",rightnode.data)\n",
    "                q.put(rightnode)\n",
    "            else:\n",
    "                print(\"R\",\":\",-1)"
   ]
  },
  {
   "cell_type": "markdown",
   "metadata": {},
   "source": [
    "## isBST-1"
   ]
  },
  {
   "cell_type": "code",
   "execution_count": 15,
   "metadata": {},
   "outputs": [],
   "source": [
    "def isBST(root):\n",
    "    if root==None:\n",
    "        # isBST, Minimum, Maximum.\n",
    "        return True, 100000, -100000\n",
    "    \n",
    "    leftbst, left_min, left_max = isBST(root.left)\n",
    "    rightbst, right_min, right_max = isBST(root.right)\n",
    "    \n",
    "    minimum = min(left_min, right_min, root.data)\n",
    "    maximum = max(left_max, right_max, root.data)\n",
    "    isTreeBST = True\n",
    "    \n",
    "    if root.data <= minimum or root.data > maximum:\n",
    "        isTreeBST = False\n",
    "    if not(leftbst) or not(rightbst):\n",
    "        isTreeBSR = False\n",
    "        \n",
    "    return minimum, maximum, isTreeBST"
   ]
  },
  {
   "cell_type": "markdown",
   "metadata": {},
   "source": [
    "###### root = InputTreeLevelWise()"
   ]
  },
  {
   "cell_type": "code",
   "execution_count": 16,
   "metadata": {},
   "outputs": [
    {
     "data": {
      "text/plain": [
       "(2, 5, True)"
      ]
     },
     "execution_count": 16,
     "metadata": {},
     "output_type": "execute_result"
    }
   ],
   "source": [
    "isBST(root)"
   ]
  },
  {
   "cell_type": "markdown",
   "metadata": {},
   "source": [
    "## isBST-2"
   ]
  },
  {
   "cell_type": "code",
   "execution_count": 20,
   "metadata": {},
   "outputs": [],
   "source": [
    "def maxTree(root):\n",
    "    if root==None:\n",
    "        return -100000\n",
    "    left_max = maxTree(root.left)\n",
    "    right_max = maxTree(root.right)\n",
    "    return max(left_max, right_max, root.data)"
   ]
  },
  {
   "cell_type": "code",
   "execution_count": 21,
   "metadata": {},
   "outputs": [],
   "source": [
    "def minTree(root):\n",
    "    if root==None:\n",
    "        return 100000\n",
    "    left_min = minTree(root.left)\n",
    "    right_min = minTree(root.right)\n",
    "    return min(left_min, right_min, root.data)"
   ]
  },
  {
   "cell_type": "code",
   "execution_count": 22,
   "metadata": {},
   "outputs": [],
   "source": [
    "def isBST(root):\n",
    "    if root==None:\n",
    "        return True\n",
    "    leftmax = maxTree(root.left)\n",
    "    rightmin = minTree(root.right)\n",
    "    if root.data<=leftmax or root.data>rightmin:\n",
    "        return False\n",
    "    \n",
    "    leftbst = isBST(root.left)\n",
    "    rightbst = isBST(root.right)\n",
    "    return leftbst and rightbst"
   ]
  },
  {
   "cell_type": "code",
   "execution_count": 23,
   "metadata": {},
   "outputs": [
    {
     "data": {
      "text/plain": [
       "True"
      ]
     },
     "execution_count": 23,
     "metadata": {},
     "output_type": "execute_result"
    }
   ],
   "source": [
    "isBST(root)"
   ]
  },
  {
   "cell_type": "code",
   "execution_count": null,
   "metadata": {},
   "outputs": [],
   "source": []
  },
  {
   "cell_type": "code",
   "execution_count": null,
   "metadata": {},
   "outputs": [],
   "source": []
  },
  {
   "cell_type": "markdown",
   "metadata": {},
   "source": [
    "## Find Path in BST"
   ]
  },
  {
   "cell_type": "code",
   "execution_count": 49,
   "metadata": {},
   "outputs": [],
   "source": [
    "def findPathBST(root, k):\n",
    "    if root==None:\n",
    "        return\n",
    "    if root.data==k:\n",
    "        lst=[]\n",
    "        lst.append(root.data)\n",
    "        return lst\n",
    "    \n",
    "    a = findPathBST(root.left,k)\n",
    "    if a is not None:\n",
    "        a.append(root.data)\n",
    "        return a\n",
    "    b = findPathBST(root.right,k)\n",
    "    if b is not None:\n",
    "        b.append(root.data)\n",
    "        return b"
   ]
  },
  {
   "cell_type": "code",
   "execution_count": 25,
   "metadata": {},
   "outputs": [
    {
     "name": "stdout",
     "output_type": "stream",
     "text": [
      "Enter Root Data\n",
      "8\n",
      "Enter left child of 8\n",
      "5\n",
      "Enter right child of 8\n",
      "10\n",
      "Enter left child of 5\n",
      "2\n",
      "Enter right child of 5\n",
      "6\n",
      "Enter left child of 10\n",
      "-1\n",
      "Enter right child of 10\n",
      "-1\n",
      "Enter left child of 2\n",
      "-1\n",
      "Enter right child of 2\n",
      "-1\n",
      "Enter left child of 6\n",
      "-1\n",
      "Enter right child of 6\n",
      "7\n",
      "Enter left child of 7\n",
      "-1\n",
      "Enter right child of 7\n",
      "-1\n"
     ]
    }
   ],
   "source": [
    "p = InputTreeLevelWise()"
   ]
  },
  {
   "cell_type": "code",
   "execution_count": 50,
   "metadata": {},
   "outputs": [
    {
     "data": {
      "text/plain": [
       "[2, 5, 8]"
      ]
     },
     "execution_count": 50,
     "metadata": {},
     "output_type": "execute_result"
    }
   ],
   "source": [
    "findPathBST(p,2)"
   ]
  },
  {
   "cell_type": "code",
   "execution_count": 9,
   "metadata": {},
   "outputs": [],
   "source": [
    "import sys"
   ]
  },
  {
   "cell_type": "code",
   "execution_count": null,
   "metadata": {},
   "outputs": [],
   "source": []
  },
  {
   "cell_type": "code",
   "execution_count": null,
   "metadata": {},
   "outputs": [],
   "source": []
  },
  {
   "cell_type": "markdown",
   "metadata": {},
   "source": [
    "## Minimum Difference in BST"
   ]
  },
  {
   "cell_type": "code",
   "execution_count": 21,
   "metadata": {},
   "outputs": [],
   "source": [
    "def minDiffInBST_Consecutive(root):\n",
    "    if root==None:\n",
    "        return sys.maxsize\n",
    "\n",
    "    smallerOutput1 = minDiffInBST(root.left)\n",
    "    smallerOutput2 = minDiffInBST(root.right)\n",
    "        \n",
    "    ans=sys.maxsize\n",
    "        \n",
    "    if root.left:\n",
    "        ans=min(ans, smallerOutput1, abs(root.data-root.left.data))\n",
    "    if root.right:\n",
    "        ans=min(ans, smallerOutput2, abs(root.data-root.right.data))\n",
    "          \n",
    "    return ans"
   ]
  },
  {
   "cell_type": "code",
   "execution_count": 22,
   "metadata": {},
   "outputs": [
    {
     "data": {
      "text/plain": [
       "3"
      ]
     },
     "execution_count": 22,
     "metadata": {},
     "output_type": "execute_result"
    }
   ],
   "source": [
    "minDiffInBST_Consecutive(root)"
   ]
  },
  {
   "cell_type": "code",
   "execution_count": null,
   "metadata": {},
   "outputs": [],
   "source": []
  },
  {
   "cell_type": "code",
   "execution_count": null,
   "metadata": {},
   "outputs": [],
   "source": []
  },
  {
   "cell_type": "markdown",
   "metadata": {},
   "source": [
    "## RANGE IN THE BST"
   ]
  },
  {
   "cell_type": "code",
   "execution_count": 6,
   "metadata": {},
   "outputs": [],
   "source": [
    "def getCount(root,low,high):\n",
    "    if root is None:\n",
    "        return 0\n",
    "    \n",
    "    if root.data<low:\n",
    "        return getCount(root.right, low, high)\n",
    "    elif root.data>high:\n",
    "        return getCount(root.left, low, high)\n",
    "    else:\n",
    "        return 1+getCount(root.left, low, high)+getCount(root.right, low, high)"
   ]
  },
  {
   "cell_type": "code",
   "execution_count": 4,
   "metadata": {},
   "outputs": [
    {
     "name": "stdout",
     "output_type": "stream",
     "text": [
      "Enter Root Data\n",
      "10\n",
      "Enter left child of 10\n",
      "5\n",
      "Enter right child of 10\n",
      "50\n",
      "Enter left child of 5\n",
      "1\n",
      "Enter right child of 5\n",
      "-1\n",
      "Enter left child of 50\n",
      "40\n",
      "Enter right child of 50\n",
      "100\n",
      "Enter left child of 1\n",
      "-1\n",
      "Enter right child of 1\n",
      "-1\n",
      "Enter left child of 40\n",
      "-1\n",
      "Enter right child of 40\n",
      "-1\n",
      "Enter left child of 100\n",
      "-1\n",
      "Enter right child of 100\n",
      "-1\n"
     ]
    }
   ],
   "source": [
    "r=InputTreeLevelWise()"
   ]
  },
  {
   "cell_type": "code",
   "execution_count": 7,
   "metadata": {},
   "outputs": [
    {
     "data": {
      "text/plain": [
       "3"
      ]
     },
     "execution_count": 7,
     "metadata": {},
     "output_type": "execute_result"
    }
   ],
   "source": [
    "l=5\n",
    "h=45\n",
    "getCount(r, l, h)"
   ]
  }
 ],
 "metadata": {
  "kernelspec": {
   "display_name": "Python 3",
   "language": "python",
   "name": "python3"
  },
  "language_info": {
   "codemirror_mode": {
    "name": "ipython",
    "version": 3
   },
   "file_extension": ".py",
   "mimetype": "text/x-python",
   "name": "python",
   "nbconvert_exporter": "python",
   "pygments_lexer": "ipython3",
   "version": "3.7.4"
  }
 },
 "nbformat": 4,
 "nbformat_minor": 4
}
