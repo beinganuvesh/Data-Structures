{
 "cells": [
  {
   "cell_type": "markdown",
   "metadata": {},
   "source": [
    "## MINIMUM HEAP"
   ]
  },
  {
   "cell_type": "code",
   "execution_count": 33,
   "metadata": {},
   "outputs": [],
   "source": [
    "class PriorityQueueNode:\n",
    "    def __init__(self, value, priority):\n",
    "        self.value = value\n",
    "        self.priority = priority\n",
    "\n",
    "class PriorityQueue:\n",
    "    def __init__(self):\n",
    "        self.pq = []\n",
    "        \n",
    "    def getSize(self):\n",
    "        return len(self.pq)\n",
    "    \n",
    "    def isEmpty(self):\n",
    "        return self.pq==0\n",
    "    \n",
    "    def getMin(self):\n",
    "        if self.isEmpty() is True:\n",
    "            return None\n",
    "        return self.pq[0].value\n",
    "    \n",
    "    \n",
    "    def percolateUp(self):\n",
    "        childIndex = self.getSize()-1\n",
    "        while childIndex>0:\n",
    "            parentIndex = (childIndex-1)//2\n",
    "            if self.pq[childIndex].priority<self.pq[parentIndex].priority:\n",
    "                self.pq[childIndex], self.pq[parentIndex] = self.pq[parentIndex], self.pq[childIndex]\n",
    "                childIndex = parentIndex\n",
    "            else:\n",
    "                break\n",
    "                \n",
    "    def insert(self, value, priority):\n",
    "        newNode = PriorityQueueNode(value, priority)\n",
    "        self.pq.append(newNode)\n",
    "        self.percolateUp()\n",
    "\n",
    "        \n",
    "    def percolateDown(self):\n",
    "        parentIndex = 0\n",
    "        \n",
    "        while parentIndex<self.getSize():\n",
    "            leftIndex = (2*parentIndex)+1\n",
    "            rightIndex = (2*parentIndex)+2\n",
    "            if leftIndex>=self.getSize():\n",
    "                break\n",
    "            if rightIndex<len(self.pq):\n",
    "                if self.pq[leftIndex].priority<self.pq[rightIndex].priority:\n",
    "                    childIndex = leftIndex\n",
    "                else:\n",
    "                    childIndex = rightIndex\n",
    "            else:\n",
    "                childIndex = leftIndex\n",
    "                \n",
    "            if self.pq[parentIndex].priority>self.pq[childIndex].priority:\n",
    "                self.pq[parentIndex], self.pq[childIndex] = self.pq[childIndex], self.pq[parentIndex]\n",
    "                parentIndex = childIndex\n",
    "            else:\n",
    "                break\n",
    "                \n",
    "    def Remove(self):\n",
    "        temp = self.pq[0].value\n",
    "        self.pq[0] = self.pq[-1]\n",
    "        self.pq.pop()\n",
    "        self.percolateDown()\n",
    "        return temp"
   ]
  },
  {
   "cell_type": "code",
   "execution_count": 34,
   "metadata": {},
   "outputs": [
    {
     "data": {
      "text/plain": [
       "<__main__.PriorityQueue at 0x1cf9f8c2cc8>"
      ]
     },
     "execution_count": 34,
     "metadata": {},
     "output_type": "execute_result"
    }
   ],
   "source": [
    "pq = PriorityQueue()\n",
    "pq"
   ]
  },
  {
   "cell_type": "code",
   "execution_count": 35,
   "metadata": {},
   "outputs": [],
   "source": [
    "pq.insert(40,40)\n",
    "pq.insert(50,50)\n",
    "pq.insert(60,60)\n",
    "pq.insert(70,70)\n",
    "pq.insert(80,80)"
   ]
  },
  {
   "cell_type": "code",
   "execution_count": 36,
   "metadata": {},
   "outputs": [
    {
     "data": {
      "text/plain": [
       "40"
      ]
     },
     "execution_count": 36,
     "metadata": {},
     "output_type": "execute_result"
    }
   ],
   "source": [
    "pq.getMin()"
   ]
  },
  {
   "cell_type": "code",
   "execution_count": 37,
   "metadata": {},
   "outputs": [
    {
     "data": {
      "text/plain": [
       "5"
      ]
     },
     "execution_count": 37,
     "metadata": {},
     "output_type": "execute_result"
    }
   ],
   "source": [
    "pq.getSize()"
   ]
  },
  {
   "cell_type": "code",
   "execution_count": 38,
   "metadata": {},
   "outputs": [
    {
     "data": {
      "text/plain": [
       "40"
      ]
     },
     "execution_count": 38,
     "metadata": {},
     "output_type": "execute_result"
    }
   ],
   "source": [
    "pq.Remove()"
   ]
  },
  {
   "cell_type": "code",
   "execution_count": 39,
   "metadata": {},
   "outputs": [
    {
     "data": {
      "text/plain": [
       "50"
      ]
     },
     "execution_count": 39,
     "metadata": {},
     "output_type": "execute_result"
    }
   ],
   "source": [
    "pq.Remove()"
   ]
  },
  {
   "cell_type": "markdown",
   "metadata": {},
   "source": [
    "## MAXIMUM HEAP"
   ]
  },
  {
   "cell_type": "code",
   "execution_count": 40,
   "metadata": {},
   "outputs": [],
   "source": [
    "class PriorityQueueNode:\n",
    "    def __init__(self, ele, priority):\n",
    "        self.ele = ele\n",
    "        self.priority = priority\n",
    "\n",
    "class PriorityQueue:\n",
    "    def __init__(self):\n",
    "        self.pq = []\n",
    "    \n",
    "    def isEmpty(self):\n",
    "        return self.getSize==0\n",
    "    \n",
    "    def getSize(self):\n",
    "        return len(self.pq)\n",
    "\n",
    "    def getMax(self):\n",
    "        if self.isEmpty() is True:\n",
    "            return None\n",
    "        return self.pq[0].ele\n",
    "      \n",
    "        \n",
    "    def percolateUp(self):\n",
    "        childIndex = self.getSize()-1\n",
    "        \n",
    "        while childIndex>0:\n",
    "            parentIndex = (childIndex-1)//2\n",
    "            \n",
    "            if self.pq[parentIndex].priority<self.pq[childIndex].priority:\n",
    "                self.pq[parentIndex], self.pq[childIndex] = self.pq[childIndex], self.pq[parentIndex]\n",
    "                childIndex = parentIndex\n",
    "            else:\n",
    "                break\n",
    "    def insert(self,ele,priority):\n",
    "        newNode = PriorityQueueNode(ele, priority)\n",
    "        self.pq.append(newNode)\n",
    "        self.percolateUp()\n",
    "        \n",
    "        \n",
    "    def percolateDown(self):\n",
    "        parentIndex = 0\n",
    "        \n",
    "        while parentIndex<self.getSize():\n",
    "            leftIndex = (2*parentIndex)+1\n",
    "            rightIndex  = (2*parentIndex)+2\n",
    "            \n",
    "            if leftIndex>=self.getSize():\n",
    "                break\n",
    "            if rightIndex<len(self.pq):\n",
    "                if self.pq[leftIndex].priority>self.pq[rightIndex].priority:\n",
    "                    childIndex = leftIndex\n",
    "                else:\n",
    "                    childIndex = rightIndex\n",
    "            else:\n",
    "                childIndex = leftIndex\n",
    "                \n",
    "            if self.pq[parentIndex].priority<self.pq[childIndex].priority:\n",
    "                self.pq[parentIndex], self.pq[childIndex] = self.pq[childIndex], self.pq[parentIndex]\n",
    "                parentIndex = childIndex\n",
    "            else:\n",
    "                break\n",
    "        \n",
    "    def removeMax(self):\n",
    "        temp = self.pq[0].ele\n",
    "        self.pq[0] = self.pq[-1]\n",
    "        self.pq.pop()\n",
    "        self.percolateDown()\n",
    "        return temp"
   ]
  }
 ],
 "metadata": {
  "kernelspec": {
   "display_name": "Python 3",
   "language": "python",
   "name": "python3"
  },
  "language_info": {
   "codemirror_mode": {
    "name": "ipython",
    "version": 3
   },
   "file_extension": ".py",
   "mimetype": "text/x-python",
   "name": "python",
   "nbconvert_exporter": "python",
   "pygments_lexer": "ipython3",
   "version": "3.7.4"
  }
 },
 "nbformat": 4,
 "nbformat_minor": 4
}
