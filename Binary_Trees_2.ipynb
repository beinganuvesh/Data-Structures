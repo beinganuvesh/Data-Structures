{
 "cells": [
  {
   "cell_type": "code",
   "execution_count": 11,
   "metadata": {},
   "outputs": [],
   "source": [
    "class BinaryTreeNode:\n",
    "    def __init__(self, data):\n",
    "        self.data = data\n",
    "        self.left = None\n",
    "        self.right = None"
   ]
  },
  {
   "cell_type": "code",
   "execution_count": 12,
   "metadata": {},
   "outputs": [],
   "source": [
    "def printTreeDetailed(root):\n",
    "    if root==None:\n",
    "        return \n",
    "    print(root.data, end=':')\n",
    "    if root.left != None:\n",
    "        print(\"L\", root.left.data, end=',')\n",
    "    if root.right != None:\n",
    "        print(\"R\", root.right.data, end=\"\")\n",
    "    print()\n",
    "    printTreeDetailed(root.left)\n",
    "    printTreeDetailed(root.right)"
   ]
  },
  {
   "cell_type": "code",
   "execution_count": 13,
   "metadata": {},
   "outputs": [],
   "source": [
    "def inputTree():\n",
    "    rootData = int(input())\n",
    "    if rootData == -1:\n",
    "        return None\n",
    "    root = BinaryTreeNode(rootData)\n",
    "    leftNode = inputTree()\n",
    "    rightNode = inputTree()\n",
    "    root.left = leftNode\n",
    "    root.right = rightNode\n",
    "    return root"
   ]
  },
  {
   "cell_type": "markdown",
   "metadata": {},
   "source": [
    "### REMOVE LEAF NODES"
   ]
  },
  {
   "cell_type": "code",
   "execution_count": 6,
   "metadata": {},
   "outputs": [],
   "source": [
    "def remove_leaf_nodes(root):\n",
    "    if root==None:\n",
    "        return \n",
    "    if root.left==None and root.right==None:\n",
    "        return None\n",
    "    root.left = remove_leaf_nodes(root.left)\n",
    "    root.right = remove_leaf_nodes(root.right)\n",
    "    return root"
   ]
  },
  {
   "cell_type": "code",
   "execution_count": null,
   "metadata": {},
   "outputs": [],
   "source": [
    "root = inputTree()\n",
    "remove_leaf_nodes(root)"
   ]
  },
  {
   "cell_type": "code",
   "execution_count": null,
   "metadata": {},
   "outputs": [],
   "source": [
    "printTreeDetailed(root)"
   ]
  },
  {
   "cell_type": "markdown",
   "metadata": {},
   "source": [
    "### BALANCED BINARY TREE-1"
   ]
  },
  {
   "cell_type": "code",
   "execution_count": 7,
   "metadata": {},
   "outputs": [],
   "source": [
    "def Height(root):\n",
    "    if root==None:\n",
    "        return 0\n",
    "    return 1+max(Height(root.left), Height(root.right))"
   ]
  },
  {
   "cell_type": "code",
   "execution_count": 8,
   "metadata": {},
   "outputs": [],
   "source": [
    "def CheckBalanced(root):\n",
    "    #Base Case\n",
    "    if root==None:\n",
    "        return True\n",
    "    \n",
    "    lh = Height(root.left)\n",
    "    rh = Height(root.right)\n",
    "    \n",
    "    if abs(lh-rh)>1:\n",
    "        return False\n",
    "    \n",
    "    leftBalanced = CheckBalanced(root.left)\n",
    "    rightBalanced = CheckBalanced(root.right)\n",
    "    \n",
    "    if leftBalanced and rightBalanced:\n",
    "        return True\n",
    "    else:\n",
    "        return False\n",
    "    "
   ]
  },
  {
   "cell_type": "code",
   "execution_count": null,
   "metadata": {},
   "outputs": [],
   "source": [
    "root = inputTree()\n",
    "printTreeDetailed(root)"
   ]
  },
  {
   "cell_type": "code",
   "execution_count": null,
   "metadata": {},
   "outputs": [],
   "source": [
    "CheckBalanced(root)"
   ]
  },
  {
   "cell_type": "markdown",
   "metadata": {},
   "source": [
    "### CHECK BALANCED TREE - 2*"
   ]
  },
  {
   "cell_type": "code",
   "execution_count": 9,
   "metadata": {},
   "outputs": [],
   "source": [
    "def HeightAndCheckBalaned(root):\n",
    "    #BASE CASE\n",
    "    if root==None:\n",
    "        return 0, True\n",
    "    \n",
    "    lh, leftBalanced  = HeightAndCheckBalaned(root.left)\n",
    "    rh, rightBalanced  = HeightAndCheckBalaned(root.right)\n",
    "    \n",
    "    h = 1+max(lh, rh)\n",
    "    \n",
    "    if abs(lh-rh) > 1:\n",
    "        return h, False\n",
    "    \n",
    "    if leftBalanced and rightBalanced:\n",
    "        return h, True\n",
    "    else:\n",
    "        return h, False"
   ]
  },
  {
   "cell_type": "code",
   "execution_count": null,
   "metadata": {},
   "outputs": [],
   "source": [
    "root = InputTreeLevelWise()"
   ]
  },
  {
   "cell_type": "code",
   "execution_count": null,
   "metadata": {},
   "outputs": [],
   "source": [
    "HeightAndCheckBalaned(root)"
   ]
  },
  {
   "cell_type": "markdown",
   "metadata": {},
   "source": [
    "### DIAMETER OF TREE"
   ]
  },
  {
   "cell_type": "code",
   "execution_count": null,
   "metadata": {},
   "outputs": [],
   "source": [
    "def Diameter(root):\n",
    "    if root==None:\n",
    "        return 0\n",
    "    \n",
    "    h = Height(root.left) + Height(root.right)\n",
    "    ld = Diameter(root.left)\n",
    "    rd = Diameter(root.right)\n",
    "    \n",
    "    return max(1+h, ld, rd)"
   ]
  },
  {
   "cell_type": "code",
   "execution_count": null,
   "metadata": {},
   "outputs": [],
   "source": [
    "root = inputTree()\n",
    "printTreeDetailed(root)"
   ]
  },
  {
   "cell_type": "code",
   "execution_count": null,
   "metadata": {},
   "outputs": [],
   "source": [
    "def Diameter(root):\n",
    "    if root==None:\n",
    "        return 0, 0\n",
    "    \n",
    "    lh, ld = Diameter(root.left)\n",
    "    rh, rd = Diameter(root.right)\n",
    "    \n",
    "    height = 1 + max(lh,rh)\n",
    "    diameter = max(lh+rh, ld, rd)\n",
    "    return height, diameter"
   ]
  },
  {
   "cell_type": "markdown",
   "metadata": {},
   "source": [
    "### Level-Wise-Input"
   ]
  },
  {
   "cell_type": "code",
   "execution_count": 14,
   "metadata": {},
   "outputs": [],
   "source": [
    "def InputTreeLevelWise():\n",
    "    import queue\n",
    "    q = queue.Queue()\n",
    "    print('Enter Root Data')\n",
    "    rootData = int(input())\n",
    "    if rootData == -1:\n",
    "        return None\n",
    "    root = BinaryTreeNode(rootData)\n",
    "    q.put(root)\n",
    "    \n",
    "    while q.empty() is False:\n",
    "        current_node = q.get()\n",
    "        \n",
    "        print('Enter left child of', current_node.data)\n",
    "        leftchildData = int(input())\n",
    "        if leftchildData != -1:\n",
    "            leftchildNode = BinaryTreeNode(leftchildData)\n",
    "            current_node.left = leftchildNode\n",
    "            q.put(leftchildNode)\n",
    "        \n",
    "        print('Enter right child of', current_node.data)\n",
    "        rightchildData = int(input())\n",
    "        if rightchildData!=-1:\n",
    "            rightchildNode = BinaryTreeNode(rightchildData)\n",
    "            current_node.right = rightchildNode\n",
    "            q.put(rightchildNode)\n",
    "    return root\n",
    "    "
   ]
  },
  {
   "cell_type": "code",
   "execution_count": null,
   "metadata": {},
   "outputs": [],
   "source": [
    "8 3 10 1 6 -1 14 -1 -1 4 7 13 -1 -1 -1 -1 -1 -1 -1"
   ]
  },
  {
   "cell_type": "code",
   "execution_count": null,
   "metadata": {},
   "outputs": [],
   "source": [
    "r = InputTreeLevelWise()"
   ]
  },
  {
   "cell_type": "code",
   "execution_count": null,
   "metadata": {},
   "outputs": [],
   "source": [
    "printTreeDetailed(r)"
   ]
  },
  {
   "cell_type": "markdown",
   "metadata": {},
   "source": [
    "\n",
    "### PRINT LEVEL WISE"
   ]
  },
  {
   "cell_type": "code",
   "execution_count": 15,
   "metadata": {},
   "outputs": [],
   "source": [
    "import queue\n",
    "def printLevelWise(root):\n",
    "    q = queue.Queue()\n",
    "    if root.data == -1:\n",
    "        return None\n",
    "    q.put(root)\n",
    "    \n",
    "    while q.empty() is False:\n",
    "        currentnode = q.get()\n",
    "        if currentnode != None:\n",
    "            if currentnode.left != None:\n",
    "                leftnode = currentnode.left\n",
    "                print(currentnode.data,\":\",\"L\",\":\",leftnode.data,\",\",end=\"\")\n",
    "                q.put(leftnode)\n",
    "            else:\n",
    "                print(currentnode.data,\":\",\"L\",\":\",-1,\",\",end=\"\")\n",
    "    \n",
    "        if currentnode != None:\n",
    "            if currentnode.right != None:\n",
    "                rightnode = currentnode.right\n",
    "                print(\"R\",\":\",rightnode.data)\n",
    "                q.put(rightnode)\n",
    "            else:\n",
    "                print(\"R\",\":\",-1)"
   ]
  },
  {
   "cell_type": "code",
   "execution_count": null,
   "metadata": {},
   "outputs": [],
   "source": [
    "printLevelWise(r)"
   ]
  },
  {
   "cell_type": "code",
   "execution_count": null,
   "metadata": {},
   "outputs": [],
   "source": [
    "print(4,\":\",sep=\"\")"
   ]
  },
  {
   "cell_type": "markdown",
   "metadata": {},
   "source": [
    "### BUILD TREE FROM INORDER AND PREORDER"
   ]
  },
  {
   "cell_type": "code",
   "execution_count": 8,
   "metadata": {},
   "outputs": [],
   "source": [
    "def buildTreePreOrder(preorder, inorder):\n",
    "    \n",
    "    if len(preorder)==0:\n",
    "        return\n",
    "    rootData = preorder[0]\n",
    "    root = BinaryTreeNode(rootData)\n",
    "    \n",
    "    for i in range(len(inorder)):\n",
    "        if inorder[i]==rootData:\n",
    "            break\n",
    "    rootindex = i \n",
    "    \n",
    "    left_inorder = inorder[0:rootindex]\n",
    "    right_inorder = inorder[rootindex+1:]\n",
    "    left_preorder = preorder[1:1+rootindex]\n",
    "    right_preorder = preorder[1+rootindex:]\n",
    "    \n",
    "    leftTree = buildTreePreOrder(left_preorder, left_inorder)\n",
    "    rightTree = buildTreePreOrder(right_preorder, right_inorder)\n",
    "    \n",
    "    root.left = leftTree\n",
    "    root.right = rightTree\n",
    "    \n",
    "    return root"
   ]
  },
  {
   "cell_type": "markdown",
   "metadata": {},
   "source": [
    "### BUILD TREE FROM INORDER AND POSTORDER"
   ]
  },
  {
   "cell_type": "code",
   "execution_count": null,
   "metadata": {},
   "outputs": [],
   "source": [
    "def buildTreePostOrder(postOrder, inOrder):\n",
    "    #BASE CASE:\n",
    "    if len(postorder)==0:\n",
    "        return\n",
    "    \n",
    "    rootData = postorder[-1]\n",
    "    root = BinaryTreeNode(rootData)\n",
    "    \n",
    "    for i in range(len(inorder)):\n",
    "        if inorder[i]==rootData:\n",
    "            break\n",
    "    rootindex = i \n",
    "    \n",
    "    lefttreeinorder = inorder[0:rootindex]\n",
    "    righttreeinorder = inorder[rootindex+1:]\n",
    "    lefttreepostorder = postorder[0:rootindex]\n",
    "    righttreepostorder = postorder[rootindex:-1]\n",
    "    \n",
    "    leftTree = buildTreePostOrder(lefttreepostorder, lefttreeinorder)\n",
    "    rightTree = buildTreePostOrder(righttreepostorder, righttreeinorder)\n",
    "    \n",
    "    root.left = leftTree\n",
    "    root.right = rightTree\n",
    "    \n",
    "    return root    "
   ]
  },
  {
   "cell_type": "markdown",
   "metadata": {},
   "source": [
    "# ASSSIGNMENT"
   ]
  },
  {
   "cell_type": "code",
   "execution_count": null,
   "metadata": {},
   "outputs": [],
   "source": [
    "def printLevelATNewLine(root):\n",
    "    import queue\n",
    "    q = queue.Queue()\n",
    "    \n",
    "    q.put(root)\n",
    "    q.put(None)\n",
    "    while q.empty() is False:\n",
    "        current_node = q.get()\n",
    "        \n",
    "        if current_node!=None:\n",
    "            print(current_node.data, end=\" \")\n",
    "        else:\n",
    "            print()\n",
    "            if q.empty() is False:\n",
    "                q.put(None)\n",
    "            else:\n",
    "                break\n",
    "        if current_node != None:\n",
    "            if current_node.left!=None:\n",
    "                leftchild = current_node.left\n",
    "                q.put(leftchild)\n",
    "            if current_node.right!=None:\n",
    "                rightchild = current_node.right\n",
    "                q.put(rightchild)"
   ]
  },
  {
   "cell_type": "code",
   "execution_count": null,
   "metadata": {},
   "outputs": [],
   "source": [
    "import queue\n",
    "def LEFT_AND_RIGHT_VIEWS(root):\n",
    "    q=queue.Queue()\n",
    "    q.put(root)\n",
    "    q.put(None)\n",
    "    res=[]\n",
    "    l=[]\n",
    "    while q.empty() is False:\n",
    "        current=q.get()\n",
    "        \n",
    "        if current is not None:\n",
    "            l.append(current.data)\n",
    "        else:\n",
    "            #Save the answer!\n",
    "            res.append(l)\n",
    "            #None is encontered, therefore level has changed!\n",
    "            l=[]\n",
    "            if q.empty() is False:\n",
    "                q.put(None)\n",
    "            else:\n",
    "                break\n",
    "        if current:\n",
    "            if current.left:\n",
    "                q.put(current.left)\n",
    "            if current.right:\n",
    "                q.put(current.right)\n",
    "                \n",
    "    return res"
   ]
  },
  {
   "cell_type": "code",
   "execution_count": null,
   "metadata": {},
   "outputs": [],
   "source": [
    "Views(r)"
   ]
  },
  {
   "cell_type": "code",
   "execution_count": null,
   "metadata": {},
   "outputs": [],
   "source": [
    "r = InputTreeLevelWise()"
   ]
  },
  {
   "cell_type": "code",
   "execution_count": null,
   "metadata": {},
   "outputs": [],
   "source": [
    "printLevelATNewLine(r)"
   ]
  },
  {
   "cell_type": "markdown",
   "metadata": {},
   "source": [
    "### Path Sum Root to Leaf**"
   ]
  },
  {
   "cell_type": "code",
   "execution_count": null,
   "metadata": {},
   "outputs": [],
   "source": [
    "def rootToLeafPathsSumToK(root, k, lst):\n",
    "    #BASE CASE\n",
    "    if root==None:\n",
    "        return\n",
    "    \n",
    "    if root.left==None and root.right==None and root.data==k:\n",
    "        lst.append(root.data)\n",
    "        for i in lst:\n",
    "            print(i, end=\" \")\n",
    "        print()\n",
    "        lst.pop()\n",
    "        return \n",
    "    \n",
    "    lst.append(root.data)\n",
    "    rootToLeafPathsSumToK(root.left, k-root.data, lst)\n",
    "    rootToLeafPathsSumToK(root.right, k-root.data, lst)\n",
    "    lst.pop()\n",
    "    return "
   ]
  },
  {
   "cell_type": "code",
   "execution_count": null,
   "metadata": {},
   "outputs": [],
   "source": [
    "r = InputTreeLevelWise()"
   ]
  },
  {
   "cell_type": "code",
   "execution_count": null,
   "metadata": {},
   "outputs": [],
   "source": [
    "rootToLeafPathsSumToK(r, 13, [])"
   ]
  },
  {
   "cell_type": "markdown",
   "metadata": {},
   "source": [
    "### Print nodes at distance k from node"
   ]
  },
  {
   "cell_type": "code",
   "execution_count": null,
   "metadata": {},
   "outputs": [],
   "source": [
    "def print_nodes_at_depth_k(root, k):\n",
    "    if root==None:\n",
    "        return\n",
    "    if k==0:\n",
    "        print(root.data)\n",
    "        return \n",
    "    print_nodes_at_depth_k(root.left, k-1)\n",
    "    print_nodes_at_depth_k(root.right, k-1)\n",
    "    return"
   ]
  },
  {
   "cell_type": "code",
   "execution_count": null,
   "metadata": {},
   "outputs": [],
   "source": [
    "def print_K_nodes(root, value, k):\n",
    "    if root==None:\n",
    "        return -1\n",
    "    #BASE CASE\n",
    "    if root.data==value:\n",
    "        print_nodes_at_depth_k(root, k)\n",
    "        return 0\n",
    "    \n",
    "    ld = print_K_nodes(root.left, value, k)\n",
    "    if ld != -1:\n",
    "        if ld+1 == k:\n",
    "            print(root.data)\n",
    "        else:\n",
    "            print_nodes_at_depth_k(root.right, k-ld-2)\n",
    "        return 1+ld\n",
    "        \n",
    "    rd = print_K_nodes(root.right, value, k)\n",
    "    if rd != -1:\n",
    "        if rd+1 == k:\n",
    "            print(root.data)\n",
    "        else:\n",
    "            print_nodes_at_depth_k(root.left, k-rd-2)\n",
    "        return 1+rd\n",
    "    return -1"
   ]
  },
  {
   "cell_type": "code",
   "execution_count": null,
   "metadata": {},
   "outputs": [],
   "source": [
    "r = InputTreeLevelWise()"
   ]
  },
  {
   "cell_type": "code",
   "execution_count": null,
   "metadata": {},
   "outputs": [],
   "source": [
    "int('100')"
   ]
  },
  {
   "cell_type": "code",
   "execution_count": null,
   "metadata": {},
   "outputs": [],
   "source": []
  },
  {
   "cell_type": "code",
   "execution_count": null,
   "metadata": {},
   "outputs": [],
   "source": []
  },
  {
   "cell_type": "markdown",
   "metadata": {},
   "source": [
    "## LEETCODE AND SHEET"
   ]
  },
  {
   "cell_type": "code",
   "execution_count": null,
   "metadata": {},
   "outputs": [],
   "source": [
    "def Find_Path(root):\n",
    "    if root==None:\n",
    "        l=[]\n",
    "        l.append(\"\")\n",
    "        return l\n",
    "    \n",
    "    smallerOutput1 = Find_Path(root.left)\n",
    "    smallerOutput2 = Find_Path(root.right)\n",
    "    \n",
    "    ans = []\n",
    "    for i in smallerOutput1:\n",
    "        if (str(root.data)+i) not in ans:\n",
    "            ans.append(str(root.data)+i)\n",
    "    for i in smallerOutput2:\n",
    "        if (str(root.data)+i) not in ans:\n",
    "            ans.append(str(root.data)+i)\n",
    "        \n",
    "    return ans"
   ]
  },
  {
   "cell_type": "code",
   "execution_count": null,
   "metadata": {},
   "outputs": [],
   "source": []
  },
  {
   "cell_type": "code",
   "execution_count": null,
   "metadata": {},
   "outputs": [],
   "source": []
  },
  {
   "cell_type": "code",
   "execution_count": null,
   "metadata": {},
   "outputs": [],
   "source": [
    "def MirrorTree(root):\n",
    "    if root is None:\n",
    "        return \n",
    "    temp=root.left\n",
    "    root.left=root.right\n",
    "    root.right=temp\n",
    "    \n",
    "    MirrorTree(root.left)\n",
    "    MirrorTree(root.right)\n",
    "    \n",
    "    return root"
   ]
  },
  {
   "cell_type": "code",
   "execution_count": null,
   "metadata": {},
   "outputs": [],
   "source": []
  },
  {
   "cell_type": "code",
   "execution_count": null,
   "metadata": {},
   "outputs": [],
   "source": []
  },
  {
   "cell_type": "code",
   "execution_count": null,
   "metadata": {},
   "outputs": [],
   "source": [
    "def findIndex(s, si, ei):\n",
    "    if si>ei:\n",
    "        return -1\n",
    "    \n",
    "    l=[]\n",
    "    for i in range(si, ei+1):\n",
    "        if s[i]=='(':\n",
    "            l.append(s[i])\n",
    "        else:\n",
    "            if len(l)!=0 and l[-1]=='(':\n",
    "                l.pop(-1)\n",
    "            elif len(l)==0:\n",
    "                return i\n",
    "    return -1\n",
    "\n",
    "def ConstructTree(s, si, ei):\n",
    "    #Base case:\n",
    "    if si>ei:\n",
    "        return None\n",
    "    \n",
    "    rootData=int(s[si])\n",
    "    root=BinaryTreeNode(rootData)\n",
    "    index=-1\n",
    "    \n",
    "    if (si+1<=ei) and (si+1=='('):\n",
    "        index=findIndex(s, si, ei)\n",
    "    \n",
    "    if index!=-1:\n",
    "        #Recuresive Calls!\n",
    "        root.left=ConstructTree(s, si+2, index-1)\n",
    "        root.right=ConstructTree(s, index+2, right_ei+1)\n",
    "  \n",
    "    return root\n"
   ]
  },
  {
   "cell_type": "code",
   "execution_count": null,
   "metadata": {},
   "outputs": [],
   "source": [
    "s='4(2(3)(1))(6(5))'\n",
    "ConstructTree(s, 0, len(s)-1)"
   ]
  },
  {
   "cell_type": "code",
   "execution_count": null,
   "metadata": {},
   "outputs": [],
   "source": []
  },
  {
   "cell_type": "code",
   "execution_count": null,
   "metadata": {},
   "outputs": [],
   "source": []
  },
  {
   "cell_type": "code",
   "execution_count": 25,
   "metadata": {},
   "outputs": [],
   "source": [
    "def inOrder(root):\n",
    "    if root is None:\n",
    "        return \n",
    "    inOrder(root.left)\n",
    "    print(root.data, end=\" \")\n",
    "    inOrder(root.right)"
   ]
  },
  {
   "cell_type": "code",
   "execution_count": null,
   "metadata": {},
   "outputs": [],
   "source": []
  },
  {
   "cell_type": "code",
   "execution_count": null,
   "metadata": {},
   "outputs": [],
   "source": []
  },
  {
   "cell_type": "code",
   "execution_count": 1,
   "metadata": {},
   "outputs": [],
   "source": [
    "def Preorder(root):\n",
    "    if root is None:\n",
    "        return \n",
    "    print(root.data, end=\" \")\n",
    "    Preorder(root.left)\n",
    "    Preorder(root.right)"
   ]
  },
  {
   "cell_type": "code",
   "execution_count": null,
   "metadata": {},
   "outputs": [],
   "source": []
  },
  {
   "cell_type": "code",
   "execution_count": null,
   "metadata": {},
   "outputs": [],
   "source": []
  },
  {
   "cell_type": "code",
   "execution_count": 20,
   "metadata": {},
   "outputs": [],
   "source": [
    "def PostOrder(root):\n",
    "    if root is None:\n",
    "        return \n",
    "    \n",
    "    Preorder(root.left)\n",
    "    Preorder(root.right)\n",
    "    print(root.data, end=\" \")"
   ]
  },
  {
   "cell_type": "code",
   "execution_count": null,
   "metadata": {},
   "outputs": [],
   "source": []
  },
  {
   "cell_type": "code",
   "execution_count": null,
   "metadata": {},
   "outputs": [],
   "source": []
  },
  {
   "cell_type": "code",
   "execution_count": 22,
   "metadata": {},
   "outputs": [],
   "source": [
    "import queue\n",
    "def Preorder_Iterative(root):    \n",
    "    q=queue.LifoQueue()\n",
    "    q.put(root)\n",
    "    \n",
    "    while q.empty() is False:\n",
    "        current=q.get()\n",
    "        if current:\n",
    "            print(current.data, end=\" \")\n",
    "        \n",
    "        if current.right:\n",
    "            q.put(current.right)\n",
    "        if current.left:\n",
    "            q.put(current.left)\n",
    "\n",
    "            "
   ]
  },
  {
   "cell_type": "code",
   "execution_count": null,
   "metadata": {},
   "outputs": [],
   "source": []
  },
  {
   "cell_type": "code",
   "execution_count": null,
   "metadata": {},
   "outputs": [],
   "source": []
  },
  {
   "cell_type": "code",
   "execution_count": 13,
   "metadata": {},
   "outputs": [],
   "source": [
    "def isSumTree(root):\n",
    "    # Code here\n",
    "    if root is None:\n",
    "        return True, 0\n",
    "    if root.left is None and root.right is None:\n",
    "        return True, root.data\n",
    "    \n",
    "    isLeftSum, LeftSum = isSumTree(root.left)\n",
    "    isRightSum, RightSum = isSumTree(root.right)\n",
    "    \n",
    "    if (isLeftSum and isRightSum) and (root.data==LeftSum+RightSum):\n",
    "        return True, LeftSum+RightSum+root.data\n",
    "    else:\n",
    "        return False, LeftSum+RightSum+root.data\n",
    "    "
   ]
  },
  {
   "cell_type": "code",
   "execution_count": 33,
   "metadata": {},
   "outputs": [
    {
     "name": "stdout",
     "output_type": "stream",
     "text": [
      "Enter Root Data\n",
      "10\n",
      "Enter left child of 10\n",
      "20\n",
      "Enter right child of 10\n",
      "30\n",
      "Enter left child of 20\n",
      "10\n",
      "Enter right child of 20\n",
      "15\n",
      "Enter left child of 30\n",
      "-1\n",
      "Enter right child of 30\n",
      "-1\n",
      "Enter left child of 10\n",
      "-1\n",
      "Enter right child of 10\n",
      "-1\n",
      "Enter left child of 15\n",
      "-1\n",
      "Enter right child of 15\n",
      "-1\n"
     ]
    }
   ],
   "source": [
    "r=InputTreeLevelWise()"
   ]
  },
  {
   "cell_type": "code",
   "execution_count": 16,
   "metadata": {},
   "outputs": [
    {
     "data": {
      "text/plain": [
       "(False, 80)"
      ]
     },
     "execution_count": 16,
     "metadata": {},
     "output_type": "execute_result"
    }
   ],
   "source": [
    "isSumTree(r)"
   ]
  },
  {
   "cell_type": "code",
   "execution_count": null,
   "metadata": {},
   "outputs": [],
   "source": []
  },
  {
   "cell_type": "code",
   "execution_count": null,
   "metadata": {},
   "outputs": [],
   "source": []
  },
  {
   "cell_type": "code",
   "execution_count": 1,
   "metadata": {},
   "outputs": [],
   "source": [
    "def Height(root):\n",
    "    if root is None:\n",
    "        return 0\n",
    "    return 1+max(Height(root.left), Height(root.right))\n",
    "    \n",
    "def check(root):\n",
    "    l=Height(root.left)\n",
    "    r=Height(root.right)\n",
    "    return l,r"
   ]
  },
  {
   "cell_type": "code",
   "execution_count": 35,
   "metadata": {},
   "outputs": [
    {
     "data": {
      "text/plain": [
       "(2, 1)"
      ]
     },
     "execution_count": 35,
     "metadata": {},
     "output_type": "execute_result"
    }
   ],
   "source": [
    "check(r)"
   ]
  },
  {
   "cell_type": "code",
   "execution_count": null,
   "metadata": {},
   "outputs": [],
   "source": []
  },
  {
   "cell_type": "code",
   "execution_count": null,
   "metadata": {},
   "outputs": [],
   "source": []
  },
  {
   "cell_type": "code",
   "execution_count": 27,
   "metadata": {},
   "outputs": [],
   "source": [
    "import sys\n",
    "def findLargestSubtreeSumUtil(root, ans):\n",
    "    if root is None:\n",
    "        return 0\n",
    "    currsum=findLargestSubtreeSumUtil(root.left, ans)+findLargestSubtreeSumUtil(root.right, ans)+root.data\n",
    "    ans=max(ans, currsum)\n",
    "    return ans\n",
    "    \n",
    "    \n",
    "def findLargestSubtreeSum(root):\n",
    "    if root is None:\n",
    "        return 0 \n",
    "    ans=-sys.maxsize\n",
    "    r=findLargestSubtreeSumUtil(root, ans)\n",
    "    return r"
   ]
  },
  {
   "cell_type": "code",
   "execution_count": 17,
   "metadata": {},
   "outputs": [
    {
     "name": "stdout",
     "output_type": "stream",
     "text": [
      "Enter Root Data\n",
      "1\n",
      "Enter left child of 1\n",
      "-2\n",
      "Enter right child of 1\n",
      "3\n",
      "Enter left child of -2\n",
      "4\n",
      "Enter right child of -2\n",
      "5\n",
      "Enter left child of 3\n",
      "-6\n",
      "Enter right child of 3\n",
      "2\n",
      "Enter left child of 4\n",
      "-1\n",
      "Enter right child of 4\n",
      "-1\n",
      "Enter left child of 5\n",
      "-1\n",
      "Enter right child of 5\n",
      "-1\n",
      "Enter left child of -6\n",
      "-1\n",
      "Enter right child of -6\n",
      "-1\n",
      "Enter left child of 2\n",
      "-1\n",
      "Enter right child of 2\n",
      "-1\n"
     ]
    }
   ],
   "source": [
    "r=InputTreeLevelWise()"
   ]
  },
  {
   "cell_type": "code",
   "execution_count": 28,
   "metadata": {},
   "outputs": [
    {
     "data": {
      "text/plain": [
       "7"
      ]
     },
     "execution_count": 28,
     "metadata": {},
     "output_type": "execute_result"
    }
   ],
   "source": [
    "findLargestSubtreeSum(r)"
   ]
  },
  {
   "cell_type": "code",
   "execution_count": null,
   "metadata": {},
   "outputs": [],
   "source": []
  },
  {
   "cell_type": "code",
   "execution_count": null,
   "metadata": {},
   "outputs": [],
   "source": []
  },
  {
   "cell_type": "code",
   "execution_count": 37,
   "metadata": {},
   "outputs": [],
   "source": [
    "def printList(path, pos):\n",
    "    for i in range(pos, len(path)):\n",
    "        print(path[i], end=\" \")\n",
    "    print()\n",
    "\n",
    "def PrintPath(root, path, k):\n",
    "    if root is None:\n",
    "        return \n",
    "    \n",
    "    path.append(root.data)\n",
    "    PrintPath(root.left, path, k)\n",
    "    PrintPath(root.right, path, k)\n",
    "    \n",
    "    f=0\n",
    "    for i in range(len(path)-1, -1, -1):\n",
    "        f+=path[i]\n",
    "        if f==k:\n",
    "            printList(path, i)\n",
    "    path.pop(-1)        \n",
    "    return "
   ]
  },
  {
   "cell_type": "code",
   "execution_count": 36,
   "metadata": {},
   "outputs": [
    {
     "name": "stdout",
     "output_type": "stream",
     "text": [
      "3 2 \n",
      "3 1 1 \n",
      "1 3 1 \n",
      "4 1 \n",
      "1 -2 4 2 \n",
      "5 \n"
     ]
    }
   ],
   "source": [
    "p=[]\n",
    "k=5\n",
    "PrintPath(r, p, k)"
   ]
  },
  {
   "cell_type": "code",
   "execution_count": null,
   "metadata": {},
   "outputs": [],
   "source": []
  },
  {
   "cell_type": "code",
   "execution_count": null,
   "metadata": {},
   "outputs": [],
   "source": []
  },
  {
   "cell_type": "code",
   "execution_count": 7,
   "metadata": {},
   "outputs": [],
   "source": [
    "def Serialize(root, m):\n",
    "    if root is None:\n",
    "        return \"\"\n",
    "    if root.left is None and root.right is None:\n",
    "        return str(root.data)\n",
    "    \n",
    "    s=\"\"\n",
    "    a=Serialize(root.left, m)\n",
    "    b=Serialize(root.right, m)\n",
    "    s=str(root.data)+a+b\n",
    "    m[s]+=1\n",
    "    \n",
    "    return s\n",
    "\n",
    "def dupSub(root):\n",
    "    m={}\n",
    "    Serialize(root, m)\n",
    "    for i in m:\n",
    "        if m[i]>=2:\n",
    "            return True\n",
    "    return False"
   ]
  },
  {
   "cell_type": "code",
   "execution_count": 87,
   "metadata": {},
   "outputs": [
    {
     "data": {
      "text/plain": [
       "True"
      ]
     },
     "execution_count": 87,
     "metadata": {},
     "output_type": "execute_result"
    }
   ],
   "source": [
    "dupSub(root)"
   ]
  },
  {
   "cell_type": "code",
   "execution_count": null,
   "metadata": {},
   "outputs": [],
   "source": []
  },
  {
   "cell_type": "code",
   "execution_count": null,
   "metadata": {},
   "outputs": [],
   "source": []
  },
  {
   "cell_type": "code",
   "execution_count": 89,
   "metadata": {},
   "outputs": [],
   "source": [
    "def findDist(root,a,b):\n",
    "    \n",
    "    q=queue.Queue()\n",
    "    q.put(root)\n",
    "    l=[]\n",
    "    \n",
    "    while q.empty() is False:\n",
    "        current=q.get()\n",
    "        l.append(current.data)\n",
    "        if current.left:\n",
    "            q.put(current.left)\n",
    "        if current.right:\n",
    "            q.put(current.right)\n",
    "            \n",
    "    return l"
   ]
  },
  {
   "cell_type": "code",
   "execution_count": null,
   "metadata": {},
   "outputs": [],
   "source": []
  },
  {
   "cell_type": "code",
   "execution_count": null,
   "metadata": {},
   "outputs": [],
   "source": []
  },
  {
   "cell_type": "code",
   "execution_count": 13,
   "metadata": {},
   "outputs": [],
   "source": [
    "import queue\n",
    "def LevelWisePrinting(root):\n",
    "    l=[]\n",
    "    q=queue.Queue()\n",
    "    q.put(root)\n",
    "    q.put(None)\n",
    "    \n",
    "    r=[]\n",
    "    while q:\n",
    "        current=q.get()\n",
    "        if current is None:\n",
    "            if len(r)!=0:\n",
    "                l.append(r)\n",
    "                r=[]\n",
    "                q.put(None)\n",
    "            else:\n",
    "                break\n",
    "        else:\n",
    "            r.append(current.data)\n",
    "            if current.left:\n",
    "                q.put(current.left) \n",
    "            if current.right:\n",
    "                q.put(current.right)\n",
    "                \n",
    "    return l"
   ]
  },
  {
   "cell_type": "code",
   "execution_count": 14,
   "metadata": {},
   "outputs": [
    {
     "data": {
      "text/plain": [
       "[[1], [2, 3], [4, 5, 6, 7]]"
      ]
     },
     "execution_count": 14,
     "metadata": {},
     "output_type": "execute_result"
    }
   ],
   "source": [
    "LevelWisePrinting(r)"
   ]
  },
  {
   "cell_type": "code",
   "execution_count": null,
   "metadata": {},
   "outputs": [],
   "source": []
  },
  {
   "cell_type": "code",
   "execution_count": null,
   "metadata": {},
   "outputs": [],
   "source": []
  },
  {
   "cell_type": "code",
   "execution_count": 3,
   "metadata": {},
   "outputs": [],
   "source": [
    "import queue\n",
    "def Vertical_Order_Traversal(root):\n",
    "    q=queue.Queue()\n",
    "    q.put((root, 0))\n",
    "    m={}\n",
    "    \n",
    "    while q.empty() is False:\n",
    "        current=q.get()\n",
    "        node=current[0]\n",
    "        distance=current[1]\n",
    "        \n",
    "        if distance in m:\n",
    "            m[distance].append(node.data)\n",
    "        else:\n",
    "            m[distance]=[node.data]\n",
    "            \n",
    "        if node.left:\n",
    "            q.put((node.left, distance-1))\n",
    "        if node.right:\n",
    "            q.put((node.right, distance+1))\n",
    "            \n",
    "    res=[]        \n",
    "    for i in sorted(d):\n",
    "        res.append(d[i])\n",
    "        \n",
    "    return res"
   ]
  },
  {
   "cell_type": "code",
   "execution_count": null,
   "metadata": {},
   "outputs": [],
   "source": []
  },
  {
   "cell_type": "code",
   "execution_count": null,
   "metadata": {},
   "outputs": [],
   "source": []
  },
  {
   "cell_type": "code",
   "execution_count": 22,
   "metadata": {},
   "outputs": [],
   "source": [
    "import queue\n",
    "def Anagram(root1, root2):\n",
    "    q1=queue.Queue()\n",
    "    q2=queue.Queue()\n",
    "    q1.put(root1)\n",
    "    q2.put(root2)\n",
    "    q1.put(None)\n",
    "    q2.put(None)\n",
    "    \n",
    "    r1=[]\n",
    "    r2=[]\n",
    "    \n",
    "    while q1 and q2:\n",
    "        \n",
    "        current1=q1.get()\n",
    "        current2=q2.get()\n",
    "        if current1 is None:\n",
    "            if len(r1)!=0:\n",
    "                r1.sort()\n",
    "                r2.sort()\n",
    "                if r1!=r2:\n",
    "                    return False\n",
    "                r1=[]\n",
    "                r2=[]\n",
    "                q1.put(None)\n",
    "                q2.put(None)\n",
    "            else:\n",
    "                break\n",
    "        else:\n",
    "            r1.append(current1.data)\n",
    "            r2.append(current2.data)\n",
    "            \n",
    "            if current1.left:\n",
    "                q1.put(current1.left) \n",
    "            if current1.right:\n",
    "                q1.put(current1.right)\n",
    "                \n",
    "            if current2.left:\n",
    "                q2.put(current2.left)\n",
    "            if current2.right:\n",
    "                q2.put(current2.right)\n",
    "                \n",
    "    return True"
   ]
  },
  {
   "cell_type": "code",
   "execution_count": 17,
   "metadata": {},
   "outputs": [
    {
     "name": "stdout",
     "output_type": "stream",
     "text": [
      "Enter Root Data\n",
      "1\n",
      "Enter left child of 1\n",
      "3\n",
      "Enter right child of 1\n",
      "2\n",
      "Enter left child of 3\n",
      "-1\n",
      "Enter right child of 3\n",
      "-1\n",
      "Enter left child of 2\n",
      "5\n",
      "Enter right child of 2\n",
      "4\n",
      "Enter left child of 5\n",
      "-1\n",
      "Enter right child of 5\n",
      "-1\n",
      "Enter left child of 4\n",
      "-1\n",
      "Enter right child of 4\n",
      "-1\n"
     ]
    }
   ],
   "source": [
    "r1=InputTreeLevelWise()"
   ]
  },
  {
   "cell_type": "code",
   "execution_count": 23,
   "metadata": {},
   "outputs": [
    {
     "data": {
      "text/plain": [
       "True"
      ]
     },
     "execution_count": 23,
     "metadata": {},
     "output_type": "execute_result"
    }
   ],
   "source": [
    "Anagram(r1,r2)"
   ]
  },
  {
   "cell_type": "code",
   "execution_count": null,
   "metadata": {},
   "outputs": [],
   "source": []
  },
  {
   "cell_type": "code",
   "execution_count": null,
   "metadata": {},
   "outputs": [],
   "source": []
  },
  {
   "cell_type": "code",
   "execution_count": 47,
   "metadata": {},
   "outputs": [],
   "source": [
    "def SumOfGrandChildren(root, d):\n",
    "    s=0  \n",
    "    if root.left:\n",
    "        s+=Maximum_Helper(root.left.left, d)+Maximum_Helper(root.left.right, d)\n",
    "    if root.right:\n",
    "        s+=Maximum_Helper(root.right.left, d)+Maximum_Helper(root.right.right, d) \n",
    "    return s\n",
    "\n",
    "def Maximum_Helper(root, d):\n",
    "    if root is None:\n",
    "        return 0\n",
    "    \n",
    "    if root in d:\n",
    "        return d[root]\n",
    "    \n",
    "    #Includig the current node!\n",
    "    include=root.data+SumOfGrandChildren(root, d)\n",
    "    #Excluding the current node!\n",
    "    exclude=Maximum_Helper(root.left, d)+Maximum_Helper(root.right, d)\n",
    "    \n",
    "    m=max(include, exclude)\n",
    "    d[root]=m\n",
    "    return m\n",
    "\n",
    "def Maximum_sum_of_nodes_in_Binary_tree_such_that_no_two_are_adjacent(root):\n",
    "    d={}\n",
    "    return Maximum_Helper(root, d)"
   ]
  },
  {
   "cell_type": "code",
   "execution_count": 31,
   "metadata": {},
   "outputs": [
    {
     "name": "stdout",
     "output_type": "stream",
     "text": [
      "Enter Root Data\n",
      "1\n",
      "Enter left child of 1\n",
      "2\n",
      "Enter right child of 1\n",
      "3\n",
      "Enter left child of 2\n",
      "1\n",
      "Enter right child of 2\n",
      "-1\n",
      "Enter left child of 3\n",
      "4\n",
      "Enter right child of 3\n",
      "5\n",
      "Enter left child of 1\n",
      "-1\n",
      "Enter right child of 1\n",
      "-1\n",
      "Enter left child of 4\n",
      "-1\n",
      "Enter right child of 4\n",
      "-1\n",
      "Enter left child of 5\n",
      "-1\n",
      "Enter right child of 5\n",
      "-1\n"
     ]
    }
   ],
   "source": [
    "r=InputTreeLevelWise()"
   ]
  },
  {
   "cell_type": "code",
   "execution_count": 48,
   "metadata": {},
   "outputs": [
    {
     "data": {
      "text/plain": [
       "11"
      ]
     },
     "execution_count": 48,
     "metadata": {},
     "output_type": "execute_result"
    }
   ],
   "source": [
    "Maximum_sum_of_nodes_in_Binary_tree_such_that_no_two_are_adjacent(r)"
   ]
  },
  {
   "cell_type": "code",
   "execution_count": null,
   "metadata": {},
   "outputs": [],
   "source": []
  },
  {
   "cell_type": "code",
   "execution_count": null,
   "metadata": {},
   "outputs": [],
   "source": []
  },
  {
   "cell_type": "code",
   "execution_count": 79,
   "metadata": {},
   "outputs": [],
   "source": [
    "def printAllDups(root):\n",
    "    #code here\n",
    "    m={}\n",
    "    Serialize(root, m)\n",
    "    return m\n",
    "\n",
    "\n",
    "def Serialize(root, m):\n",
    "    if root is None:\n",
    "        return \"$\"\n",
    "    if root.left is None and root.right is None:\n",
    "        m[str(root.data)]=m.get(str(root.data), 0)+1\n",
    "        return str(root.data)\n",
    "        \n",
    "    s=\"\"\n",
    "    a=Serialize(root.left, m)\n",
    "    b=Serialize(root.right, m)\n",
    "    s=a+b+str(root.data)\n",
    "    m[s]=m.get(s,0)+1\n",
    "    \n",
    "    return s"
   ]
  },
  {
   "cell_type": "code",
   "execution_count": 50,
   "metadata": {},
   "outputs": [
    {
     "name": "stdout",
     "output_type": "stream",
     "text": [
      "Enter Root Data\n",
      "1\n",
      "Enter left child of 1\n",
      "2\n",
      "Enter right child of 1\n",
      "3\n",
      "Enter left child of 2\n",
      "4\n",
      "Enter right child of 2\n",
      "-1\n",
      "Enter left child of 3\n",
      "2\n",
      "Enter right child of 3\n",
      "4\n",
      "Enter left child of 4\n",
      "-1\n",
      "Enter right child of 4\n",
      "-1\n",
      "Enter left child of 2\n",
      "4\n",
      "Enter right child of 2\n",
      "-1\n",
      "Enter left child of 4\n",
      "-1\n",
      "Enter right child of 4\n",
      "-1\n",
      "Enter left child of 4\n",
      "-1\n",
      "Enter right child of 4\n",
      "-1\n"
     ]
    }
   ],
   "source": [
    "r=InputTreeLevelWise()"
   ]
  },
  {
   "cell_type": "code",
   "execution_count": 80,
   "metadata": {},
   "outputs": [
    {
     "data": {
      "text/plain": [
       "{'4': 3, '4$2': 2, '4$243': 1, '4$24$2431': 1}"
      ]
     },
     "execution_count": 80,
     "metadata": {},
     "output_type": "execute_result"
    }
   ],
   "source": [
    "printAllDups(r)"
   ]
  }
 ],
 "metadata": {
  "kernelspec": {
   "display_name": "Python 3",
   "language": "python",
   "name": "python3"
  },
  "language_info": {
   "codemirror_mode": {
    "name": "ipython",
    "version": 3
   },
   "file_extension": ".py",
   "mimetype": "text/x-python",
   "name": "python",
   "nbconvert_exporter": "python",
   "pygments_lexer": "ipython3",
   "version": "3.8.5"
  }
 },
 "nbformat": 4,
 "nbformat_minor": 4
}
