{
 "cells": [
  {
   "cell_type": "code",
   "execution_count": 1,
   "metadata": {},
   "outputs": [],
   "source": [
    "class BinaryTreeNode:\n",
    "    def __init__(self, data):\n",
    "        self.data = data\n",
    "        self.left = None\n",
    "        self.right = None"
   ]
  },
  {
   "cell_type": "code",
   "execution_count": 2,
   "metadata": {},
   "outputs": [],
   "source": [
    "bt1 = BinaryTreeNode(1)\n",
    "bt2 = BinaryTreeNode(10)\n",
    "bt3 = BinaryTreeNode(12)\n",
    "bt1.left = bt2\n",
    "bt1.right = bt3"
   ]
  },
  {
   "cell_type": "markdown",
   "metadata": {},
   "source": [
    "# PRINTING TREE"
   ]
  },
  {
   "cell_type": "code",
   "execution_count": 3,
   "metadata": {},
   "outputs": [],
   "source": [
    "def printTree(root):\n",
    "    if root==None:\n",
    "        return \n",
    "    print(root.data)\n",
    "    printTree(root.left)\n",
    "    printTree(root.right)"
   ]
  },
  {
   "cell_type": "code",
   "execution_count": 4,
   "metadata": {},
   "outputs": [],
   "source": [
    "def printTreeDetailed(root):\n",
    "    if root==None:\n",
    "        return \n",
    "    print(root.data, end=':')\n",
    "    if root.left != None:\n",
    "        print(\"L\", root.left.data, end=',')\n",
    "    if root.right != None:\n",
    "        print(\"R\", root.right.data, end=\"\")\n",
    "    print()\n",
    "    printTreeDetailed(root.left)\n",
    "    printTreeDetailed(root.right)"
   ]
  },
  {
   "cell_type": "code",
   "execution_count": null,
   "metadata": {},
   "outputs": [],
   "source": [
    "printTreeDetailed(bt1)"
   ]
  },
  {
   "cell_type": "markdown",
   "metadata": {},
   "source": [
    "# TAKING INPUT"
   ]
  },
  {
   "cell_type": "markdown",
   "metadata": {},
   "source": [
    "### RECURSIVE INPUT "
   ]
  },
  {
   "cell_type": "code",
   "execution_count": 8,
   "metadata": {},
   "outputs": [],
   "source": [
    "def inputTree():\n",
    "    rootData = int(input())\n",
    "    if rootData == -1:\n",
    "        return None\n",
    "    root = BinaryTreeNode(rootData)\n",
    "    leftNode = inputTree()\n",
    "    rightNode = inputTree()\n",
    "    root.left = leftNode\n",
    "    root.right = rightNode\n",
    "    return root"
   ]
  },
  {
   "cell_type": "code",
   "execution_count": 6,
   "metadata": {},
   "outputs": [
    {
     "name": "stdout",
     "output_type": "stream",
     "text": [
      "1 \n",
      "2\n",
      "-1\n",
      "-1\n",
      "3\n",
      "-1\n",
      "-1\n",
      "1:L 2,R 3\n",
      "2\n",
      "3\n"
     ]
    }
   ],
   "source": [
    "root = inputTree()\n",
    "printTreeDetailed(root)"
   ]
  },
  {
   "cell_type": "markdown",
   "metadata": {},
   "source": [
    "# QUESTIONS"
   ]
  },
  {
   "cell_type": "markdown",
   "metadata": {},
   "source": [
    "### Leaf Nodes"
   ]
  },
  {
   "cell_type": "code",
   "execution_count": 10,
   "metadata": {},
   "outputs": [],
   "source": [
    "def leafnodes(root):\n",
    "    if root==None:\n",
    "        return 0\n",
    "    if root.left==None and root.right==None:\n",
    "        return 1\n",
    "    leftleaf = leafnodes(root.left)\n",
    "    rightleaf = leafnodes(root.right)\n",
    "    \n",
    "    return leftleaf+rightleaf"
   ]
  },
  {
   "cell_type": "code",
   "execution_count": 11,
   "metadata": {},
   "outputs": [
    {
     "name": "stdout",
     "output_type": "stream",
     "text": [
      "1\n",
      "2\n",
      "3\n",
      "-1\n",
      "-1\n",
      "-1\n",
      "4\n",
      "5\n",
      "-1\n",
      "-1\n",
      "-1\n",
      "1:L 2,R 4\n",
      "2\n",
      "3\n",
      "4\n",
      "5\n",
      "2\n"
     ]
    }
   ],
   "source": [
    "root = inputTree()\n",
    "printTreeDetailed(root)\n",
    "print(leafnodes(root))"
   ]
  },
  {
   "cell_type": "markdown",
   "metadata": {},
   "source": [
    "### PRINT NODES WITH DEPTH K"
   ]
  },
  {
   "cell_type": "code",
   "execution_count": 13,
   "metadata": {},
   "outputs": [],
   "source": [
    "def NodeswithDepthK(root,k):\n",
    "    if root==None:\n",
    "        return\n",
    "    if k==0:\n",
    "        print(root.data)\n",
    "        return\n",
    "    NodeswithDepthK(root.left, k-1)\n",
    "    NodeswithDepthK(root.right, k-1)"
   ]
  },
  {
   "cell_type": "code",
   "execution_count": null,
   "metadata": {},
   "outputs": [],
   "source": [
    "def NodeswithDepthK_V2(root,k,depth):"
   ]
  },
  {
   "cell_type": "code",
   "execution_count": 16,
   "metadata": {},
   "outputs": [
    {
     "name": "stdout",
     "output_type": "stream",
     "text": [
      "1\n",
      "2\n",
      "3\n",
      "-1\n",
      "-1\n",
      "4\n",
      "-1\n",
      "-1\n",
      "5\n",
      "6\n",
      "-1\n",
      "-1\n",
      "7\n",
      "-1\n",
      "-1\n",
      "1:L 2,R 5\n",
      "2:L 3,R 4\n",
      "3:\n",
      "4:\n",
      "5:L 6,R 7\n",
      "6:\n",
      "7:\n",
      "-----\n",
      "3\n",
      "4\n",
      "6\n",
      "7\n",
      "None\n"
     ]
    }
   ],
   "source": [
    "root = inputTree()\n",
    "printTreeDetailed(root)\n",
    "print('-----')\n",
    "print(NodeswithDepthK(root, 2))"
   ]
  },
  {
   "cell_type": "code",
   "execution_count": null,
   "metadata": {},
   "outputs": [],
   "source": []
  },
  {
   "cell_type": "code",
   "execution_count": 6,
   "metadata": {},
   "outputs": [],
   "source": [
    "def Min(root):\n",
    "    if root.left is not None:\n",
    "        return Min(root.left)\n",
    "    else:\n",
    "        return root.data\n",
    "        \n",
    "def Max(root):\n",
    "    if root.right is not None:\n",
    "        return Max(root.right)\n",
    "    else:\n",
    "        return root.data\n"
   ]
  },
  {
   "cell_type": "code",
   "execution_count": 15,
   "metadata": {},
   "outputs": [],
   "source": [
    "    def isBST(root):\n",
    "        #Base Case\n",
    "        if root is None:\n",
    "            return 1\n",
    "        if root\n",
    "        \n",
    "        leftmax = Max(root.left)\n",
    "        rightmin = Min(root.right)\n",
    "\n",
    "        if root.data>leftmax and root.data<rightmin and isBST(root.left) and isBST(root.right):\n",
    "            return 1\n",
    "        else:\n",
    "            return 0"
   ]
  },
  {
   "cell_type": "code",
   "execution_count": 9,
   "metadata": {},
   "outputs": [
    {
     "name": "stdout",
     "output_type": "stream",
     "text": [
      "5\n",
      "3\n",
      "2\n",
      "-1\n",
      "-1\n",
      "4\n",
      "-1\n",
      "-1\n",
      "8\n",
      "-1\n",
      "7\n",
      "-1\n",
      "-1\n"
     ]
    }
   ],
   "source": [
    "root = inputTree()"
   ]
  },
  {
   "cell_type": "code",
   "execution_count": null,
   "metadata": {},
   "outputs": [],
   "source": [
    "isBST(root)"
   ]
  }
 ],
 "metadata": {
  "kernelspec": {
   "display_name": "Python 3",
   "language": "python",
   "name": "python3"
  },
  "language_info": {
   "codemirror_mode": {
    "name": "ipython",
    "version": 3
   },
   "file_extension": ".py",
   "mimetype": "text/x-python",
   "name": "python",
   "nbconvert_exporter": "python",
   "pygments_lexer": "ipython3",
   "version": "3.7.4"
  }
 },
 "nbformat": 4,
 "nbformat_minor": 4
}
