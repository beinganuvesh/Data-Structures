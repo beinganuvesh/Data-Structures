{
 "cells": [
  {
   "cell_type": "code",
   "execution_count": 1,
   "metadata": {},
   "outputs": [],
   "source": [
    "class BinaryTreeNode:\n",
    "    def __init__(self, data):\n",
    "        self.data = data\n",
    "        self.left = None\n",
    "        self.right = None"
   ]
  },
  {
   "cell_type": "code",
   "execution_count": 3,
   "metadata": {},
   "outputs": [],
   "source": [
    "class BST:\n",
    "    def __init__(self):\n",
    "        self.root = None\n",
    "        self.numNodes = 0\n",
    "        \n",
    "    def printTreeHelper(self, root):\n",
    "        if root == None:\n",
    "            return\n",
    "        print(root.data, end = \":\")\n",
    "        if root.left != None:\n",
    "            print(\"L:\",end='')\n",
    "            print(root.left.data,end=',')\n",
    "        if root.right != None:\n",
    "            print(\"R:\",end='')\n",
    "            print(root.right.data,end='')\n",
    "        print()\n",
    "        self.printTreeHelper(root.left)\n",
    "        self.printTreeHelper(root.right)\n",
    "    def printTree(self):\n",
    "        self.printTreeHelper(self.root)\n",
    "    \n",
    "    \n",
    "    \n",
    "    def searchHelper(self, root, data):\n",
    "        if root==None:\n",
    "            return False\n",
    "        if root.data==data:\n",
    "            return True\n",
    "        if root.data>data:\n",
    "            return self.searchHelper(root.left, data)\n",
    "        else:\n",
    "            return self.searchHelper(root.right, data)\n",
    "    def search(self, data):\n",
    "        return self.searchHelper(self.root, data)\n",
    "    \n",
    "    \n",
    "    def insertHelper(self, root, data):\n",
    "        if root==None:\n",
    "            newNode = BinaryTreeNode(data)\n",
    "            return newNode\n",
    "        elif root.data>data:\n",
    "            root.left = self.insertHelper(root.left, data)\n",
    "            return root\n",
    "        else:\n",
    "            root.right = self.insertHelper(root.right, data)\n",
    "            return root\n",
    "    def insert(self, data):\n",
    "        self.numNodes+=1\n",
    "        self.root = self.insertHelper(self.root, data)\n",
    "    \n",
    "    \n",
    "    \n",
    "    def min_func(self, root):\n",
    "        if root==None:\n",
    "            return 1000000\n",
    "        if root.left==None:\n",
    "            return root.data\n",
    "        return self.min_func(root.left)\n",
    "    \n",
    "    def deleteHelper(self, root, data):\n",
    "        if root==None:\n",
    "            return False, None\n",
    "        elif root.data>data:\n",
    "            isD, newleft = self.deleteHelper(root.left, data)\n",
    "            root.left = newleft\n",
    "            return isD, root\n",
    "        elif root.data<data:\n",
    "            isD, newright = self.deleteHelper(root.right, data)\n",
    "            root.right = newright\n",
    "            return isD, root\n",
    "        else:\n",
    "            if root.left==None and root.right==None:\n",
    "                return True, None \n",
    "            elif root.left==None and root.right!=None:\n",
    "                return True, root.right\n",
    "            elif root.left!=None and root.right==None:\n",
    "                return True, root.left\n",
    "            else:\n",
    "                temp = self.min_func(root.right)\n",
    "                root.data = temp\n",
    "                isD, newrightnode = self.deleteHelper(root.right, temp)\n",
    "                root.right = newrightnode\n",
    "                return True, root  \n",
    "    def delete(self, data):\n",
    "        deleted, newRoot = self.deleteHelper(self.root, data)\n",
    "        if deleted:\n",
    "            self.numNodes-=1\n",
    "        self.root = newRoot\n",
    "        return deleted\n",
    "    \n",
    "    def count(self):\n",
    "        return self.numNodes"
   ]
  },
  {
   "cell_type": "code",
   "execution_count": 4,
   "metadata": {},
   "outputs": [],
   "source": [
    "b = BST()\n",
    "b.insert(5)\n",
    "b.insert(2)\n",
    "b.insert(7)\n",
    "b.insert(12)"
   ]
  },
  {
   "cell_type": "code",
   "execution_count": 91,
   "metadata": {},
   "outputs": [
    {
     "data": {
      "text/plain": [
       "4"
      ]
     },
     "execution_count": 91,
     "metadata": {},
     "output_type": "execute_result"
    }
   ],
   "source": [
    "b.count()"
   ]
  },
  {
   "cell_type": "code",
   "execution_count": 93,
   "metadata": {},
   "outputs": [
    {
     "data": {
      "text/plain": [
       "True"
      ]
     },
     "execution_count": 93,
     "metadata": {},
     "output_type": "execute_result"
    }
   ],
   "source": [
    "b.search(2)"
   ]
  },
  {
   "cell_type": "code",
   "execution_count": 73,
   "metadata": {},
   "outputs": [
    {
     "data": {
      "text/plain": [
       "True"
      ]
     },
     "execution_count": 73,
     "metadata": {},
     "output_type": "execute_result"
    }
   ],
   "source": [
    "b.delete(12)"
   ]
  },
  {
   "cell_type": "code",
   "execution_count": 74,
   "metadata": {},
   "outputs": [
    {
     "data": {
      "text/plain": [
       "False"
      ]
     },
     "execution_count": 74,
     "metadata": {},
     "output_type": "execute_result"
    }
   ],
   "source": [
    "b.delete(5)"
   ]
  },
  {
   "cell_type": "code",
   "execution_count": 75,
   "metadata": {},
   "outputs": [
    {
     "data": {
      "text/plain": [
       "1"
      ]
     },
     "execution_count": 75,
     "metadata": {},
     "output_type": "execute_result"
    }
   ],
   "source": [
    "b.count()"
   ]
  },
  {
   "cell_type": "code",
   "execution_count": 49,
   "metadata": {},
   "outputs": [
    {
     "name": "stdout",
     "output_type": "stream",
     "text": [
      "5:L:2,R:7\n",
      "2:\n",
      "7:R:12\n",
      "12:\n"
     ]
    }
   ],
   "source": [
    "b.printTree()"
   ]
  },
  {
   "cell_type": "code",
   "execution_count": 64,
   "metadata": {},
   "outputs": [
    {
     "data": {
      "text/plain": [
       "True"
      ]
     },
     "execution_count": 64,
     "metadata": {},
     "output_type": "execute_result"
    }
   ],
   "source": [
    "b.delete(5)"
   ]
  }
 ],
 "metadata": {
  "kernelspec": {
   "display_name": "Python 3",
   "language": "python",
   "name": "python3"
  },
  "language_info": {
   "codemirror_mode": {
    "name": "ipython",
    "version": 3
   },
   "file_extension": ".py",
   "mimetype": "text/x-python",
   "name": "python",
   "nbconvert_exporter": "python",
   "pygments_lexer": "ipython3",
   "version": "3.7.4"
  }
 },
 "nbformat": 4,
 "nbformat_minor": 4
}
