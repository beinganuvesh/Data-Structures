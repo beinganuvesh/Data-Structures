{
 "cells": [
  {
   "cell_type": "markdown",
   "metadata": {},
   "source": [
    "# ATTRIBUTES"
   ]
  },
  {
   "cell_type": "markdown",
   "metadata": {},
   "source": [
    "### INSTANCE ATTRIBUTES"
   ]
  },
  {
   "cell_type": "code",
   "execution_count": 55,
   "metadata": {},
   "outputs": [],
   "source": [
    "class student:\n",
    "    pass"
   ]
  },
  {
   "cell_type": "code",
   "execution_count": 8,
   "metadata": {},
   "outputs": [
    {
     "name": "stdout",
     "output_type": "stream",
     "text": [
      "<class '__main__.student'>\n",
      "<class 'list'>\n"
     ]
    }
   ],
   "source": [
    "s1 = student()\n",
    "s2 = student()\n",
    "s3 = student()\n",
    "l = list()\n",
    "print(type(s1))\n",
    "print(type(l))"
   ]
  },
  {
   "cell_type": "code",
   "execution_count": 9,
   "metadata": {},
   "outputs": [],
   "source": [
    "s1.name = 'Anuvesh'\n",
    "s1.rollNumber = 102\n",
    "s2.name = 'Kosh'\n",
    "s3.rollNumber = 103"
   ]
  },
  {
   "cell_type": "code",
   "execution_count": 14,
   "metadata": {},
   "outputs": [
    {
     "data": {
      "text/plain": [
       "{'name': 'Anuvesh', 'rollNumber': 102}"
      ]
     },
     "execution_count": 14,
     "metadata": {},
     "output_type": "execute_result"
    }
   ],
   "source": [
    "# To get the list of all attributes\n",
    "s1.__dict__"
   ]
  },
  {
   "cell_type": "code",
   "execution_count": 16,
   "metadata": {},
   "outputs": [
    {
     "data": {
      "text/plain": [
       "False"
      ]
     },
     "execution_count": 16,
     "metadata": {},
     "output_type": "execute_result"
    }
   ],
   "source": [
    "# To check the objects has particular object or not\n",
    "hasattr(s3, 'name')"
   ]
  },
  {
   "cell_type": "code",
   "execution_count": 20,
   "metadata": {},
   "outputs": [
    {
     "data": {
      "text/plain": [
       "''"
      ]
     },
     "execution_count": 20,
     "metadata": {},
     "output_type": "execute_result"
    }
   ],
   "source": [
    "# Another way to access the object. This can handle the error also\n",
    "getattr(s2, 'rollNumber', \"\")"
   ]
  },
  {
   "cell_type": "markdown",
   "metadata": {},
   "source": [
    "### CLASS ATTRIBUTES"
   ]
  },
  {
   "cell_type": "code",
   "execution_count": 56,
   "metadata": {},
   "outputs": [],
   "source": [
    "class student2:\n",
    "    passing_marks = 60 #This is class attribute"
   ]
  },
  {
   "cell_type": "code",
   "execution_count": 28,
   "metadata": {},
   "outputs": [
    {
     "data": {
      "text/plain": [
       "60"
      ]
     },
     "execution_count": 28,
     "metadata": {},
     "output_type": "execute_result"
    }
   ],
   "source": [
    "s3 = student2()\n",
    "s4 = student2()\n",
    "getattr(s3, 'passing_marks', \"\")"
   ]
  },
  {
   "cell_type": "code",
   "execution_count": 29,
   "metadata": {},
   "outputs": [
    {
     "data": {
      "text/plain": [
       "(80, 60)"
      ]
     },
     "execution_count": 29,
     "metadata": {},
     "output_type": "execute_result"
    }
   ],
   "source": [
    "s3.passing_marks = 80 #Modifying the class attribute into instance attribute\n",
    "s3.passing_marks , s4.passing_marks"
   ]
  },
  {
   "cell_type": "markdown",
   "metadata": {},
   "source": [
    "# METHODS"
   ]
  },
  {
   "cell_type": "markdown",
   "metadata": {},
   "source": [
    "### INSTANCE METHODS"
   ]
  },
  {
   "cell_type": "code",
   "execution_count": 68,
   "metadata": {},
   "outputs": [],
   "source": [
    "class student:\n",
    "    #Class Attribute\n",
    "    passing_percentage = 40\n",
    "    \n",
    "    #Instance Methods\n",
    "    def student_details(self):\n",
    "        self.name = 'Anuvesh'\n",
    "        self.rollNumber = 102\n",
    "        self.percentage = 95\n",
    "    def print_details(self):\n",
    "        print(self.name)\n",
    "        print(self.rollNumber)\n",
    "        print(self.percentage)\n",
    "    def isPassed(self):\n",
    "        if self.percentage>self.passing_percentage:\n",
    "            print('Passed')\n",
    "        else:\n",
    "            print('Failed')"
   ]
  },
  {
   "cell_type": "code",
   "execution_count": 69,
   "metadata": {},
   "outputs": [],
   "source": [
    "s1 = student()"
   ]
  },
  {
   "cell_type": "code",
   "execution_count": 70,
   "metadata": {},
   "outputs": [
    {
     "name": "stdout",
     "output_type": "stream",
     "text": [
      "Anuvesh\n",
      "102\n",
      "95\n",
      "Passed\n"
     ]
    }
   ],
   "source": [
    "s1.student_details()\n",
    "s1.print_details()\n",
    "s1.isPassed()"
   ]
  },
  {
   "cell_type": "code",
   "execution_count": 72,
   "metadata": {},
   "outputs": [
    {
     "name": "stdout",
     "output_type": "stream",
     "text": [
      "Anuvesh\n",
      "102\n",
      "95\n"
     ]
    }
   ],
   "source": [
    "student.student_details(s2)\n",
    "student.print_details(s2)"
   ]
  },
  {
   "cell_type": "markdown",
   "metadata": {},
   "source": [
    "### STATIC METHODS"
   ]
  },
  {
   "cell_type": "code",
   "execution_count": 75,
   "metadata": {},
   "outputs": [],
   "source": [
    "class student:\n",
    "    #Class Attribute\n",
    "    passing_percentage = 40\n",
    "    \n",
    "    #Instance Methods\n",
    "    def student_details(self):\n",
    "        self.name = 'Anuvesh'\n",
    "        self.rollNumber = 102\n",
    "        self.percentage = 95\n",
    "    def print_details(self):\n",
    "        print(self.name)\n",
    "        print(self.rollNumber)\n",
    "        print(self.percentage)\n",
    "    \n",
    "    # Static Methods dont require self argument.\n",
    "    @staticmethod\n",
    "    def welcomeToschool():\n",
    "        print('Welcome To School')"
   ]
  },
  {
   "cell_type": "code",
   "execution_count": 76,
   "metadata": {},
   "outputs": [
    {
     "name": "stdout",
     "output_type": "stream",
     "text": [
      "Welcome To School\n"
     ]
    }
   ],
   "source": [
    "s3 = student()\n",
    "s3.welcomeToschool()"
   ]
  },
  {
   "cell_type": "markdown",
   "metadata": {},
   "source": [
    "### INIT METHOD (CONSTRUCTOR)"
   ]
  },
  {
   "cell_type": "code",
   "execution_count": 86,
   "metadata": {},
   "outputs": [],
   "source": [
    "class Section_A:\n",
    "    teacher_name = 'Miss Rashi'\n",
    "    \n",
    "    #Roll Number and age have defaults values.\n",
    "    def __init__(self, name, rollnumber=0, age=21):\n",
    "        self.name = name\n",
    "        self.rollnumber = rollnumber\n",
    "        self.age = age\n",
    "        \n",
    "    def print_details(self):\n",
    "        print(self.name)\n",
    "        print(self.rollnumber)\n",
    "        print(self.age)\n",
    "        print(self.teacher_name)\n",
    "        "
   ]
  },
  {
   "cell_type": "code",
   "execution_count": 89,
   "metadata": {},
   "outputs": [],
   "source": [
    "s1 = Section_A('Rohan', 100, 20)\n",
    "s2 = Section_A('Rohit', 101, 22)\n",
    "s3 = Section_A('Ram')"
   ]
  },
  {
   "cell_type": "code",
   "execution_count": 90,
   "metadata": {},
   "outputs": [
    {
     "name": "stdout",
     "output_type": "stream",
     "text": [
      "Rohan\n",
      "100\n",
      "20\n",
      "Miss Rashi\n",
      "-----\n",
      "Rohit\n",
      "101\n",
      "22\n",
      "Miss Rashi\n",
      "-----\n",
      "Ram\n",
      "0\n",
      "21\n",
      "Miss Rashi\n"
     ]
    }
   ],
   "source": [
    "s1.print_details()\n",
    "print('-----')\n",
    "s2.print_details()\n",
    "print('-----')\n",
    "s3.print_details()"
   ]
  },
  {
   "cell_type": "markdown",
   "metadata": {},
   "source": [
    "### CLASS METHODS"
   ]
  },
  {
   "cell_type": "code",
   "execution_count": 94,
   "metadata": {},
   "outputs": [],
   "source": [
    "from datetime import date\n",
    "class Student:\n",
    "\n",
    "    passingPercentage = 40\n",
    "\n",
    "    def __init__(self,name,age=15,percentage=80):\n",
    "        self.name = name\n",
    "        self.age = age\n",
    "        self.percentage = percentage\n",
    "\n",
    "    @classmethod\n",
    "    def(cls,name,year,percentage):\n",
    "        return cls(name, date.today().year - year, percentage)\n",
    "\n",
    "    def studentDetails(self):\n",
    "        print(\"Name = \", self.name)\n",
    "        print(\"Age =\" , self.age)\n",
    "        print(\"Percentage = \", self.percentage)\n",
    "        \n",
    "\n",
    "    def isPassed(self):\n",
    "        if self.percentage > Student.passingPercentage:\n",
    "            print(\"Student is passed\")\n",
    "        else:\n",
    "            print(\"Student is not passed\")\n",
    "\n",
    "\n",
    "    @staticmethod\n",
    "    def welcomeToSchool():\n",
    "        print(\"Hey! Welcome To School\")\n",
    "\n",
    "    @staticmethod\n",
    "    def isTeen(age):\n",
    "        return age>16"
   ]
  },
  {
   "cell_type": "code",
   "execution_count": 100,
   "metadata": {},
   "outputs": [
    {
     "name": "stdout",
     "output_type": "stream",
     "text": [
      "Name =  Kush\n",
      "Age = 18\n",
      "Percentage =  92\n"
     ]
    },
    {
     "data": {
      "text/plain": [
       "<__main__.Student at 0x1bc6b5fc748>"
      ]
     },
     "execution_count": 100,
     "metadata": {},
     "output_type": "execute_result"
    }
   ],
   "source": [
    "s5 = Student('Kush', 18, 92)\n",
    "s5.studentDetails()\n",
    "s5.fromBirthYear('Anuvesh', 1998, 95)"
   ]
  },
  {
   "cell_type": "code",
   "execution_count": null,
   "metadata": {},
   "outputs": [],
   "source": [
    "student"
   ]
  }
 ],
 "metadata": {
  "kernelspec": {
   "display_name": "Python 3",
   "language": "python",
   "name": "python3"
  },
  "language_info": {
   "codemirror_mode": {
    "name": "ipython",
    "version": 3
   },
   "file_extension": ".py",
   "mimetype": "text/x-python",
   "name": "python",
   "nbconvert_exporter": "python",
   "pygments_lexer": "ipython3",
   "version": "3.7.4"
  }
 },
 "nbformat": 4,
 "nbformat_minor": 4
}
