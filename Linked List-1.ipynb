{
 "cells": [
  {
   "cell_type": "code",
   "execution_count": 1,
   "metadata": {},
   "outputs": [],
   "source": [
    "class Node:\n",
    "    def __init__(self, data):\n",
    "        self.data = data\n",
    "        self.next = None"
   ]
  },
  {
   "cell_type": "code",
   "execution_count": 2,
   "metadata": {},
   "outputs": [],
   "source": [
    "a = Node(10)\n",
    "b = Node(12)\n",
    "a.next = b"
   ]
  },
  {
   "cell_type": "code",
   "execution_count": null,
   "metadata": {},
   "outputs": [],
   "source": [
    "a.next.data"
   ]
  },
  {
   "cell_type": "markdown",
   "metadata": {},
   "source": [
    "# TAKING INPUT "
   ]
  },
  {
   "cell_type": "markdown",
   "metadata": {},
   "source": [
    "#### Taking Input - 1"
   ]
  },
  {
   "cell_type": "code",
   "execution_count": 3,
   "metadata": {},
   "outputs": [],
   "source": [
    "def printLL(head):\n",
    "    temp = head\n",
    "    while temp is not None:\n",
    "        print(str(temp.data) + '-->', end=\" \")\n",
    "        temp = temp.next\n",
    "    print('None')\n",
    "    return \n",
    "\n",
    "def inputLL():\n",
    "    arr = [int(i) for i in input().split()]\n",
    "    head = None\n",
    "    \n",
    "    for current in arr:\n",
    "        if current == -1:\n",
    "            break\n",
    "        #Creating a new node.\n",
    "        newNode = Node(current)\n",
    "        #Updating the head\n",
    "        if head == None:\n",
    "            head = newNode\n",
    "        else:\n",
    "        #Traversing to the end of the Linked list\n",
    "            temp = head\n",
    "            while temp.next is not None:\n",
    "                temp = temp.next\n",
    "        #Updating the new element\n",
    "            temp.next = newNode\n",
    "            \n",
    "    return head"
   ]
  },
  {
   "cell_type": "code",
   "execution_count": null,
   "metadata": {},
   "outputs": [],
   "source": [
    "head = inputLL()\n",
    "printLL(head)"
   ]
  },
  {
   "cell_type": "markdown",
   "metadata": {},
   "source": [
    "#### Taking Input - 2"
   ]
  },
  {
   "cell_type": "code",
   "execution_count": null,
   "metadata": {},
   "outputs": [],
   "source": [
    " def inputLL2():\n",
    "    arr = [int(i) for i in input().split()]\n",
    "    head = None\n",
    "    \n",
    "    for current in arr:\n",
    "        if current == -1:\n",
    "            break\n",
    "        #Creating a new node.\n",
    "        newNode = Node(current)\n",
    "        #Updating the head\n",
    "        if head == None:\n",
    "            head = newNode\n",
    "            tail = newNode\n",
    "        else:\n",
    "        #Traversing to the end of the Linked list\n",
    "            tail.next = newNode\n",
    "            tail = newNode # tail = tail.next\n",
    "              \n",
    "    return head"
   ]
  },
  {
   "cell_type": "code",
   "execution_count": null,
   "metadata": {},
   "outputs": [],
   "source": [
    "h = inputLL2()\n",
    "printLL(h)"
   ]
  },
  {
   "cell_type": "code",
   "execution_count": null,
   "metadata": {},
   "outputs": [],
   "source": [
    "    def deleteDuplicates(head):\n",
    "        main = head\n",
    "        if head==None:\n",
    "          return head\n",
    " \n",
    "        if head.next!=None:\n",
    "          tail = head.next\n",
    "        else:\n",
    "          return head\n",
    "        \n",
    "        while tail!=None:\n",
    "          if tail.data==head.data:\n",
    "            head.next = tail.next\n",
    "            tail = head.next\n",
    "          else:\n",
    "            tail = tail.next\n",
    "            head=head.next\n",
    "          \n",
    "          \n",
    "        return main\n",
    "        "
   ]
  },
  {
   "cell_type": "code",
   "execution_count": null,
   "metadata": {},
   "outputs": [],
   "source": [
    "x = deleteDuplicates(h)\n",
    "printLL(x)"
   ]
  },
  {
   "cell_type": "markdown",
   "metadata": {},
   "source": [
    "# INSERTION "
   ]
  },
  {
   "cell_type": "code",
   "execution_count": null,
   "metadata": {},
   "outputs": [],
   "source": [
    "def insertLL(head, data, i):\n",
    "    count=0\n",
    "    curr = head\n",
    "    \n",
    "    if i==0:\n",
    "        newNode = Node(data)\n",
    "        newNode.next = curr\n",
    "        head = newNode\n",
    "        \n",
    "    while curr is not None:\n",
    "        if (count+1)==i:\n",
    "            newNode = Node(data)\n",
    "            temp = curr.next\n",
    "            curr.next = newNode\n",
    "            newNode.next = temp\n",
    "            \n",
    "        count+=1\n",
    "        curr = curr.next\n",
    "        \n",
    "    return head"
   ]
  },
  {
   "cell_type": "code",
   "execution_count": null,
   "metadata": {},
   "outputs": [],
   "source": [
    "def insert_recursive(head, data, i):\n",
    "    if i<0:\n",
    "        return head\n",
    "    \n",
    "    if head==None:\n",
    "        return head\n",
    "     \n",
    "  #BASE CASE\n",
    "    if i==0:\n",
    "        newNode = Node(data)\n",
    "        newNode.next = head\n",
    "        return newNode\n",
    "    \n",
    "    smallOutput = insert_recursive(head.next, data, i-1)\n",
    "    head.next = smallOutput\n",
    "    \n",
    "    return head"
   ]
  },
  {
   "cell_type": "code",
   "execution_count": null,
   "metadata": {},
   "outputs": [],
   "source": [
    "head2 = inputLL2()\n",
    "printLL(head2)"
   ]
  },
  {
   "cell_type": "code",
   "execution_count": null,
   "metadata": {},
   "outputs": [],
   "source": [
    "printLL(insert_recursive(head2, 50, 2))"
   ]
  },
  {
   "cell_type": "code",
   "execution_count": null,
   "metadata": {},
   "outputs": [],
   "source": [
    "printLL(insertLL(head, 12, 3))"
   ]
  },
  {
   "cell_type": "markdown",
   "metadata": {},
   "source": [
    "# DELETE NODE"
   ]
  },
  {
   "cell_type": "code",
   "execution_count": null,
   "metadata": {},
   "outputs": [],
   "source": [
    "def deleteNode(head, pos) :\n",
    "\n",
    "    #Your code goes here\n",
    "    \n",
    "    count = 0\n",
    "    l=0\n",
    "    curr = head\n",
    "    c = head\n",
    "    \n",
    "    while c is not None:\n",
    "        l+=1\n",
    "        c=c.next\n",
    "        \n",
    "    if pos>=l:\n",
    "        return head\n",
    "    \n",
    "    if pos==0:\n",
    "        return head.next\n",
    "    \n",
    "        \n",
    "    while curr is not None:\n",
    "        if (count+1) == pos:\n",
    "            temp = curr.next.next\n",
    "            curr.next = temp\n",
    "    \n",
    "        curr = curr.next\n",
    "        count+=1\n",
    "        \n",
    "    return head"
   ]
  },
  {
   "cell_type": "code",
   "execution_count": null,
   "metadata": {},
   "outputs": [],
   "source": [
    "head = inputLL2()\n",
    "printLL(head)"
   ]
  },
  {
   "cell_type": "code",
   "execution_count": null,
   "metadata": {},
   "outputs": [],
   "source": [
    "printLL(DeleteLL(head, 4))"
   ]
  },
  {
   "cell_type": "markdown",
   "metadata": {},
   "source": [
    "# ASSIGNMENT"
   ]
  },
  {
   "cell_type": "markdown",
   "metadata": {},
   "source": [
    "### AppendNelements"
   ]
  },
  {
   "cell_type": "code",
   "execution_count": null,
   "metadata": {},
   "outputs": [],
   "source": [
    "def LengthLL(head):\n",
    "    if head==None:\n",
    "        return 0\n",
    "    \n",
    "    return 1+LengthLL(head.next)\n",
    "\n",
    "\n",
    "def appendLastNToFirst(head, n) :\n",
    "    #Your code goes here\n",
    "    l = LengthLL(head)\n",
    "    m = l-n \n",
    "    count=0\n",
    "    \n",
    "    temp_head = head\n",
    "    curr = head\n",
    "    t = head\n",
    "    \n",
    "    #IF THE LINKED LIST IS EMPTY\n",
    "    if head==None:\n",
    "        return head\n",
    "    \n",
    "    #IF WE WANT TO THE SAME STRING\n",
    "    if m==l:\n",
    "        return head\n",
    "        \n",
    "    while t.next is not None:\n",
    "        t=t.next\n",
    "    \n",
    "    while curr is not None:\n",
    "        if (count+1) == m:\n",
    "            new_head = curr.next\n",
    "            curr.next = None\n",
    "        curr=curr.next\n",
    "        count+=1\n",
    "    \n",
    "    t.next = temp_head\n",
    "    \n",
    "    return new_head"
   ]
  },
  {
   "cell_type": "code",
   "execution_count": null,
   "metadata": {},
   "outputs": [],
   "source": [
    "head = inputLL2()\n",
    "printLL(head)"
   ]
  },
  {
   "cell_type": "code",
   "execution_count": null,
   "metadata": {},
   "outputs": [],
   "source": [
    "printLL(appendLastNToFirst(head, 0))"
   ]
  },
  {
   "cell_type": "markdown",
   "metadata": {},
   "source": [
    "### ConsectiveDuplicates"
   ]
  },
  {
   "cell_type": "code",
   "execution_count": null,
   "metadata": {},
   "outputs": [],
   "source": [
    "def removeDuplicates(head) :\n",
    "    #Your code goes here\n",
    "    t1 = head\n",
    "    t2 = head.next\n",
    "    \n",
    "    if (head is None) or (head.next is None):\n",
    "        return head\n",
    "    \n",
    "    while t2 is not None:\n",
    "        if t1.data != t2.data:\n",
    "            t1.next = t2\n",
    "            t1 = t2\n",
    "            t2 = t2.next    \n",
    "        else:\n",
    "            t2 = t2.next\n",
    "        \n",
    "        t1.next = t2  \n",
    "    return head"
   ]
  },
  {
   "cell_type": "code",
   "execution_count": null,
   "metadata": {},
   "outputs": [],
   "source": [
    "printLL(removeDuplicates(head))"
   ]
  },
  {
   "cell_type": "code",
   "execution_count": null,
   "metadata": {},
   "outputs": [],
   "source": []
  },
  {
   "cell_type": "code",
   "execution_count": null,
   "metadata": {},
   "outputs": [],
   "source": [
    "def Merge(h1, h2):\n",
    "    if h1.data<h2.data:\n",
    "        head=Node(h1.data)\n",
    "        tail=head\n",
    "        h1=h1.next\n",
    "    else:\n",
    "        head=Node(h2.data)\n",
    "        tail=head\n",
    "        h2=h2.next\n",
    "    \n",
    "    while (h1 is not None) and (h2 is not None):\n",
    "        if h1.data<h2.data:\n",
    "            new_node=Node(h1.data)\n",
    "            tail.next=new_node\n",
    "            tail=tail.next\n",
    "            h1=h1.next\n",
    "        else:\n",
    "            new_node=Node(h2.data)\n",
    "            tail.next=new_node\n",
    "            tail=tail.next\n",
    "            h2=h2.next\n",
    "                \n",
    "    if h1 is not None:\n",
    "        tail.next=h1\n",
    "    if h2 is not None:\n",
    "        tail.next=h2\n",
    "        \n",
    "    return head"
   ]
  },
  {
   "cell_type": "code",
   "execution_count": null,
   "metadata": {},
   "outputs": [],
   "source": []
  },
  {
   "cell_type": "code",
   "execution_count": null,
   "metadata": {},
   "outputs": [],
   "source": []
  },
  {
   "cell_type": "markdown",
   "metadata": {},
   "source": [
    "## Double Linked List"
   ]
  },
  {
   "cell_type": "code",
   "execution_count": 31,
   "metadata": {},
   "outputs": [],
   "source": [
    "class Double_Node:\n",
    "    def __init__(self, data):\n",
    "        self.data=data\n",
    "        self.next=None\n",
    "        self.prev=None\n",
    "        \n",
    "def inputLLDouble():\n",
    "    arr=[int(i) for i in input().split()]\n",
    "    head=None\n",
    "    tail=None\n",
    "    \n",
    "    for current in arr:\n",
    "        new_node=Double_Node(current)\n",
    "        if current==-1:\n",
    "            break\n",
    "            \n",
    "        if head is None:\n",
    "            head=new_node\n",
    "            tail=new_node\n",
    "        else:\n",
    "            new_node.prev=tail\n",
    "            tail.next=new_node\n",
    "            tail=tail.next\n",
    "            \n",
    "    return head\n",
    "\n",
    "def printLL(head):\n",
    "    temp = head\n",
    "    while temp is not None:\n",
    "        print(str(temp.data) + '-->', end=\" \")\n",
    "        temp = temp.next\n",
    "    print('None')\n",
    "            "
   ]
  },
  {
   "cell_type": "code",
   "execution_count": 2,
   "metadata": {},
   "outputs": [
    {
     "name": "stdout",
     "output_type": "stream",
     "text": [
      "1 2 4 5 6 8 9 -1\n"
     ]
    }
   ],
   "source": [
    "h=inputLLDouble()"
   ]
  },
  {
   "cell_type": "code",
   "execution_count": 3,
   "metadata": {},
   "outputs": [
    {
     "name": "stdout",
     "output_type": "stream",
     "text": [
      "1--> 2--> 4--> 5--> 6--> 8--> 9--> None\n"
     ]
    }
   ],
   "source": [
    "printLL(h)"
   ]
  },
  {
   "cell_type": "code",
   "execution_count": null,
   "metadata": {},
   "outputs": [],
   "source": []
  },
  {
   "cell_type": "code",
   "execution_count": null,
   "metadata": {},
   "outputs": [],
   "source": []
  },
  {
   "cell_type": "code",
   "execution_count": 30,
   "metadata": {},
   "outputs": [],
   "source": [
    "def count_triplets(head, x):\n",
    "    tail=head\n",
    "    cnt=0\n",
    "    while tail.next is not None:\n",
    "        tail=tail.next\n",
    "        \n",
    "    i=head\n",
    "    while i.next!=None:\n",
    "        k=i.next\n",
    "        j=tail\n",
    "        while j.data>k.data:\n",
    "            if i.data+j.data+k.data==x:\n",
    "                cnt+=1\n",
    "                k=k.next\n",
    "                j=j.prev\n",
    "            elif i.data+j.data+k.data>x:\n",
    "                j=j.prev\n",
    "            else:\n",
    "                k=k.next\n",
    "                \n",
    "        i=i.next\n",
    "        \n",
    "    return cnt"
   ]
  },
  {
   "cell_type": "code",
   "execution_count": 18,
   "metadata": {},
   "outputs": [
    {
     "data": {
      "text/plain": [
       "5"
      ]
     },
     "execution_count": 18,
     "metadata": {},
     "output_type": "execute_result"
    }
   ],
   "source": [
    "x=15\n",
    "count_triplets(h, x)"
   ]
  },
  {
   "cell_type": "code",
   "execution_count": null,
   "metadata": {},
   "outputs": [],
   "source": []
  },
  {
   "cell_type": "code",
   "execution_count": null,
   "metadata": {},
   "outputs": [],
   "source": []
  },
  {
   "cell_type": "code",
   "execution_count": 26,
   "metadata": {},
   "outputs": [],
   "source": [
    "import heapq\n",
    "def Sort_K_sorted_LL(head, k):\n",
    "    tail=head\n",
    "    li=[]\n",
    "    \n",
    "    final_head=None\n",
    "    final_tail=None\n",
    "    \n",
    "    #Pushing the first k+1 elements into the heap.\n",
    "    for i in range(0, k+1):\n",
    "        if tail is not None:\n",
    "            heapq.heappush(li, (tail.data, tail))\n",
    "        tail=tail.next\n",
    "        \n",
    "    \n",
    "    while li or tail is not None:\n",
    "        top=heapq.heappop(li)\n",
    "        \n",
    "        if final_head is None:\n",
    "            final_head=top[1]\n",
    "            final_tail=top[1]\n",
    "            final_tail.prev=None\n",
    "        else:\n",
    "            final_tail.next=top[1]\n",
    "            top[1].prev=final_tail\n",
    "            final_tail=final_tail.next\n",
    "          \n",
    "        if tail is not None:\n",
    "            heapq.heappush(li, (tail.data,tail))\n",
    "            tail=tail.next\n",
    "        \n",
    "    while li:\n",
    "        top=heapq.heappop(li)\n",
    "        final_tail.next=top[1]\n",
    "        top[1].prev=final_tail\n",
    "        final_tail=final_tail.next\n",
    "    \n",
    "    final_tail.next=None\n",
    "        \n",
    "    return final_head\n",
    "         "
   ]
  },
  {
   "cell_type": "code",
   "execution_count": 23,
   "metadata": {},
   "outputs": [
    {
     "name": "stdout",
     "output_type": "stream",
     "text": [
      "3 6 2 12 56 8 -1\n"
     ]
    }
   ],
   "source": [
    "h=inputLLDouble()"
   ]
  },
  {
   "cell_type": "code",
   "execution_count": 24,
   "metadata": {},
   "outputs": [],
   "source": [
    "k=2\n",
    "t=Sort_K_sorted_LL(h, k)"
   ]
  },
  {
   "cell_type": "code",
   "execution_count": null,
   "metadata": {},
   "outputs": [],
   "source": []
  },
  {
   "cell_type": "code",
   "execution_count": null,
   "metadata": {},
   "outputs": [],
   "source": []
  },
  {
   "cell_type": "code",
   "execution_count": 61,
   "metadata": {},
   "outputs": [],
   "source": [
    "def Reverse_DLL(head):\n",
    "    if head is None or head.next is None:\n",
    "        return head, head\n",
    "    smallerhead, smallertail = Reverse_DLL(head.next)\n",
    "    smallertail.next=head\n",
    "    head.prev=smallertail\n",
    "    head.next=None\n",
    "    return smallerhead, head\n",
    "\n",
    "def Reverse_every_k_nodes(head, k):\n",
    "    #Base case\n",
    "    if head is None or head.next is None:\n",
    "        return head\n",
    "    \n",
    "    c=1\n",
    "    tail=head\n",
    "    temp=head\n",
    "    while (tail.next is None) and (c<k):\n",
    "        tail=tail.next\n",
    "        c+=1\n",
    "    next_node=tail.next\n",
    "    tail.next=None\n",
    "    \n",
    "    new_head, new_tail = Reverse_DLL(temp)\n",
    "    \n",
    "    smaller_head=Reverse_every_k_nodes(next_node, k)\n",
    "    \n",
    "    new_tail.next=smaller_head\n",
    "    smaller_head.prev=new_tail\n",
    "    \n",
    "    return new_head\n",
    "    "
   ]
  },
  {
   "cell_type": "code",
   "execution_count": 62,
   "metadata": {},
   "outputs": [
    {
     "name": "stdout",
     "output_type": "stream",
     "text": [
      "1 2 3 4 -1\n"
     ]
    }
   ],
   "source": [
    "h=inputLLDouble()"
   ]
  },
  {
   "cell_type": "code",
   "execution_count": 63,
   "metadata": {},
   "outputs": [],
   "source": [
    "x=Reverse_every_k_nodes(h, 2)"
   ]
  },
  {
   "cell_type": "code",
   "execution_count": 65,
   "metadata": {},
   "outputs": [
    {
     "name": "stdout",
     "output_type": "stream",
     "text": [
      "1--> 2--> 3--> 4--> None\n"
     ]
    }
   ],
   "source": [
    "printLL(x)"
   ]
  }
 ],
 "metadata": {
  "kernelspec": {
   "display_name": "Python 3",
   "language": "python",
   "name": "python3"
  },
  "language_info": {
   "codemirror_mode": {
    "name": "ipython",
    "version": 3
   },
   "file_extension": ".py",
   "mimetype": "text/x-python",
   "name": "python",
   "nbconvert_exporter": "python",
   "pygments_lexer": "ipython3",
   "version": "3.7.4"
  }
 },
 "nbformat": 4,
 "nbformat_minor": 4
}
