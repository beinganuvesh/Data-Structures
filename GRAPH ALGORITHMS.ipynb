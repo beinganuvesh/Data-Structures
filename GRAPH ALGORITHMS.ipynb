{
 "cells": [
  {
   "cell_type": "markdown",
   "metadata": {},
   "source": [
    "# KRUSKAL'S "
   ]
  },
  {
   "cell_type": "code",
   "execution_count": null,
   "metadata": {},
   "outputs": [],
   "source": [
    "import numpy as np\n",
    "class Edge:\n",
    "    def __init(self, source, dest, weight):\n",
    "        self.source = source\n",
    "        self.dest = dest\n",
    "        self.weight = weight\n",
    " \n",
    "def MST(arr, nvertices, edges):\n",
    "    count=0\n",
    "    parent=[int(i) for i in range(nvertices)]\n",
    "    output=[]\n",
    "    \n",
    "    i=0\n",
    "    while count<(nvertices-1):\n",
    "        v1 = arr[i][0]\n",
    "        v2 = arr[i][1]\n",
    "        \n",
    "        #Union find algorithm\n",
    "        p1 = parent[v1]\n",
    "        p2 = parent[v2]\n",
    "        \n",
    "        if p1!=p2: #If the parent are not equal\n",
    "            ans=[]\n",
    "            ans.append(v1)\n",
    "            ans.append(v2)\n",
    "            output.append(ans)\n",
    "            count+=1\n",
    "            #Changing the parent array\n",
    "            for j in range(len(parent)):\n",
    "                if parent[j]==v2:\n",
    "                    parent[j]=v1\n",
    "        \n",
    "        i+=1   \n",
    "    return output\n",
    "                           \n",
    "#Taking Input\n",
    "l = [int(i) for i in input().split()]\n",
    "nvertices = l[0]\n",
    "edges = l[1]\n",
    "\n",
    "matrix=[]\n",
    "for i in range(edges):         \n",
    "    next_row = [int(i)for i in input().split()]\n",
    "    matrix.append(next_row)\n",
    "#Converting into np array.\n",
    "matrix = np.array(matrix)\n",
    "\n",
    "#Sorted according to their weight\n",
    "final_matrix = matrix[matrix[:,2].argsort()]\n",
    "    \n",
    "input_=[]\n",
    "for i in range(edges):\n",
    "    e = Edge(final_matrix[i][0], final_matrix[i][1], final_matrix[i][2])\n",
    "    input_.append(e)\n",
    "    \n",
    "ans = MST(input_, nvertices, edges)"
   ]
  },
  {
   "cell_type": "code",
   "execution_count": null,
   "metadata": {},
   "outputs": [],
   "source": []
  },
  {
   "cell_type": "code",
   "execution_count": null,
   "metadata": {},
   "outputs": [],
   "source": []
  },
  {
   "cell_type": "code",
   "execution_count": null,
   "metadata": {},
   "outputs": [],
   "source": []
  },
  {
   "cell_type": "markdown",
   "metadata": {},
   "source": [
    "# PRIM'S "
   ]
  },
  {
   "cell_type": "code",
   "execution_count": 1,
   "metadata": {},
   "outputs": [],
   "source": [
    "import sys\n",
    "class Graph:\n",
    "    def __init__(self, nvertices):\n",
    "        self.nvertices = nvertices\n",
    "        self.adjMat = [[0 for j in range(self.nvertices)] for i in range(self.nvertices)]\n",
    "        \n",
    "    def addedge(self, v1, v2, weight):\n",
    "        self.adjMat[v1][v2] = weight\n",
    "        self.adjMat[v2][v1] = weight\n",
    "    \n",
    "    def removeedge(self, v1, v2):\n",
    "        self.adjMat[v1][v2] = 0 \n",
    "        self.adjMat[v2][v1] = 0 \n",
    "      \n",
    "    #To return the weight of minimum weigth index.\n",
    "    def get_min_vertex(self, visited, weights):\n",
    "        min_weight_index = -1\n",
    "        for i in range(self.nvertices):\n",
    "            if visited[i] is False and (min_weight_index==-1 or weights[min_weight_index]>weights[i]):\n",
    "                min_weight_index=i\n",
    "                \n",
    "        return min_weight_index\n",
    "        \n",
    "    \n",
    "    def prims(self):\n",
    "        \n",
    "        visited = [False for i in range(self.nvertices)]\n",
    "        parent = [-1 for i in range(self.nvertices)]\n",
    "        weights = [sys.maxsize for i in range(self.nvertices)]\n",
    "        \n",
    "        #Let the sourece vertex be 0. We start form 0\n",
    "        weights[0] = 0\n",
    "        \n",
    "        for i in range(0, self.nvertices-1):\n",
    "            #Find the vertex whose weight is minimum.\n",
    "            min_vertex = self.get_min_vertex(visited, weights)\n",
    "            visited[min_vertex]=True\n",
    "            \n",
    "            #Explore the adjacent vertex.\n",
    "            for j in range(self.nvertices):\n",
    "                if self.adjMat[min_vertex][j]>0 and visited[j] is False:\n",
    "                    #If the weight is smaller than current weight, update the weight with the smaller weight.\n",
    "                    if weights[j]>self.adjMat[min_vertex][j]:\n",
    "                        weights[j] = self.adjMat[min_vertex][j]\n",
    "                        parent[j] = min_vertex\n",
    "                        \n",
    "            #Printing the edges\n",
    "        for i in range(1, self.nvertices):\n",
    "                if i<parent[i]:\n",
    "                    print(str(i) + \" \" + str(parent[i]) + \" \" + str(weights[i]))\n",
    "                else:\n",
    "                    print(str(parent[i]) + \" \" + str(i)  + \" \" + str(weights[i]))"
   ]
  },
  {
   "cell_type": "code",
   "execution_count": 2,
   "metadata": {},
   "outputs": [
    {
     "name": "stdout",
     "output_type": "stream",
     "text": [
      "4 4 \n",
      "0 1 3\n",
      "0 3 5\n",
      "1 2 1\n",
      "2 3 8\n",
      "0 1 3\n",
      "1 2 1\n",
      "0 3 5\n"
     ]
    }
   ],
   "source": [
    "l = [int(i) for i in input().split()]\n",
    "nvertices = l[0]\n",
    "edges = l[1]\n",
    "\n",
    "g = Graph(nvertices)\n",
    "for i in range(edges):\n",
    "    new_row = [int(element) for element in input().split()]\n",
    "    g.addedge(new_row[0], new_row[1], new_row[2])\n",
    "\n",
    "g.prims()"
   ]
  },
  {
   "cell_type": "code",
   "execution_count": 3,
   "metadata": {},
   "outputs": [],
   "source": []
  },
  {
   "cell_type": "code",
   "execution_count": null,
   "metadata": {},
   "outputs": [],
   "source": []
  },
  {
   "cell_type": "code",
   "execution_count": 1,
   "metadata": {},
   "outputs": [],
   "source": [
    "#PRIMS ALGORITHM USING PRIORITY QUEUES\n",
    "from queue import PriorityQueue\n",
    "def Minimum_length_of_wire(n, edges, adj):\n",
    "    graph=[[] for i in range(edges)]\n",
    "    q=PriorityQueue()\n",
    "    \n",
    "    for u,v,w in adj:\n",
    "        graph[u].append((v,w))\n",
    "    \n",
    "    acquiring_vertex=-1\n",
    "    source=0\n",
    "    length=0\n",
    "    \n",
    "    q.put((length, source, acquiring_vertex))\n",
    "    visited=[False for i in range(n)]\n",
    "    \n",
    "    while q.empty() is False:\n",
    "        #Remove\n",
    "        current=q.get()\n",
    "        wt=current[0]\n",
    "        vertex=current[1]\n",
    "        acq_vertex=current[2]\n",
    "        \n",
    "        #Mark\n",
    "        if visited[vertex]:\n",
    "            continue\n",
    "        visited[vertex]=True\n",
    "        \n",
    "        #Work\n",
    "        if acq_vertex!=-1:\n",
    "            print(str(vertex)+'-'+str(acq_vertex)+'@'+str(wt))\n",
    "        \n",
    "        #Add\n",
    "        for neigh, weight in graph[vertex]:\n",
    "            q.put((weight, neigh, vertex))"
   ]
  },
  {
   "cell_type": "code",
   "execution_count": 2,
   "metadata": {},
   "outputs": [
    {
     "name": "stdout",
     "output_type": "stream",
     "text": [
      "1-0@10\n",
      "2-1@10\n",
      "3-2@10\n",
      "4-3@2\n",
      "5-4@3\n",
      "6-5@3\n"
     ]
    }
   ],
   "source": [
    "n=7\n",
    "edges=8\n",
    "l=[[0, 1, 10],\n",
    "   [1, 2, 10],\n",
    "   [2, 3, 10],\n",
    "   [0, 3, 40],\n",
    "   [3, 4, 2],\n",
    "   [4, 5, 3],\n",
    "   [5, 6, 3],\n",
    "   [4, 6, 8]]\n",
    "Minimum_length_of_wire(n,edges,l)"
   ]
  },
  {
   "cell_type": "code",
   "execution_count": null,
   "metadata": {},
   "outputs": [],
   "source": []
  },
  {
   "cell_type": "code",
   "execution_count": null,
   "metadata": {},
   "outputs": [],
   "source": []
  },
  {
   "cell_type": "code",
   "execution_count": null,
   "metadata": {},
   "outputs": [],
   "source": []
  },
  {
   "cell_type": "markdown",
   "metadata": {},
   "source": [
    "# DIJKSTRA'S "
   ]
  },
  {
   "cell_type": "code",
   "execution_count": 1,
   "metadata": {},
   "outputs": [],
   "source": [
    "import sys\n",
    "class Graph:\n",
    "    \n",
    "    def __init__(self, nvertices):\n",
    "        self.nvertices = nvertices\n",
    "        self.adjMat = [[0 for j in range(self.nvertices)] for i in range(self.nvertices)]\n",
    "        \n",
    "    def addEdge(self, v1, v2, distance):\n",
    "        self.adjMat[v1][v2] = distance\n",
    "        self.adjMat[v2][v1] = distance\n",
    "        \n",
    "        \n",
    "    def get_min_vertex(self, distance, visited):\n",
    "        min_index = -1\n",
    "        for i in range(self.nvertices):\n",
    "            if visited[i] is False and (min_index==-1 or distance[min_index]>distance[i]):\n",
    "                min_index = i\n",
    "        return min_index\n",
    "        \n",
    "        \n",
    "    def Dijkstra(self):\n",
    "        visited = [False for i in range(self.nvertices)]\n",
    "        distance = [sys.maxsize for i in range(self.nvertices)]\n",
    "        \n",
    "        #Initialising the source vertex to be 0\n",
    "        distance[0] = 0\n",
    "        \n",
    "        for i in range(self.nvertices-1):\n",
    "            min_distance = self.get_min_vertex(distance, visited)\n",
    "            visited[min_distance] = True\n",
    "            \n",
    "            for j in range(self.nvertices):\n",
    "                if self.adjMat[min_distance][j]>0 and visited[j] is False:\n",
    "                    if distance[j]>distance[min_distance]+self.adjMat[min_distance][j]:\n",
    "                        distance[j]=distance[min_distance]+self.adjMat[min_distance][j]\n",
    "        \n",
    "        for i in range(self.nvertices):\n",
    "            print(i, distance[i])\n",
    "            "
   ]
  },
  {
   "cell_type": "code",
   "execution_count": 5,
   "metadata": {
    "scrolled": true
   },
   "outputs": [
    {
     "name": "stdout",
     "output_type": "stream",
     "text": [
      "4 4\n",
      "0 1 3\n",
      "0 3 5\n",
      "1 2 1\n",
      "2 3 8\n",
      "0 0\n",
      "1 3\n",
      "2 4\n",
      "3 5\n"
     ]
    }
   ],
   "source": [
    "l = [int(i) for i in input().split()]\n",
    "nvertices = l[0]\n",
    "edges = l[1]\n",
    "g = Graph(nvertices)\n",
    "for i in range(edges):\n",
    "    next_row = [int(element) for element in input().split()]\n",
    "    g.addEdge(next_row[0], next_row[1], next_row[2])\n",
    "g.Dijkstra() \n",
    "    "
   ]
  },
  {
   "cell_type": "code",
   "execution_count": null,
   "metadata": {},
   "outputs": [],
   "source": []
  },
  {
   "cell_type": "code",
   "execution_count": null,
   "metadata": {},
   "outputs": [],
   "source": []
  },
  {
   "cell_type": "code",
   "execution_count": 23,
   "metadata": {},
   "outputs": [],
   "source": [
    "from queue import PriorityQueue\n",
    "def Dijkstra(n,edges,adj,src):\n",
    "    graph=[[]for i in range(n)]\n",
    "    q=PriorityQueue()\n",
    "    visited=[False for i in range(n)]\n",
    "    \n",
    "    #CREATING THE UNDIRECTED GRAPH!\n",
    "    for u,v,w in adj:\n",
    "        graph[u].append((v,w))\n",
    "        graph[v].append((u,w))\n",
    "        \n",
    "    q.put((0, src, str(source)+\"\"))\n",
    "    while q.empty() is False:\n",
    "        current=q.get()\n",
    "        dist=current[0]\n",
    "        vertex=current[1]\n",
    "        psf=current[2]\n",
    "        \n",
    "        if visited[vertex]:\n",
    "            continue\n",
    "        visited[vertex]=True\n",
    "        \n",
    "        print(str(vertex)+' via '+str(psf)+' @ '+str(dist))\n",
    "        \n",
    "        for neigh, distance in graph[vertex]:\n",
    "            q.put((distance+dist, neigh , psf+str(neigh)))"
   ]
  },
  {
   "cell_type": "code",
   "execution_count": 22,
   "metadata": {},
   "outputs": [
    {
     "name": "stdout",
     "output_type": "stream",
     "text": [
      "0 via 0 @ 0\n",
      "1 via 01 @ 10\n",
      "2 via 012 @ 20\n",
      "5 via 0125 @ 25\n",
      "4 via 01254 @ 28\n",
      "6 via 01256 @ 28\n",
      "3 via 0123 @ 30\n"
     ]
    }
   ],
   "source": [
    "n=7\n",
    "e=9\n",
    "l=[[0, 1, 10],\n",
    "  [1, 2, 10],\n",
    "  [2, 3, 10],\n",
    "  [0, 3, 40],\n",
    "  [3, 4, 2],\n",
    "  [4, 5, 3],\n",
    "  [5, 6, 3],\n",
    "  [4, 6, 8],\n",
    "  [2, 5, 5]]\n",
    "source=0\n",
    "Dijkstra(n,e,l,source)"
   ]
  },
  {
   "cell_type": "code",
   "execution_count": null,
   "metadata": {},
   "outputs": [],
   "source": []
  },
  {
   "cell_type": "code",
   "execution_count": null,
   "metadata": {},
   "outputs": [],
   "source": []
  },
  {
   "cell_type": "code",
   "execution_count": null,
   "metadata": {},
   "outputs": [],
   "source": []
  },
  {
   "cell_type": "markdown",
   "metadata": {},
   "source": [
    "# BELLMAN FORD "
   ]
  },
  {
   "cell_type": "code",
   "execution_count": 14,
   "metadata": {},
   "outputs": [],
   "source": [
    "#TO CALCULATE SHORTEST PATH IN NEGATIVE WEIGHT GRAPH\n",
    "#TO DETECT NEGATIVE CYCLES IN THE GRAPH!\n",
    "import sys\n",
    "def Bellman_ford(n, src, l):\n",
    "    graph=[[] for i in range(n)]\n",
    "    for u,v,w in l:\n",
    "        graph[u].append((v,w))\n",
    "        \n",
    "    distance=[sys.maxsize for i in range(n)]\n",
    "    distance[src]=0\n",
    "    \n",
    "    for u in range(n-1):\n",
    "        for v,w in graph[u]:\n",
    "            if distance[u]==sys.maxsize:\n",
    "                continue\n",
    "            if distance[u]+w<distance[v]:\n",
    "                distance[v]=distance[u]+w\n",
    "    \n",
    "    return distance"
   ]
  },
  {
   "cell_type": "code",
   "execution_count": 15,
   "metadata": {},
   "outputs": [
    {
     "data": {
      "text/plain": [
       "[0, -1, 2, 1, 1]"
      ]
     },
     "execution_count": 15,
     "metadata": {},
     "output_type": "execute_result"
    }
   ],
   "source": [
    "n=5\n",
    "l=[[0, 1, -1], \n",
    "   [0, 2, 4], \n",
    "   [1, 2, 3], \n",
    "   [1, 3, 2], \n",
    "   [1, 4, 2],\n",
    "   [3, 2, 5], \n",
    "   [3, 1, 1],\n",
    "   [4, 3, -3]]\n",
    "source=0\n",
    "Bellman_ford(n, source, l)"
   ]
  },
  {
   "cell_type": "code",
   "execution_count": null,
   "metadata": {},
   "outputs": [],
   "source": []
  },
  {
   "cell_type": "code",
   "execution_count": null,
   "metadata": {},
   "outputs": [],
   "source": []
  },
  {
   "cell_type": "code",
   "execution_count": 17,
   "metadata": {},
   "outputs": [],
   "source": [
    "def Detect_Cycles_in_Negative_Graph(n, source, l):\n",
    "    distance=[sys.maxsize for i in range(n)]\n",
    "    distance[source]=0\n",
    "    for u in range(n-1):\n",
    "        for v,w in graph[u]:\n",
    "            if distance[u]==sys.maxsize:\n",
    "                continue\n",
    "            if distance[u]+w<distance[v]:\n",
    "                distance[v]=distance[u]+2\n",
    "    \n",
    "    \n",
    "    for u in range(n-1):\n",
    "        for v,w in graph[u]:\n",
    "            if distance[u]==sys.maxsize:\n",
    "                continue\n",
    "            if distance[u]+w<distance[v]:\n",
    "                return True\n",
    "            \n",
    "    return False"
   ]
  },
  {
   "cell_type": "code",
   "execution_count": null,
   "metadata": {},
   "outputs": [],
   "source": []
  },
  {
   "cell_type": "code",
   "execution_count": null,
   "metadata": {},
   "outputs": [],
   "source": []
  },
  {
   "cell_type": "code",
   "execution_count": null,
   "metadata": {},
   "outputs": [],
   "source": []
  },
  {
   "cell_type": "markdown",
   "metadata": {},
   "source": [
    "# KOSARAJU'S ALGORITHM"
   ]
  },
  {
   "cell_type": "code",
   "execution_count": 11,
   "metadata": {},
   "outputs": [],
   "source": [
    "#To calculate the strongly connected components.\n",
    "#4 Steps Algorithm."
   ]
  },
  {
   "cell_type": "code",
   "execution_count": 15,
   "metadata": {},
   "outputs": [],
   "source": [
    "def topological(sv, visited, graph, stack):\n",
    "    visited[sv]=True\n",
    "    for vertex in graph[sv]:\n",
    "        if visited[vertex]==False:\n",
    "            topological(vertex, visited, graph, stack)\n",
    "    stack.append(sv)\n",
    "    \n",
    "def dfs(sv, visited, graph):\n",
    "    visited[sv]=True\n",
    "    for i in graph[sv]:\n",
    "        if visited[i]==False:\n",
    "            dfs(i, visited, graph)\n",
    "    \n",
    "    \n",
    "def Kosaraju(n, graph):\n",
    "    stack=[]\n",
    "    visited=[False for i in range(n)]\n",
    "    \n",
    "    # 1.Find the specific order of graph (Topological order)\n",
    "    for i in range(0, n):\n",
    "        if visited[i]==False:\n",
    "            topological(i, visited, graph, stack)\n",
    "    \n",
    "    # 2.Reverse the graph\n",
    "    rev=[[] for i in range(n)]\n",
    "    for i in range(n):\n",
    "        for j in graph[i]:\n",
    "            rev[j].append(i)\n",
    "    \n",
    "    # 3.Apply the number of components of graph on reverse graph in specfic order!\n",
    "    components=0\n",
    "    visited=[False for i in range(n)]\n",
    "    for i in stack[::-1]:\n",
    "        if visited[i]==False:\n",
    "            dfs(i, visited, rev)\n",
    "            components+=1\n",
    "            \n",
    "    return components   "
   ]
  },
  {
   "cell_type": "code",
   "execution_count": 16,
   "metadata": {},
   "outputs": [
    {
     "data": {
      "text/plain": [
       "3"
      ]
     },
     "execution_count": 16,
     "metadata": {},
     "output_type": "execute_result"
    }
   ],
   "source": [
    "n=5\n",
    "graph=[[2,3] , [0], [1], [4], []]\n",
    "Kosaraju(n, graph)"
   ]
  },
  {
   "cell_type": "code",
   "execution_count": null,
   "metadata": {},
   "outputs": [],
   "source": []
  },
  {
   "cell_type": "code",
   "execution_count": null,
   "metadata": {},
   "outputs": [],
   "source": []
  },
  {
   "cell_type": "code",
   "execution_count": null,
   "metadata": {},
   "outputs": [],
   "source": []
  },
  {
   "cell_type": "markdown",
   "metadata": {},
   "source": [
    "# UNION FIND ALGORITHM"
   ]
  },
  {
   "cell_type": "code",
   "execution_count": 12,
   "metadata": {},
   "outputs": [],
   "source": [
    "#To Check the cycles in the graph in O(V) time\n",
    "# LEETCODE 684. Redundant Connection"
   ]
  },
  {
   "cell_type": "code",
   "execution_count": 19,
   "metadata": {},
   "outputs": [],
   "source": [
    "#Using edges list\n",
    "def findParent(x):\n",
    "    if parent[x]==-1:\n",
    "        return x\n",
    "    parent[x]=findParent(parent[x])\n",
    "    return parent[x]\n",
    "\n",
    "def Union(x,y):\n",
    "    root_x=findParent(x)\n",
    "    root_y=findParent(y)\n",
    "    if root_x==root_y:\n",
    "        return True\n",
    "    else:\n",
    "        parent[root_x]=root_y\n",
    "    \n",
    "def Union_Find_Algorithm(edges):\n",
    "    global parent\n",
    "    n=len(edges)\n",
    "    parent=[-1 for i in range(n)]\n",
    "    \n",
    "    for u,v in edges:\n",
    "        if Union(u,v):\n",
    "            print('There is cycle in the graph')\n",
    "            \n",
    "    print('No cycles found')"
   ]
  },
  {
   "cell_type": "code",
   "execution_count": 20,
   "metadata": {},
   "outputs": [
    {
     "name": "stdout",
     "output_type": "stream",
     "text": [
      "There is cycle in the graph\n",
      "No cycles found\n"
     ]
    }
   ],
   "source": [
    "edges = [[0,1],[1,2],[2,3],[0,3],[0,4]]\n",
    "Union_Find_Algorithm(edges)"
   ]
  },
  {
   "cell_type": "code",
   "execution_count": null,
   "metadata": {},
   "outputs": [],
   "source": []
  },
  {
   "cell_type": "code",
   "execution_count": 21,
   "metadata": {},
   "outputs": [],
   "source": [
    "#Using adjacency list\n",
    "def Union_Find_Algorithm_2(n, graph):\n",
    "    for i in range(n):\n",
    "        for j in graph[i]:\n",
    "            if Union(i,j):\n",
    "                print('There is the cylce in the Graph')\n",
    "                return \n",
    "    print('No cycles found')"
   ]
  },
  {
   "cell_type": "code",
   "execution_count": 22,
   "metadata": {},
   "outputs": [
    {
     "name": "stdout",
     "output_type": "stream",
     "text": [
      "There is the cylce in the Graph\n"
     ]
    }
   ],
   "source": [
    "n=5\n",
    "graph=[[1,3,4],[0,2],[1,3],[0,2],[4]]\n",
    "Union_Find_Algorithm_2(n,graph)"
   ]
  }
 ],
 "metadata": {
  "kernelspec": {
   "display_name": "Python 3",
   "language": "python",
   "name": "python3"
  },
  "language_info": {
   "codemirror_mode": {
    "name": "ipython",
    "version": 3
   },
   "file_extension": ".py",
   "mimetype": "text/x-python",
   "name": "python",
   "nbconvert_exporter": "python",
   "pygments_lexer": "ipython3",
   "version": "3.8.5"
  }
 },
 "nbformat": 4,
 "nbformat_minor": 4
}
