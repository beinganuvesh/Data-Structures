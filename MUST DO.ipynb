{
 "cells": [
  {
   "cell_type": "markdown",
   "metadata": {},
   "source": [
    "# MEDIAN "
   ]
  },
  {
   "cell_type": "code",
   "execution_count": 2,
   "metadata": {},
   "outputs": [],
   "source": [
    "import heapq\n",
    "class MedianFinder:\n",
    "    def __init__(self):\n",
    "        self.left=[]\n",
    "        self.right=[]\n",
    "        \n",
    "    def addNum(self, num):  \n",
    "      if len(self.left)==0:\n",
    "        heapq.heappush(self.left, -num)\n",
    "      elif num <= -self.left[0]:\n",
    "        heapq.heappush(self.left, -num)\n",
    "      else:\n",
    "        heapq.heappush(self.right, num)\n",
    "        \n",
    "      #Check if the sizes of the queues are more than 1!\n",
    "      if len(self.left)-len(self.right)>1:\n",
    "          heapq.heappush(self.right, -heapq.heappop(self.left))\n",
    "      elif len(self.right)-len(self.left)>1:\n",
    "          heapq.heappush(self.left, -heapq.heappop(self.right))\n",
    "        \n",
    "    def findMedian(self):\n",
    "        if len(self.left)>len(self.right):\n",
    "          return float(-self.left[0])\n",
    "        elif len(self.left)<len(self.right):\n",
    "          return float(self.right[0])\n",
    "        else:\n",
    "          return float((self.right[0]-self.left[0])/2.0)"
   ]
  },
  {
   "cell_type": "code",
   "execution_count": 3,
   "metadata": {},
   "outputs": [],
   "source": [
    "obj=MedianFinder()\n",
    "obj.addNum(1)\n",
    "obj.addNum(2)\n",
    "obj.addNum(3)\n",
    "obj.addNum(4)"
   ]
  },
  {
   "cell_type": "code",
   "execution_count": 4,
   "metadata": {},
   "outputs": [
    {
     "data": {
      "text/plain": [
       "2.5"
      ]
     },
     "execution_count": 4,
     "metadata": {},
     "output_type": "execute_result"
    }
   ],
   "source": [
    "obj.findMedian()"
   ]
  },
  {
   "cell_type": "code",
   "execution_count": null,
   "metadata": {},
   "outputs": [],
   "source": []
  },
  {
   "cell_type": "markdown",
   "metadata": {},
   "source": [
    "#MERGE K-Sorted Lists"
   ]
  }
 ],
 "metadata": {
  "kernelspec": {
   "display_name": "Python 3",
   "language": "python",
   "name": "python3"
  },
  "language_info": {
   "codemirror_mode": {
    "name": "ipython",
    "version": 3
   },
   "file_extension": ".py",
   "mimetype": "text/x-python",
   "name": "python",
   "nbconvert_exporter": "python",
   "pygments_lexer": "ipython3",
   "version": "3.7.4"
  }
 },
 "nbformat": 4,
 "nbformat_minor": 4
}
