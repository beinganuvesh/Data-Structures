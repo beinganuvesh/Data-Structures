{
 "cells": [
  {
   "cell_type": "markdown",
   "metadata": {},
   "source": [
    "### HEAP SORT - 1"
   ]
  },
  {
   "cell_type": "code",
   "execution_count": 40,
   "metadata": {},
   "outputs": [],
   "source": [
    "def DownHeapify(l, i, n): #Percolate Down (Removing element form PQ)\n",
    "    parentIndex = i\n",
    "    while parentIndex<len(l):\n",
    "        leftIndex = (2*parentIndex)+1\n",
    "        rightIndex = (2*parentIndex)+2\n",
    "        if leftIndex>=len(l):\n",
    "            break\n",
    "        if rightIndex<len(l):\n",
    "            if l[leftIndex]<l[rightIndex]:\n",
    "                childIndex = leftIndex\n",
    "            else:\n",
    "                childIndex = rightIndex\n",
    "        else:\n",
    "            childIndex = leftIndex\n",
    "            \n",
    "        if l[parentIndex]>l[childIndex]:\n",
    "            l[parentIndex], l[childIndex] = l[childIndex],l[parentIndex]\n",
    "            parentIndex = childIndex\n",
    "        else:\n",
    "            break\n",
    "    return \n",
    "\n",
    "def Helper_Down_Heapify(l): #Percolate Down (Removing element form PQ)\n",
    "    parentIndex = 0\n",
    "    while parentIndex<len(l):\n",
    "        leftIndex = (2*parentIndex)+1\n",
    "        rightIndex = (2*parentIndex)+2\n",
    "        if leftIndex>=len(l):\n",
    "            break\n",
    "        if rightIndex<len(l):\n",
    "            if l[leftIndex]<l[rightIndex]:\n",
    "                childIndex = leftIndex\n",
    "            else:\n",
    "                childIndex = rightIndex\n",
    "        else:\n",
    "            childIndex = leftIndex\n",
    "            \n",
    "        if l[parentIndex]>l[childIndex]:\n",
    "            l[parentIndex], l[childIndex] = l[childIndex],l[parentIndex]\n",
    "            parentIndex = childIndex\n",
    "        else:\n",
    "            break\n",
    "    return \n",
    "\n",
    "def HeapSort(n, l):\n",
    "    #Building the Heap\n",
    "    for i in range(n-1, -1, -1):\n",
    "        DownHeapify(l, i, n)\n",
    "        \n",
    "    output=[]\n",
    "    for k in range(0,n):\n",
    "        temp = l[0]\n",
    "        output.append(temp)\n",
    "        l[0]=l[-1]\n",
    "        l.pop()\n",
    "        Helper_Down_Heapify(l)\n",
    "    return output"
   ]
  },
  {
   "cell_type": "markdown",
   "metadata": {},
   "source": [
    "### HEAP SORT - 2"
   ]
  },
  {
   "cell_type": "code",
   "execution_count": 54,
   "metadata": {},
   "outputs": [],
   "source": [
    "def DownHeapify(l, i, n): #Percolate Down (Removing element form PQ)\n",
    "    parentIndex = i\n",
    "    while parentIndex<len(l):\n",
    "        leftIndex = (2*parentIndex)+1\n",
    "        rightIndex = (2*parentIndex)+2\n",
    "        if leftIndex>=len(l):\n",
    "            break\n",
    "        if rightIndex<len(l):\n",
    "            if l[leftIndex]<l[rightIndex]:\n",
    "                childIndex = leftIndex\n",
    "            else:\n",
    "                childIndex = rightIndex\n",
    "        else:\n",
    "            childIndex = leftIndex\n",
    "            \n",
    "        if l[parentIndex]>l[childIndex]:\n",
    "            l[parentIndex], l[childIndex] = l[childIndex],l[parentIndex]\n",
    "            parentIndex = childIndex\n",
    "        else:\n",
    "            break\n",
    "    return \n",
    "\n",
    "def HeapSort_optimized(l):\n",
    "    #Building the Heap\n",
    "    n = len(l)\n",
    "    for i in range((n//2)-1, -1, -1): #Not working on the leaf nodes.\n",
    "        DownHeapify(l,i,n)\n",
    "        \n",
    "    for i in range(n-1,0,n):\n",
    "        l[0],l[i] = l[i],l[0]\n",
    "        DownHeapify(l,0,i)\n",
    "    return l"
   ]
  },
  {
   "cell_type": "code",
   "execution_count": 55,
   "metadata": {},
   "outputs": [
    {
     "data": {
      "text/plain": [
       "[1, 2, 6, 5, 19, 18]"
      ]
     },
     "execution_count": 55,
     "metadata": {},
     "output_type": "execute_result"
    }
   ],
   "source": [
    "l = [6,2,1,5,19,18]\n",
    "HeapSort_optimized(l)"
   ]
  },
  {
   "cell_type": "markdown",
   "metadata": {},
   "source": [
    "### FUNCTIONS"
   ]
  },
  {
   "cell_type": "code",
   "execution_count": 36,
   "metadata": {},
   "outputs": [],
   "source": [
    "def DownHeapify(l, i, n): #Percolate Down (Removing element form PQ)\n",
    "    parentIndex = i\n",
    "    while parentIndex<len(l):\n",
    "        leftIndex = (2*parentIndex)+1\n",
    "        rightIndex = (2*parentIndex)+2\n",
    "        if leftIndex>=len(l):\n",
    "            break\n",
    "        if rightIndex<len(l):\n",
    "            if l[leftIndex]<l[rightIndex]:\n",
    "                childIndex = leftIndex\n",
    "            else:\n",
    "                childIndex = rightIndex\n",
    "        else:\n",
    "            childIndex = leftIndex\n",
    "            \n",
    "        if l[parentIndex]>l[childIndex]:\n",
    "            l[parentIndex], l[childIndex] = l[childIndex],l[parentIndex]\n",
    "            parentIndex = childIndex\n",
    "        else:\n",
    "            break\n",
    "    return "
   ]
  },
  {
   "cell_type": "code",
   "execution_count": 37,
   "metadata": {},
   "outputs": [],
   "source": [
    "def Down_Heapify(l): #Percolate Down (Removing element form PQ)\n",
    "    parentIndex = 0\n",
    "    while parentIndex<len(l):\n",
    "        leftIndex = (2*parentIndex)+1\n",
    "        rightIndex = (2*parentIndex)+2\n",
    "        if leftIndex>=len(l):\n",
    "            break\n",
    "        if rightIndex<len(l):\n",
    "            if l[leftIndex]<l[rightIndex]:\n",
    "                childIndex = leftIndex\n",
    "            else:\n",
    "                childIndex = rightIndex\n",
    "        else:\n",
    "            childIndex = leftIndex\n",
    "            \n",
    "        if l[parentIndex]>l[childIndex]:\n",
    "            l[parentIndex], l[childIndex] = l[childIndex],l[parentIndex]\n",
    "            parentIndex = childIndex\n",
    "        else:\n",
    "            break\n",
    "    return "
   ]
  },
  {
   "cell_type": "code",
   "execution_count": null,
   "metadata": {},
   "outputs": [],
   "source": [
    "4 3\n",
    "10 5 6 2\n",
    "12 7 9"
   ]
  }
 ],
 "metadata": {
  "kernelspec": {
   "display_name": "Python 3",
   "language": "python",
   "name": "python3"
  },
  "language_info": {
   "codemirror_mode": {
    "name": "ipython",
    "version": 3
   },
   "file_extension": ".py",
   "mimetype": "text/x-python",
   "name": "python",
   "nbconvert_exporter": "python",
   "pygments_lexer": "ipython3",
   "version": "3.7.4"
  }
 },
 "nbformat": 4,
 "nbformat_minor": 4
}
