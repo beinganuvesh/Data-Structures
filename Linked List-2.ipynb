{
 "cells": [
  {
   "cell_type": "code",
   "execution_count": 1,
   "metadata": {},
   "outputs": [],
   "source": [
    "class Node:\n",
    "    def __init__(self, data):\n",
    "        self.data = data\n",
    "        self.next = None"
   ]
  },
  {
   "cell_type": "code",
   "execution_count": 2,
   "metadata": {},
   "outputs": [],
   "source": [
    "def printLL(head):\n",
    "    temp = head\n",
    "    while temp is not None:\n",
    "        print(str(temp.data) + '-->', end=\" \")\n",
    "        temp = temp.next\n",
    "    print('None')\n",
    "    return \n",
    "\n",
    "def inputLL():\n",
    "    arr = [int(i) for i in input().split()]\n",
    "    head = None\n",
    "    tail = None\n",
    "    \n",
    "    for current in arr:\n",
    "        if current == -1:\n",
    "            break\n",
    "        #Creating a new node.\n",
    "        newNode = Node(current)\n",
    "        #Updating the head\n",
    "        if head == None:\n",
    "            head = newNode\n",
    "            tail = newNode\n",
    "        else:\n",
    "            tail.next = newNode\n",
    "            tail = tail.next\n",
    "    return head"
   ]
  },
  {
   "cell_type": "code",
   "execution_count": null,
   "metadata": {},
   "outputs": [],
   "source": [
    "h = inputLL()\n",
    "printLL(h)"
   ]
  },
  {
   "cell_type": "markdown",
   "metadata": {},
   "source": [
    "### PALINDRONE "
   ]
  },
  {
   "cell_type": "code",
   "execution_count": null,
   "metadata": {},
   "outputs": [],
   "source": [
    "def Length(head):\n",
    "    l = 0\n",
    "    while head is not None:\n",
    "        l+=1\n",
    "        head=head.next\n",
    "    return l\n",
    "\n",
    "def ReverseLL(head):\n",
    "    if head==None or head.next==None:\n",
    "        return head\n",
    "    \n",
    "    smallerOutput = ReverseLL(head.next)\n",
    "    head.next.next = head\n",
    "    head.next = None\n",
    "    \n",
    "    return smallerOutput\n",
    "\n",
    "def isPalindrome(head) :\n",
    "    #Your code goes here\n",
    "    if head==None:\n",
    "        return None\n",
    "    \n",
    "    temp = head\n",
    "    count = 0\n",
    "    l = Length(head) \n",
    "    if l%2==0:\n",
    "        mid = (l//2)-1\n",
    "    else:\n",
    "        mid = l//2\n",
    "    \n",
    "    while temp is not None:\n",
    "        if count==mid:\n",
    "            break\n",
    "        temp = temp.next\n",
    "        count+=1\n",
    "    head2 = temp.next\n",
    "    temp.next = None\n",
    "        \n",
    "    reverse_half = ReverseLL(head2)\n",
    "    temp1 = head\n",
    "    temp2 = reverse_half\n",
    "    \n",
    "    while (temp1 is not None) and (temp2 is not None):\n",
    "        if temp1.data != temp2.data:\n",
    "            return False\n",
    "        temp1=temp1.next\n",
    "        temp2=temp2.next\n",
    "        \n",
    "    return True"
   ]
  },
  {
   "cell_type": "code",
   "execution_count": null,
   "metadata": {},
   "outputs": [],
   "source": [
    "h1 = inputLL()"
   ]
  },
  {
   "cell_type": "code",
   "execution_count": null,
   "metadata": {},
   "outputs": [],
   "source": [
    "isPalindrome(h1)"
   ]
  },
  {
   "cell_type": "markdown",
   "metadata": {},
   "source": [
    "### MID POINT"
   ]
  },
  {
   "cell_type": "code",
   "execution_count": null,
   "metadata": {},
   "outputs": [],
   "source": [
    "def Length(head):\n",
    "    temp = head\n",
    "    l=0\n",
    "    while temp is not None:\n",
    "        l+=1\n",
    "        temp=temp.next\n",
    "        \n",
    "    return l\n",
    "def midpoint_linkedlist(head):\n",
    "    if head == None:\n",
    "        return \n",
    "    \n",
    "    l = Length(head)\n",
    "    mid=0\n",
    "    count=0\n",
    "    if l%2==0:\n",
    "        mid = (l//2)-1\n",
    "    else:\n",
    "        mid = l//2\n",
    "    \n",
    "    t = head\n",
    "    while t is not None:\n",
    "        if count==mid:\n",
    "            return t.data\n",
    "        t = t.next\n",
    "        count+=1"
   ]
  },
  {
   "cell_type": "markdown",
   "metadata": {},
   "source": [
    "### MERGING TWO SORTED LL'S"
   ]
  },
  {
   "cell_type": "code",
   "execution_count": 1,
   "metadata": {},
   "outputs": [],
   "source": [
    "def merge(head1,head2):\n",
    "    f_h = None\n",
    "    f_t = None\n",
    "    while (head1 is not None) and (head2 is not None):\n",
    "        \n",
    "        if head1.data <= head2.data:\n",
    "            if f_h == None:\n",
    "                f_h = head1\n",
    "                f_t = head1\n",
    "                head1 = head1.next\n",
    "            else:\n",
    "                f_t.next = head1\n",
    "                f_t = f_t.next\n",
    "                head1 = head1.next\n",
    "            \n",
    "        elif head1.data>head2.data:\n",
    "            if f_h == None:\n",
    "                f_h = head2\n",
    "                f_t = head2\n",
    "                head2 = head2.next\n",
    "            else:\n",
    "                f_t.next = head2\n",
    "                f_t = f_t.next\n",
    "                head2 = head2.next\n",
    "    \n",
    "    if head1 is not None:\n",
    "        f_t.next = head1\n",
    "    if head2 is not None:\n",
    "        f_t.next = head2\n",
    "        \n",
    "    return f_h"
   ]
  },
  {
   "cell_type": "markdown",
   "metadata": {},
   "source": [
    "### MID-POINT"
   ]
  },
  {
   "cell_type": "code",
   "execution_count": null,
   "metadata": {},
   "outputs": [],
   "source": [
    "def midpoint(head):\n",
    "    curr = head\n",
    "    c = 0\n",
    "    while curr is not None:\n",
    "        c+=1\n",
    "        curr=curr.next\n",
    "    curr = head\n",
    "    for i in range(1, (c+1)//2):\n",
    "        curr=curr.next\n",
    "    return curr.data"
   ]
  },
  {
   "cell_type": "code",
   "execution_count": null,
   "metadata": {},
   "outputs": [],
   "source": [
    "head = inputLL()"
   ]
  },
  {
   "cell_type": "code",
   "execution_count": null,
   "metadata": {},
   "outputs": [],
   "source": [
    "midpoint(head)"
   ]
  },
  {
   "cell_type": "code",
   "execution_count": null,
   "metadata": {},
   "outputs": [],
   "source": []
  },
  {
   "cell_type": "markdown",
   "metadata": {},
   "source": [
    "# *ASSIGNMENT* **"
   ]
  },
  {
   "cell_type": "markdown",
   "metadata": {},
   "source": [
    "### POSITION OF NODE"
   ]
  },
  {
   "cell_type": "code",
   "execution_count": null,
   "metadata": {},
   "outputs": [],
   "source": [
    "def Helper(head, n, pos):\n",
    "    if head==None:\n",
    "        return -1\n",
    "    if head.data==n:\n",
    "        return pos\n",
    "    \n",
    "    smallerOutput = Helper(head.next, n, pos+1)\n",
    "    return smallerOutput\n",
    "    \n",
    "    \n",
    "def linearSearchRecursive(head, n):\n",
    "    return Helper(head, n, 0)\n",
    "\n",
    "def ll(arr):\n",
    "    if len(arr)==0:\n",
    "        return None\n",
    "    head = Node(arr[0])\n",
    "    last = head\n",
    "    for data in arr[1:]:\n",
    "        last.next = Node(data)\n",
    "        last = last.next\n",
    "    return head\n"
   ]
  },
  {
   "cell_type": "code",
   "execution_count": null,
   "metadata": {},
   "outputs": [],
   "source": [
    "h = inputLL()\n",
    "linearSearchRecursive(h, 5)"
   ]
  },
  {
   "cell_type": "markdown",
   "metadata": {},
   "source": [
    "### EVEN AFTER ODD**"
   ]
  },
  {
   "cell_type": "code",
   "execution_count": null,
   "metadata": {},
   "outputs": [],
   "source": [
    "def evenAfterodd(head):\n",
    "    oh,ot,eh,et = None,None,None,None\n",
    "    temp = head\n",
    "    \n",
    "    while temp is not None:\n",
    "        if (temp.data)%2 != 0:\n",
    "            if oh==None:\n",
    "                oh = temp\n",
    "                ot = temp \n",
    "            else:\n",
    "                ot.next = temp\n",
    "                ot = ot.next\n",
    "        else:\n",
    "            if eh==None:\n",
    "                eh=temp\n",
    "                et=temp\n",
    "            else:\n",
    "                et.next = temp\n",
    "                et = et.next\n",
    "        temp = temp.next\n",
    "    \n",
    "    if oh == None:\n",
    "        et.next = None\n",
    "        return eh\n",
    "    elif eh == None:\n",
    "        ot.next = None\n",
    "        return oh\n",
    "    else:\n",
    "        ot.next = None\n",
    "        et.next = None\n",
    "        ot.next = eh\n",
    "        return oh"
   ]
  },
  {
   "cell_type": "code",
   "execution_count": null,
   "metadata": {},
   "outputs": [],
   "source": [
    "head = inputLL()"
   ]
  },
  {
   "cell_type": "code",
   "execution_count": null,
   "metadata": {},
   "outputs": [],
   "source": [
    "h = (evenAfterodd(head))"
   ]
  },
  {
   "cell_type": "code",
   "execution_count": null,
   "metadata": {},
   "outputs": [],
   "source": [
    "printLL(h)"
   ]
  },
  {
   "cell_type": "markdown",
   "metadata": {},
   "source": [
    "### DELETE EVERY N NODES"
   ]
  },
  {
   "cell_type": "code",
   "execution_count": null,
   "metadata": {},
   "outputs": [],
   "source": [
    "def skipMdeleteN(head, M, N):\n",
    "    cm = 1\n",
    "    cn = 1\n",
    "    t1 = head\n",
    "    t2 = head\n",
    "    \n",
    "    if M==0:\n",
    "        return None\n",
    "    elif N==0:\n",
    "        return head\n",
    "    else:\n",
    "        while t1 is not None and t2 is not None:\n",
    "\n",
    "            while (cm<M):\n",
    "                if t1 is None:\n",
    "                    break\n",
    "                t1 = t1.next\n",
    "                cm+=1\n",
    "            \n",
    "            if t1 is None:\n",
    "                return head\n",
    "            t2 = t1.next\n",
    "\n",
    "            while (cn<=N):\n",
    "                if t2 is None:\n",
    "                    break\n",
    "                t2=t2.next\n",
    "                cn+=1\n",
    "\n",
    "            t1.next = t2\n",
    "            if t1 is not None:\n",
    "                t1 = t2\n",
    "\n",
    "            cn = 1\n",
    "            cm = 1\n",
    "\n",
    "        return head"
   ]
  },
  {
   "cell_type": "code",
   "execution_count": null,
   "metadata": {},
   "outputs": [],
   "source": [
    "def skipMdeleteN(head, M, N):\n",
    "    cm = 1\n",
    "    cn = 1\n",
    "    t1 = head\n",
    "    if M==0:\n",
    "        return None\n",
    "    elif N==0:\n",
    "        return head\n",
    "    else:\n",
    "        while t1 is not None:\n",
    "            cm=1\n",
    "            cn=1\n",
    "            while (cm<M) and (t1 is not None):\n",
    "                t1 = t1.next\n",
    "                cm+=1\n",
    "            if t1 is None:\n",
    "                return head\n",
    "            t2 = t1.next\n",
    "            \n",
    "            while (cn<=N) and (t2 is not None):\n",
    "                t2=t2.next\n",
    "                cn+=1\n",
    "            t1.next = t2\n",
    "            t1 = t1.next\n",
    "\n",
    "        return head"
   ]
  },
  {
   "cell_type": "code",
   "execution_count": null,
   "metadata": {},
   "outputs": [],
   "source": [
    "he = inputLL()"
   ]
  },
  {
   "cell_type": "code",
   "execution_count": null,
   "metadata": {},
   "outputs": [],
   "source": [
    "h = skipMdeleteN1(he, 0, 1)"
   ]
  },
  {
   "cell_type": "code",
   "execution_count": null,
   "metadata": {},
   "outputs": [],
   "source": [
    "printLL(h)"
   ]
  },
  {
   "cell_type": "markdown",
   "metadata": {},
   "source": [
    "### SWAP TWO NODES"
   ]
  },
  {
   "cell_type": "code",
   "execution_count": 102,
   "metadata": {},
   "outputs": [],
   "source": [
    "def swap_nodes(head, i, j):\n",
    "    c1,c2 = 1,1\n",
    "    t1,t2 = head,head\n",
    "    prev1, curr1, prev2, curr2 = None,None,None,None\n",
    "    \n",
    "    \n",
    "    #case-1:\n",
    "    if abs(i-j)==1 and (i==0 or j==0):\n",
    "            prev1 = head\n",
    "            curr1 = head.next\n",
    "            curr2 = head.next.next\n",
    "            \n",
    "            curr1.next = prev1\n",
    "            prev1.next = curr2\n",
    "            return curr1\n",
    "    \n",
    "    #case-2:\n",
    "    elif abs(i-j) == 1:\n",
    "        if i<j:\n",
    "            while c1<i:\n",
    "                t1=t1.next\n",
    "                c1+=1\n",
    "            while c2<j:\n",
    "                t2=t2.next\n",
    "                c2+=1\n",
    "            temp = t2.next.next\n",
    "            t1.next = t2.next\n",
    "            t2.next.next = t2\n",
    "            t2.next = temp\n",
    "            return head\n",
    "        else:\n",
    "            while c1<j:\n",
    "                t1=t1.next\n",
    "                c1+=1\n",
    "            while c2<i:\n",
    "                t2=t2.next\n",
    "                c2+=1\n",
    "            temp = t2.next.next\n",
    "            t1.next = t2.next\n",
    "            t2.next.next = t2\n",
    "            t2.next = temp\n",
    "            return head\n",
    "              \n",
    "\n",
    "    \n",
    "    \n",
    "    #case-3:\n",
    "    elif (i==0 or j==0):\n",
    "        if j==0:\n",
    "            while c1<i:\n",
    "                t1 = t1.next\n",
    "                c1+=1\n",
    "            prev1 = t1\n",
    "            curr1 = t1.next\n",
    "        else:\n",
    "            while c1<j:\n",
    "                t1 = t1.next\n",
    "                c1+=1\n",
    "            prev1 = t1\n",
    "            curr1 = t1.next\n",
    "            \n",
    "        curr2=head\n",
    "        \n",
    "        temp = curr2.next\n",
    "        prev1.next = curr2\n",
    "        curr2.next = curr1.next\n",
    "        curr1.next = temp\n",
    "        return curr1\n",
    "\n",
    "    #case-4  \n",
    "    else:\n",
    "        while c1<i:\n",
    "            t1 = t1.next\n",
    "            c1+=1\n",
    "        prev1 = t1\n",
    "        curr1 = t1.next\n",
    "        while c2<j:\n",
    "            t2 = t2.next\n",
    "            c2+=1\n",
    "        prev2 = t2\n",
    "        curr2 = t2.next\n",
    "        \n",
    "        curr2 = t2.next\n",
    "        temp = curr2.next\n",
    "        prev1.next = curr2\n",
    "        prev2.next = curr1\n",
    "        curr2.next = curr1.next \n",
    "        curr1.next = temp\n",
    "\n",
    "        return head\n",
    "    "
   ]
  },
  {
   "cell_type": "code",
   "execution_count": 103,
   "metadata": {},
   "outputs": [
    {
     "name": "stdout",
     "output_type": "stream",
     "text": [
      "50 100 -1\n"
     ]
    }
   ],
   "source": [
    "h = inputLL()"
   ]
  },
  {
   "cell_type": "code",
   "execution_count": 104,
   "metadata": {},
   "outputs": [],
   "source": [
    "head2 = swap_nodes(h, 0, 1)"
   ]
  },
  {
   "cell_type": "code",
   "execution_count": 105,
   "metadata": {},
   "outputs": [
    {
     "name": "stdout",
     "output_type": "stream",
     "text": [
      "100--> 50--> None\n"
     ]
    }
   ],
   "source": [
    "printLL(head2)"
   ]
  },
  {
   "cell_type": "markdown",
   "metadata": {},
   "source": [
    "### Bubble Sort"
   ]
  },
  {
   "cell_type": "code",
   "execution_count": 117,
   "metadata": {},
   "outputs": [],
   "source": [
    "def Length(head):\n",
    "    l=0\n",
    "    while head is not None:\n",
    "        l+=1\n",
    "        head = head.next\n",
    "    return l"
   ]
  },
  {
   "cell_type": "code",
   "execution_count": 237,
   "metadata": {},
   "outputs": [],
   "source": [
    "def Bubble_sort(head):\n",
    "    l = Length(head)\n",
    "    \n",
    "    for i in range(0, l):\n",
    "        curr = head\n",
    "        prev = None\n",
    "        \n",
    "        while curr.next is not None:\n",
    "            if curr.data>curr.next.data:\n",
    "                if prev is not None:\n",
    "                    temp = curr.next\n",
    "                    curr.next = temp.next\n",
    "                    temp.next = curr\n",
    "                    prev.next = temp\n",
    "                    prev = temp\n",
    "                else:\n",
    "                    \n",
    "            else:\n",
    "                prev = curr\n",
    "                curr = curr.next\n",
    "            \n",
    "    return head"
   ]
  },
  {
   "cell_type": "code",
   "execution_count": 238,
   "metadata": {},
   "outputs": [
    {
     "name": "stdout",
     "output_type": "stream",
     "text": [
      "5 4 3 -1\n"
     ]
    }
   ],
   "source": [
    "h = inputLL()"
   ]
  },
  {
   "cell_type": "code",
   "execution_count": null,
   "metadata": {},
   "outputs": [],
   "source": [
    "printLL(Bubble_sort(h))"
   ]
  },
  {
   "cell_type": "markdown",
   "metadata": {},
   "source": [
    "### Kreverse**"
   ]
  },
  {
   "cell_type": "code",
   "execution_count": 216,
   "metadata": {},
   "outputs": [],
   "source": [
    "def reverse(head):\n",
    "    if head is None or head.next == None:\n",
    "        return head,head\n",
    "    \n",
    "    smallerhead, smallertail = reverse(head.next)\n",
    "    smallertail.next = head\n",
    "    head.next = None\n",
    "    \n",
    "    return smallerhead, head"
   ]
  },
  {
   "cell_type": "code",
   "execution_count": 220,
   "metadata": {},
   "outputs": [],
   "source": [
    "def kReverse(head, n):\n",
    "    h = head\n",
    "    t = head\n",
    "    count = 1\n",
    "    \n",
    "    #Base Case:\n",
    "    if head == None or head.next == None:\n",
    "        return head\n",
    "    \n",
    "    while (t.next is not None) and  (count<n):\n",
    "        t = t.next\n",
    "        count+=1\n",
    "        \n",
    "    h2 = t.next\n",
    "    t.next = None\n",
    "        \n",
    "    newh, newt = reverse(h)\n",
    "    \n",
    "    #Induction Hypothesis:\n",
    "    smallerHead = kReverse(h2, n)\n",
    "    newt.next = smallerHead\n",
    "    return newh"
   ]
  },
  {
   "cell_type": "code",
   "execution_count": 221,
   "metadata": {},
   "outputs": [
    {
     "name": "stdout",
     "output_type": "stream",
     "text": [
      "1 2 3 4 5 6 7 8 9 10 -1\n"
     ]
    }
   ],
   "source": [
    "x = inputLL()"
   ]
  },
  {
   "cell_type": "code",
   "execution_count": 222,
   "metadata": {},
   "outputs": [],
   "source": [
    "y = kReverse(x, 4)"
   ]
  },
  {
   "cell_type": "code",
   "execution_count": 223,
   "metadata": {},
   "outputs": [
    {
     "name": "stdout",
     "output_type": "stream",
     "text": [
      "4--> 3--> 2--> 1--> 8--> 7--> 6--> 5--> 10--> 9--> None\n"
     ]
    }
   ],
   "source": [
    "printLL(y)"
   ]
  },
  {
   "cell_type": "code",
   "execution_count": null,
   "metadata": {},
   "outputs": [],
   "source": []
  },
  {
   "cell_type": "code",
   "execution_count": null,
   "metadata": {},
   "outputs": [],
   "source": []
  },
  {
   "cell_type": "code",
   "execution_count": null,
   "metadata": {},
   "outputs": [],
   "source": []
  }
 ],
 "metadata": {
  "kernelspec": {
   "display_name": "Python 3",
   "language": "python",
   "name": "python3"
  },
  "language_info": {
   "codemirror_mode": {
    "name": "ipython",
    "version": 3
   },
   "file_extension": ".py",
   "mimetype": "text/x-python",
   "name": "python",
   "nbconvert_exporter": "python",
   "pygments_lexer": "ipython3",
   "version": "3.7.4"
  }
 },
 "nbformat": 4,
 "nbformat_minor": 4
}
