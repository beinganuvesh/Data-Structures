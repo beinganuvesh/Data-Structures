{
 "cells": [
  {
   "cell_type": "markdown",
   "metadata": {},
   "source": [
    "# INHERITANCE"
   ]
  },
  {
   "cell_type": "code",
   "execution_count": 24,
   "metadata": {},
   "outputs": [],
   "source": [
    "class Vehical:\n",
    "    \n",
    "    # PARENT CLASS\n",
    "    def __init__(self, color, maxSpeed, Type):\n",
    "        self.color = color\n",
    "        self.maxSpeed = maxSpeed\n",
    "        self.Type = Type\n",
    "        \n",
    "    def print_(self):\n",
    "        print(self.color)\n",
    "        print(self.maxSpeed)\n",
    "        print(self.Type)\n",
    "\n",
    "# CHILD CLASS\n",
    "class Car(Vehical):\n",
    "    \n",
    "    def __init__(self, color, maxSpeed, Type, numGears, Average):\n",
    "        super().__init__(color, maxSpeed, Type)\n",
    "        self.numGears = numGears\n",
    "        self.Average = Average\n",
    "    \n",
    "    def print_car(self):\n",
    "        super().print_()\n",
    "        print(self.numGears)\n",
    "        print(self.Average)"
   ]
  },
  {
   "cell_type": "code",
   "execution_count": 25,
   "metadata": {},
   "outputs": [
    {
     "name": "stdout",
     "output_type": "stream",
     "text": [
      "Black\n",
      "150\n",
      "Sedan\n",
      "6\n",
      "20\n"
     ]
    }
   ],
   "source": [
    "c = Car('Black', 150, 'Sedan', 6, 20)\n",
    "c.print_car()"
   ]
  },
  {
   "cell_type": "markdown",
   "metadata": {},
   "source": [
    "#### Accessing Private Members"
   ]
  },
  {
   "cell_type": "code",
   "execution_count": 27,
   "metadata": {},
   "outputs": [
    {
     "name": "stdout",
     "output_type": "stream",
     "text": [
      "Color : red\n",
      "MaxSpeed : 15\n",
      "NumGears : 3\n",
      "IsConvertible : False\n"
     ]
    }
   ],
   "source": [
    "class Vehicle:\n",
    "\n",
    "\tdef __init__(self,color,maxSpeed):\n",
    "\t\tself.color = color\n",
    "\t\tself.__maxSpeed = maxSpeed\n",
    "\n",
    "\tdef getMaxSpeed(self):\n",
    "\t\treturn self.__maxSpeed\n",
    "\n",
    "\tdef setMaxSpeed(self,maxSpeed):\n",
    "\t\tself.__maxSpeed = maxSpeed\n",
    "\n",
    "class Car(Vehicle):\n",
    "\n",
    "\tdef __init__(self,color,maxSpeed,numGears,isConvertible):\n",
    "\n",
    "\t\tsuper().__init__(color,maxSpeed)\n",
    "\t\tself.numGears = numGears\n",
    "\t\tself.isConvertible = isConvertible\n",
    "\n",
    "\tdef printCar(self):\n",
    "\t\tprint(\"Color :\" ,self.color)\n",
    "\t\tprint(\"MaxSpeed :\",self.getMaxSpeed())\n",
    "\t\tprint(\"NumGears :\",self.numGears)\n",
    "\t\tprint(\"IsConvertible :\", self.isConvertible)\n",
    "\n",
    "\n",
    "c = Car(\"red\",15,3,False)\n",
    "c.printCar()"
   ]
  },
  {
   "cell_type": "code",
   "execution_count": null,
   "metadata": {},
   "outputs": [],
   "source": []
  }
 ],
 "metadata": {
  "kernelspec": {
   "display_name": "Python 3",
   "language": "python",
   "name": "python3"
  },
  "language_info": {
   "codemirror_mode": {
    "name": "ipython",
    "version": 3
   },
   "file_extension": ".py",
   "mimetype": "text/x-python",
   "name": "python",
   "nbconvert_exporter": "python",
   "pygments_lexer": "ipython3",
   "version": "3.7.4"
  }
 },
 "nbformat": 4,
 "nbformat_minor": 4
}
